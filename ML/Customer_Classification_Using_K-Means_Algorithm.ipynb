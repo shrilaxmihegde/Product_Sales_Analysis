{
 "cells": [
  {
   "cell_type": "code",
   "execution_count": 42,
   "id": "70802981",
   "metadata": {},
   "outputs": [],
   "source": [
    "#importing all relevant liabraries\n",
    "\n",
    "import warnings\n",
    "warnings.filterwarnings('ignore')\n",
    "import numpy as np\n",
    "import pandas as pd\n",
    "import matplotlib.pyplot as plt\n",
    "import seaborn as sns\n",
    "\n",
    "import datetime as dt\n",
    "\n",
    "from sklearn.neighbors import NearestNeighbors\n",
    "from random import sample\n",
    "from numpy.random import uniform\n",
    "from math import isnan\n",
    " \n",
    "\n",
    "import sklearn\n",
    "from sklearn.preprocessing import StandardScaler\n",
    "from sklearn.cluster import KMeans\n",
    "from sklearn.metrics import silhouette_score\n",
    "\n",
    "from scipy.cluster.hierarchy import linkage\n",
    "from scipy.cluster.hierarchy import dendrogram\n",
    "\n",
    "import plotly.express as px\n",
    "import hvplot.pandas"
   ]
  },
  {
   "cell_type": "code",
   "execution_count": 43,
   "id": "11a7528b",
   "metadata": {},
   "outputs": [
    {
     "data": {
      "text/html": [
       "<div>\n",
       "<style scoped>\n",
       "    .dataframe tbody tr th:only-of-type {\n",
       "        vertical-align: middle;\n",
       "    }\n",
       "\n",
       "    .dataframe tbody tr th {\n",
       "        vertical-align: top;\n",
       "    }\n",
       "\n",
       "    .dataframe thead th {\n",
       "        text-align: right;\n",
       "    }\n",
       "</style>\n",
       "<table border=\"1\" class=\"dataframe\">\n",
       "  <thead>\n",
       "    <tr style=\"text-align: right;\">\n",
       "      <th></th>\n",
       "      <th>ordernumber</th>\n",
       "      <th>sales_channel</th>\n",
       "      <th>warehousecode</th>\n",
       "      <th>procureddate</th>\n",
       "      <th>orderdate</th>\n",
       "      <th>shipdate</th>\n",
       "      <th>deliverydate</th>\n",
       "      <th>currencycode</th>\n",
       "      <th>salesteamid</th>\n",
       "      <th>customerid</th>\n",
       "      <th>storeid</th>\n",
       "      <th>productid</th>\n",
       "      <th>order_quantity</th>\n",
       "      <th>discount_applied</th>\n",
       "      <th>unit_price</th>\n",
       "      <th>unit_cost</th>\n",
       "      <th>order_total</th>\n",
       "      <th>order_discount</th>\n",
       "      <th>grand_total</th>\n",
       "    </tr>\n",
       "  </thead>\n",
       "  <tbody>\n",
       "    <tr>\n",
       "      <th>0</th>\n",
       "      <td>SO - 000101</td>\n",
       "      <td>In-Store</td>\n",
       "      <td>WARE-UHY1004</td>\n",
       "      <td>2017-12-31</td>\n",
       "      <td>2018-05-31</td>\n",
       "      <td>2018-06-14</td>\n",
       "      <td>2018-06-19</td>\n",
       "      <td>USD</td>\n",
       "      <td>6</td>\n",
       "      <td>15</td>\n",
       "      <td>259</td>\n",
       "      <td>12</td>\n",
       "      <td>5</td>\n",
       "      <td>0.075</td>\n",
       "      <td>1963.1</td>\n",
       "      <td>1001.181</td>\n",
       "      <td>9815.5</td>\n",
       "      <td>736.1625</td>\n",
       "      <td>9079.3375</td>\n",
       "    </tr>\n",
       "    <tr>\n",
       "      <th>1</th>\n",
       "      <td>SO - 000102</td>\n",
       "      <td>Online</td>\n",
       "      <td>WARE-NMK1003</td>\n",
       "      <td>2017-12-31</td>\n",
       "      <td>2018-05-31</td>\n",
       "      <td>2018-06-22</td>\n",
       "      <td>2018-07-02</td>\n",
       "      <td>USD</td>\n",
       "      <td>14</td>\n",
       "      <td>20</td>\n",
       "      <td>196</td>\n",
       "      <td>27</td>\n",
       "      <td>3</td>\n",
       "      <td>0.075</td>\n",
       "      <td>3939.6</td>\n",
       "      <td>3348.660</td>\n",
       "      <td>11818.8</td>\n",
       "      <td>886.4100</td>\n",
       "      <td>10932.3900</td>\n",
       "    </tr>\n",
       "    <tr>\n",
       "      <th>2</th>\n",
       "      <td>SO - 000103</td>\n",
       "      <td>Distributor</td>\n",
       "      <td>WARE-UHY1004</td>\n",
       "      <td>2017-12-31</td>\n",
       "      <td>2018-05-31</td>\n",
       "      <td>2018-06-21</td>\n",
       "      <td>2018-07-01</td>\n",
       "      <td>USD</td>\n",
       "      <td>21</td>\n",
       "      <td>16</td>\n",
       "      <td>213</td>\n",
       "      <td>16</td>\n",
       "      <td>1</td>\n",
       "      <td>0.050</td>\n",
       "      <td>1775.5</td>\n",
       "      <td>781.220</td>\n",
       "      <td>1775.5</td>\n",
       "      <td>88.7750</td>\n",
       "      <td>1686.7250</td>\n",
       "    </tr>\n",
       "    <tr>\n",
       "      <th>3</th>\n",
       "      <td>SO - 000104</td>\n",
       "      <td>Wholesale</td>\n",
       "      <td>WARE-NMK1003</td>\n",
       "      <td>2017-12-31</td>\n",
       "      <td>2018-05-31</td>\n",
       "      <td>2018-06-02</td>\n",
       "      <td>2018-06-07</td>\n",
       "      <td>USD</td>\n",
       "      <td>28</td>\n",
       "      <td>48</td>\n",
       "      <td>107</td>\n",
       "      <td>23</td>\n",
       "      <td>8</td>\n",
       "      <td>0.075</td>\n",
       "      <td>2324.9</td>\n",
       "      <td>1464.687</td>\n",
       "      <td>18599.2</td>\n",
       "      <td>1394.9400</td>\n",
       "      <td>17204.2600</td>\n",
       "    </tr>\n",
       "    <tr>\n",
       "      <th>4</th>\n",
       "      <td>SO - 000105</td>\n",
       "      <td>Distributor</td>\n",
       "      <td>WARE-NMK1003</td>\n",
       "      <td>2018-04-10</td>\n",
       "      <td>2018-05-31</td>\n",
       "      <td>2018-06-16</td>\n",
       "      <td>2018-06-26</td>\n",
       "      <td>USD</td>\n",
       "      <td>22</td>\n",
       "      <td>49</td>\n",
       "      <td>111</td>\n",
       "      <td>26</td>\n",
       "      <td>8</td>\n",
       "      <td>0.100</td>\n",
       "      <td>1822.4</td>\n",
       "      <td>1476.144</td>\n",
       "      <td>14579.2</td>\n",
       "      <td>1457.9200</td>\n",
       "      <td>13121.2800</td>\n",
       "    </tr>\n",
       "    <tr>\n",
       "      <th>...</th>\n",
       "      <td>...</td>\n",
       "      <td>...</td>\n",
       "      <td>...</td>\n",
       "      <td>...</td>\n",
       "      <td>...</td>\n",
       "      <td>...</td>\n",
       "      <td>...</td>\n",
       "      <td>...</td>\n",
       "      <td>...</td>\n",
       "      <td>...</td>\n",
       "      <td>...</td>\n",
       "      <td>...</td>\n",
       "      <td>...</td>\n",
       "      <td>...</td>\n",
       "      <td>...</td>\n",
       "      <td>...</td>\n",
       "      <td>...</td>\n",
       "      <td>...</td>\n",
       "      <td>...</td>\n",
       "    </tr>\n",
       "    <tr>\n",
       "      <th>7986</th>\n",
       "      <td>SO - 0008087</td>\n",
       "      <td>In-Store</td>\n",
       "      <td>WARE-MKL1006</td>\n",
       "      <td>2020-09-26</td>\n",
       "      <td>2020-12-30</td>\n",
       "      <td>2021-01-07</td>\n",
       "      <td>2021-01-14</td>\n",
       "      <td>USD</td>\n",
       "      <td>9</td>\n",
       "      <td>41</td>\n",
       "      <td>339</td>\n",
       "      <td>29</td>\n",
       "      <td>1</td>\n",
       "      <td>0.075</td>\n",
       "      <td>234.5</td>\n",
       "      <td>121.940</td>\n",
       "      <td>234.5</td>\n",
       "      <td>17.5875</td>\n",
       "      <td>216.9125</td>\n",
       "    </tr>\n",
       "    <tr>\n",
       "      <th>7987</th>\n",
       "      <td>SO - 0008088</td>\n",
       "      <td>Online</td>\n",
       "      <td>WARE-NMK1003</td>\n",
       "      <td>2020-09-26</td>\n",
       "      <td>2020-12-30</td>\n",
       "      <td>2021-01-02</td>\n",
       "      <td>2021-01-04</td>\n",
       "      <td>USD</td>\n",
       "      <td>14</td>\n",
       "      <td>29</td>\n",
       "      <td>202</td>\n",
       "      <td>3</td>\n",
       "      <td>6</td>\n",
       "      <td>0.050</td>\n",
       "      <td>3202.6</td>\n",
       "      <td>1921.560</td>\n",
       "      <td>19215.6</td>\n",
       "      <td>960.7800</td>\n",
       "      <td>18254.8200</td>\n",
       "    </tr>\n",
       "    <tr>\n",
       "      <th>7988</th>\n",
       "      <td>SO - 0008089</td>\n",
       "      <td>Online</td>\n",
       "      <td>WARE-UHY1004</td>\n",
       "      <td>2020-09-26</td>\n",
       "      <td>2020-12-30</td>\n",
       "      <td>2021-01-23</td>\n",
       "      <td>2021-01-26</td>\n",
       "      <td>USD</td>\n",
       "      <td>14</td>\n",
       "      <td>32</td>\n",
       "      <td>241</td>\n",
       "      <td>35</td>\n",
       "      <td>5</td>\n",
       "      <td>0.200</td>\n",
       "      <td>3825.7</td>\n",
       "      <td>2792.761</td>\n",
       "      <td>19128.5</td>\n",
       "      <td>3825.7000</td>\n",
       "      <td>15302.8000</td>\n",
       "    </tr>\n",
       "    <tr>\n",
       "      <th>7989</th>\n",
       "      <td>SO - 0008090</td>\n",
       "      <td>Online</td>\n",
       "      <td>WARE-NMK1003</td>\n",
       "      <td>2020-09-26</td>\n",
       "      <td>2020-12-30</td>\n",
       "      <td>2021-01-20</td>\n",
       "      <td>2021-01-25</td>\n",
       "      <td>USD</td>\n",
       "      <td>20</td>\n",
       "      <td>42</td>\n",
       "      <td>112</td>\n",
       "      <td>36</td>\n",
       "      <td>8</td>\n",
       "      <td>0.100</td>\n",
       "      <td>1072.0</td>\n",
       "      <td>804.000</td>\n",
       "      <td>8576.0</td>\n",
       "      <td>857.6000</td>\n",
       "      <td>7718.4000</td>\n",
       "    </tr>\n",
       "    <tr>\n",
       "      <th>7990</th>\n",
       "      <td>SO - 0008091</td>\n",
       "      <td>In-Store</td>\n",
       "      <td>WARE-UHY1004</td>\n",
       "      <td>2020-09-26</td>\n",
       "      <td>2020-12-30</td>\n",
       "      <td>2021-01-13</td>\n",
       "      <td>2021-01-19</td>\n",
       "      <td>USD</td>\n",
       "      <td>6</td>\n",
       "      <td>41</td>\n",
       "      <td>237</td>\n",
       "      <td>43</td>\n",
       "      <td>5</td>\n",
       "      <td>0.075</td>\n",
       "      <td>2211.0</td>\n",
       "      <td>1370.820</td>\n",
       "      <td>11055.0</td>\n",
       "      <td>829.1250</td>\n",
       "      <td>10225.8750</td>\n",
       "    </tr>\n",
       "  </tbody>\n",
       "</table>\n",
       "<p>7991 rows × 19 columns</p>\n",
       "</div>"
      ],
      "text/plain": [
       "       ordernumber sales_channel warehousecode procureddate   orderdate  \\\n",
       "0      SO - 000101      In-Store  WARE-UHY1004   2017-12-31  2018-05-31   \n",
       "1      SO - 000102        Online  WARE-NMK1003   2017-12-31  2018-05-31   \n",
       "2      SO - 000103   Distributor  WARE-UHY1004   2017-12-31  2018-05-31   \n",
       "3      SO - 000104     Wholesale  WARE-NMK1003   2017-12-31  2018-05-31   \n",
       "4      SO - 000105   Distributor  WARE-NMK1003   2018-04-10  2018-05-31   \n",
       "...            ...           ...           ...          ...         ...   \n",
       "7986  SO - 0008087      In-Store  WARE-MKL1006   2020-09-26  2020-12-30   \n",
       "7987  SO - 0008088        Online  WARE-NMK1003   2020-09-26  2020-12-30   \n",
       "7988  SO - 0008089        Online  WARE-UHY1004   2020-09-26  2020-12-30   \n",
       "7989  SO - 0008090        Online  WARE-NMK1003   2020-09-26  2020-12-30   \n",
       "7990  SO - 0008091      In-Store  WARE-UHY1004   2020-09-26  2020-12-30   \n",
       "\n",
       "        shipdate deliverydate currencycode  salesteamid  customerid  storeid  \\\n",
       "0     2018-06-14   2018-06-19          USD            6          15      259   \n",
       "1     2018-06-22   2018-07-02          USD           14          20      196   \n",
       "2     2018-06-21   2018-07-01          USD           21          16      213   \n",
       "3     2018-06-02   2018-06-07          USD           28          48      107   \n",
       "4     2018-06-16   2018-06-26          USD           22          49      111   \n",
       "...          ...          ...          ...          ...         ...      ...   \n",
       "7986  2021-01-07   2021-01-14          USD            9          41      339   \n",
       "7987  2021-01-02   2021-01-04          USD           14          29      202   \n",
       "7988  2021-01-23   2021-01-26          USD           14          32      241   \n",
       "7989  2021-01-20   2021-01-25          USD           20          42      112   \n",
       "7990  2021-01-13   2021-01-19          USD            6          41      237   \n",
       "\n",
       "      productid  order_quantity  discount_applied  unit_price  unit_cost  \\\n",
       "0            12               5             0.075      1963.1   1001.181   \n",
       "1            27               3             0.075      3939.6   3348.660   \n",
       "2            16               1             0.050      1775.5    781.220   \n",
       "3            23               8             0.075      2324.9   1464.687   \n",
       "4            26               8             0.100      1822.4   1476.144   \n",
       "...         ...             ...               ...         ...        ...   \n",
       "7986         29               1             0.075       234.5    121.940   \n",
       "7987          3               6             0.050      3202.6   1921.560   \n",
       "7988         35               5             0.200      3825.7   2792.761   \n",
       "7989         36               8             0.100      1072.0    804.000   \n",
       "7990         43               5             0.075      2211.0   1370.820   \n",
       "\n",
       "      order_total  order_discount  grand_total  \n",
       "0          9815.5        736.1625    9079.3375  \n",
       "1         11818.8        886.4100   10932.3900  \n",
       "2          1775.5         88.7750    1686.7250  \n",
       "3         18599.2       1394.9400   17204.2600  \n",
       "4         14579.2       1457.9200   13121.2800  \n",
       "...           ...             ...          ...  \n",
       "7986        234.5         17.5875     216.9125  \n",
       "7987      19215.6        960.7800   18254.8200  \n",
       "7988      19128.5       3825.7000   15302.8000  \n",
       "7989       8576.0        857.6000    7718.4000  \n",
       "7990      11055.0        829.1250   10225.8750  \n",
       "\n",
       "[7991 rows x 19 columns]"
      ]
     },
     "execution_count": 43,
     "metadata": {},
     "output_type": "execute_result"
    }
   ],
   "source": [
    "# Read Csv\n",
    "data = pd.read_csv(\"../Data/sales_order_sheet_processed.csv\", sep=\",\", encoding=\"ISO-8859-1\", header=0)\n",
    "data"
   ]
  },
  {
   "cell_type": "code",
   "execution_count": 44,
   "id": "86191aae",
   "metadata": {},
   "outputs": [
    {
     "data": {
      "text/plain": [
       "ordernumber         0\n",
       "sales_channel       0\n",
       "warehousecode       0\n",
       "procureddate        0\n",
       "orderdate           0\n",
       "shipdate            0\n",
       "deliverydate        0\n",
       "currencycode        0\n",
       "salesteamid         0\n",
       "customerid          0\n",
       "storeid             0\n",
       "productid           0\n",
       "order_quantity      0\n",
       "discount_applied    0\n",
       "unit_price          0\n",
       "unit_cost           0\n",
       "order_total         0\n",
       "order_discount      0\n",
       "grand_total         0\n",
       "dtype: int64"
      ]
     },
     "execution_count": 44,
     "metadata": {},
     "output_type": "execute_result"
    }
   ],
   "source": [
    "# Find the null values\n",
    "data.isnull().sum()"
   ]
  },
  {
   "cell_type": "code",
   "execution_count": 45,
   "id": "6ea04602",
   "metadata": {},
   "outputs": [
    {
     "name": "stdout",
     "output_type": "stream",
     "text": [
      "Duplicate entries :0\n"
     ]
    }
   ],
   "source": [
    "# find duplicate from entries\n",
    "print (f\"Duplicate entries :{data.duplicated().sum()}\")"
   ]
  },
  {
   "cell_type": "code",
   "execution_count": 46,
   "id": "d8b76e51",
   "metadata": {},
   "outputs": [
    {
     "data": {
      "text/html": [
       "<div>\n",
       "<style scoped>\n",
       "    .dataframe tbody tr th:only-of-type {\n",
       "        vertical-align: middle;\n",
       "    }\n",
       "\n",
       "    .dataframe tbody tr th {\n",
       "        vertical-align: top;\n",
       "    }\n",
       "\n",
       "    .dataframe thead th {\n",
       "        text-align: right;\n",
       "    }\n",
       "</style>\n",
       "<table border=\"1\" class=\"dataframe\">\n",
       "  <thead>\n",
       "    <tr style=\"text-align: right;\">\n",
       "      <th></th>\n",
       "      <th>customerid</th>\n",
       "      <th>order_total</th>\n",
       "    </tr>\n",
       "  </thead>\n",
       "  <tbody>\n",
       "    <tr>\n",
       "      <th>0</th>\n",
       "      <td>1</td>\n",
       "      <td>1322278.5</td>\n",
       "    </tr>\n",
       "    <tr>\n",
       "      <th>1</th>\n",
       "      <td>2</td>\n",
       "      <td>1346264.5</td>\n",
       "    </tr>\n",
       "    <tr>\n",
       "      <th>2</th>\n",
       "      <td>3</td>\n",
       "      <td>1831947.5</td>\n",
       "    </tr>\n",
       "    <tr>\n",
       "      <th>3</th>\n",
       "      <td>4</td>\n",
       "      <td>1770582.2</td>\n",
       "    </tr>\n",
       "    <tr>\n",
       "      <th>4</th>\n",
       "      <td>5</td>\n",
       "      <td>1609232.8</td>\n",
       "    </tr>\n",
       "  </tbody>\n",
       "</table>\n",
       "</div>"
      ],
      "text/plain": [
       "   customerid  order_total\n",
       "0           1    1322278.5\n",
       "1           2    1346264.5\n",
       "2           3    1831947.5\n",
       "3           4    1770582.2\n",
       "4           5    1609232.8"
      ]
     },
     "execution_count": 46,
     "metadata": {},
     "output_type": "execute_result"
    }
   ],
   "source": [
    "revenue_contributed = data.groupby('customerid')['order_total'].sum()\n",
    "revenue_contributed = revenue_contributed.reset_index()\n",
    "revenue_contributed.head()"
   ]
  },
  {
   "cell_type": "code",
   "execution_count": 47,
   "id": "cb523e6f",
   "metadata": {},
   "outputs": [
    {
     "data": {
      "text/html": [
       "<div>\n",
       "<style scoped>\n",
       "    .dataframe tbody tr th:only-of-type {\n",
       "        vertical-align: middle;\n",
       "    }\n",
       "\n",
       "    .dataframe tbody tr th {\n",
       "        vertical-align: top;\n",
       "    }\n",
       "\n",
       "    .dataframe thead th {\n",
       "        text-align: right;\n",
       "    }\n",
       "</style>\n",
       "<table border=\"1\" class=\"dataframe\">\n",
       "  <thead>\n",
       "    <tr style=\"text-align: right;\">\n",
       "      <th></th>\n",
       "      <th>customerid</th>\n",
       "      <th>orderdate</th>\n",
       "    </tr>\n",
       "  </thead>\n",
       "  <tbody>\n",
       "    <tr>\n",
       "      <th>0</th>\n",
       "      <td>1</td>\n",
       "      <td>152</td>\n",
       "    </tr>\n",
       "    <tr>\n",
       "      <th>1</th>\n",
       "      <td>2</td>\n",
       "      <td>135</td>\n",
       "    </tr>\n",
       "    <tr>\n",
       "      <th>2</th>\n",
       "      <td>3</td>\n",
       "      <td>181</td>\n",
       "    </tr>\n",
       "    <tr>\n",
       "      <th>3</th>\n",
       "      <td>4</td>\n",
       "      <td>167</td>\n",
       "    </tr>\n",
       "    <tr>\n",
       "      <th>4</th>\n",
       "      <td>5</td>\n",
       "      <td>159</td>\n",
       "    </tr>\n",
       "  </tbody>\n",
       "</table>\n",
       "</div>"
      ],
      "text/plain": [
       "   customerid  orderdate\n",
       "0           1        152\n",
       "1           2        135\n",
       "2           3        181\n",
       "3           4        167\n",
       "4           5        159"
      ]
     },
     "execution_count": 47,
     "metadata": {},
     "output_type": "execute_result"
    }
   ],
   "source": [
    "frequency = data.groupby('customerid')['orderdate'].count()\n",
    "frequency = frequency.reset_index()\n",
    "frequency.head()"
   ]
  },
  {
   "cell_type": "code",
   "execution_count": 48,
   "id": "cc2677e2",
   "metadata": {},
   "outputs": [
    {
     "data": {
      "text/plain": [
       "0      944 days\n",
       "1      944 days\n",
       "2      944 days\n",
       "3      944 days\n",
       "4      944 days\n",
       "         ...   \n",
       "7986     0 days\n",
       "7987     0 days\n",
       "7988     0 days\n",
       "7989     0 days\n",
       "7990     0 days\n",
       "Name: duration, Length: 7991, dtype: timedelta64[ns]"
      ]
     },
     "execution_count": 48,
     "metadata": {},
     "output_type": "execute_result"
    }
   ],
   "source": [
    "# convert the data duration in days \n",
    "data['orderdate'] = pd.to_datetime(data['orderdate'], format='%Y-%m-%d %H:%M')\n",
    "data['duration'] = data['orderdate'].max() - data['orderdate']\n",
    "data['duration']"
   ]
  },
  {
   "cell_type": "code",
   "execution_count": 49,
   "id": "2f2e3237",
   "metadata": {},
   "outputs": [
    {
     "data": {
      "text/html": [
       "<div>\n",
       "<style scoped>\n",
       "    .dataframe tbody tr th:only-of-type {\n",
       "        vertical-align: middle;\n",
       "    }\n",
       "\n",
       "    .dataframe tbody tr th {\n",
       "        vertical-align: top;\n",
       "    }\n",
       "\n",
       "    .dataframe thead th {\n",
       "        text-align: right;\n",
       "    }\n",
       "</style>\n",
       "<table border=\"1\" class=\"dataframe\">\n",
       "  <thead>\n",
       "    <tr style=\"text-align: right;\">\n",
       "      <th></th>\n",
       "      <th>customerid</th>\n",
       "      <th>duration</th>\n",
       "    </tr>\n",
       "  </thead>\n",
       "  <tbody>\n",
       "    <tr>\n",
       "      <th>0</th>\n",
       "      <td>1</td>\n",
       "      <td>7 days</td>\n",
       "    </tr>\n",
       "    <tr>\n",
       "      <th>1</th>\n",
       "      <td>2</td>\n",
       "      <td>7 days</td>\n",
       "    </tr>\n",
       "    <tr>\n",
       "      <th>2</th>\n",
       "      <td>3</td>\n",
       "      <td>8 days</td>\n",
       "    </tr>\n",
       "    <tr>\n",
       "      <th>3</th>\n",
       "      <td>4</td>\n",
       "      <td>3 days</td>\n",
       "    </tr>\n",
       "    <tr>\n",
       "      <th>4</th>\n",
       "      <td>5</td>\n",
       "      <td>28 days</td>\n",
       "    </tr>\n",
       "  </tbody>\n",
       "</table>\n",
       "</div>"
      ],
      "text/plain": [
       "   customerid duration\n",
       "0           1   7 days\n",
       "1           2   7 days\n",
       "2           3   8 days\n",
       "3           4   3 days\n",
       "4           5  28 days"
      ]
     },
     "execution_count": 49,
     "metadata": {},
     "output_type": "execute_result"
    }
   ],
   "source": [
    "# Group by customerid and duration min \n",
    "recency = data.groupby('customerid')['duration'].min()\n",
    "recency = recency.reset_index()\n",
    "recency.head()"
   ]
  },
  {
   "cell_type": "code",
   "execution_count": 50,
   "id": "16ff3ec9",
   "metadata": {},
   "outputs": [
    {
     "data": {
      "text/html": [
       "<div>\n",
       "<style scoped>\n",
       "    .dataframe tbody tr th:only-of-type {\n",
       "        vertical-align: middle;\n",
       "    }\n",
       "\n",
       "    .dataframe tbody tr th {\n",
       "        vertical-align: top;\n",
       "    }\n",
       "\n",
       "    .dataframe thead th {\n",
       "        text-align: right;\n",
       "    }\n",
       "</style>\n",
       "<table border=\"1\" class=\"dataframe\">\n",
       "  <thead>\n",
       "    <tr style=\"text-align: right;\">\n",
       "      <th></th>\n",
       "      <th>customerid</th>\n",
       "      <th>order_total</th>\n",
       "      <th>frequency</th>\n",
       "      <th>recency</th>\n",
       "    </tr>\n",
       "  </thead>\n",
       "  <tbody>\n",
       "    <tr>\n",
       "      <th>0</th>\n",
       "      <td>1</td>\n",
       "      <td>1322278.5</td>\n",
       "      <td>152</td>\n",
       "      <td>7</td>\n",
       "    </tr>\n",
       "    <tr>\n",
       "      <th>1</th>\n",
       "      <td>2</td>\n",
       "      <td>1346264.5</td>\n",
       "      <td>135</td>\n",
       "      <td>7</td>\n",
       "    </tr>\n",
       "    <tr>\n",
       "      <th>2</th>\n",
       "      <td>3</td>\n",
       "      <td>1831947.5</td>\n",
       "      <td>181</td>\n",
       "      <td>8</td>\n",
       "    </tr>\n",
       "    <tr>\n",
       "      <th>3</th>\n",
       "      <td>4</td>\n",
       "      <td>1770582.2</td>\n",
       "      <td>167</td>\n",
       "      <td>3</td>\n",
       "    </tr>\n",
       "    <tr>\n",
       "      <th>4</th>\n",
       "      <td>5</td>\n",
       "      <td>1609232.8</td>\n",
       "      <td>159</td>\n",
       "      <td>28</td>\n",
       "    </tr>\n",
       "  </tbody>\n",
       "</table>\n",
       "</div>"
      ],
      "text/plain": [
       "   customerid  order_total  frequency  recency\n",
       "0           1    1322278.5        152        7\n",
       "1           2    1346264.5        135        7\n",
       "2           3    1831947.5        181        8\n",
       "3           4    1770582.2        167        3\n",
       "4           5    1609232.8        159       28"
      ]
     },
     "execution_count": 50,
     "metadata": {},
     "output_type": "execute_result"
    }
   ],
   "source": [
    "#merging data\n",
    "rf = pd.merge(revenue_contributed, frequency, on='customerid', how='inner')\n",
    "rfm = pd.merge(rf, recency, on='customerid', how='inner')\n",
    "rfm.columns = ['customerid', 'order_total', 'frequency', 'recency']\n",
    "rfm['recency'] = rfm['recency'].dt.days\n",
    "rfm.head()"
   ]
  },
  {
   "cell_type": "code",
   "execution_count": 51,
   "id": "013c50b8",
   "metadata": {},
   "outputs": [
    {
     "data": {
      "image/png": "[encoded data removed]",
      "text/plain": [
       "<Figure size 432x288 with 1 Axes>"
      ]
     },
     "metadata": {
      "needs_background": "light"
     },
     "output_type": "display_data"
    },
    {
     "data": {
      "image/png": "[encoded data removed]",
      "text/plain": [
       "<Figure size 432x288 with 1 Axes>"
      ]
     },
     "metadata": {
      "needs_background": "light"
     },
     "output_type": "display_data"
    },
    {
     "data": {
      "image/png": "[encoded data removed]",
      "text/plain": [
       "<Figure size 432x288 with 1 Axes>"
      ]
     },
     "metadata": {
      "needs_background": "light"
     },
     "output_type": "display_data"
    }
   ],
   "source": [
    "# Box plots\n",
    "plt.boxplot(rfm['order_total'])\n",
    "plt.show()\n",
    "plt.boxplot(rfm['frequency'])\n",
    "plt.show()\n",
    "plt.boxplot(rfm['recency'])\n",
    "plt.show()"
   ]
  },
  {
   "cell_type": "markdown",
   "id": "fd470525",
   "metadata": {},
   "source": [
    "## inertia"
   ]
  },
  {
   "cell_type": "code",
   "execution_count": 52,
   "id": "a57df96e",
   "metadata": {},
   "outputs": [],
   "source": [
    "inertia = []\n",
    "k = list(range(1, 11))\n",
    "\n",
    "# Calculate the inertia for the range of K values\n",
    "for i in k:\n",
    "    km = KMeans(n_clusters=i, random_state=0)\n",
    "    km.fit(rfm)\n",
    "    inertia.append(km.inertia_)"
   ]
  },
  {
   "cell_type": "code",
   "execution_count": 53,
   "id": "9011bffb",
   "metadata": {},
   "outputs": [
    {
     "data": {
      "text/plain": [
       "[1971708377855.7292,\n",
       " 567503375521.5507,\n",
       " 351107972345.5323,\n",
       " 166846629810.4687,\n",
       " 95394242280.20978,\n",
       " 61146265512.20546,\n",
       " 47139208414.53371,\n",
       " 38294662492.52459,\n",
       " 25495731934.9211,\n",
       " 19514900372.92704]"
      ]
     },
     "execution_count": 53,
     "metadata": {},
     "output_type": "execute_result"
    }
   ],
   "source": [
    "inertia"
   ]
  },
  {
   "cell_type": "code",
   "execution_count": 54,
   "id": "1a9367b6",
   "metadata": {},
   "outputs": [
    {
     "data": {
      "text/plain": [
       "{'k': [1, 2, 3, 4, 5, 6, 7, 8, 9, 10],\n",
       " 'inertia': [1971708377855.7292,\n",
       "  567503375521.5507,\n",
       "  351107972345.5323,\n",
       "  166846629810.4687,\n",
       "  95394242280.20978,\n",
       "  61146265512.20546,\n",
       "  47139208414.53371,\n",
       "  38294662492.52459,\n",
       "  25495731934.9211,\n",
       "  19514900372.92704]}"
      ]
     },
     "execution_count": 54,
     "metadata": {},
     "output_type": "execute_result"
    }
   ],
   "source": [
    "elbow_data = {\"k\": k, \"inertia\" : inertia }\n",
    "elbow_data"
   ]
  },
  {
   "cell_type": "code",
   "execution_count": 55,
   "id": "51d621c0",
   "metadata": {},
   "outputs": [
    {
     "data": {
      "text/html": [
       "<div>\n",
       "<style scoped>\n",
       "    .dataframe tbody tr th:only-of-type {\n",
       "        vertical-align: middle;\n",
       "    }\n",
       "\n",
       "    .dataframe tbody tr th {\n",
       "        vertical-align: top;\n",
       "    }\n",
       "\n",
       "    .dataframe thead th {\n",
       "        text-align: right;\n",
       "    }\n",
       "</style>\n",
       "<table border=\"1\" class=\"dataframe\">\n",
       "  <thead>\n",
       "    <tr style=\"text-align: right;\">\n",
       "      <th></th>\n",
       "      <th>k</th>\n",
       "      <th>inertia</th>\n",
       "    </tr>\n",
       "  </thead>\n",
       "  <tbody>\n",
       "    <tr>\n",
       "      <th>0</th>\n",
       "      <td>1</td>\n",
       "      <td>1.971708e+12</td>\n",
       "    </tr>\n",
       "    <tr>\n",
       "      <th>1</th>\n",
       "      <td>2</td>\n",
       "      <td>5.675034e+11</td>\n",
       "    </tr>\n",
       "    <tr>\n",
       "      <th>2</th>\n",
       "      <td>3</td>\n",
       "      <td>3.511080e+11</td>\n",
       "    </tr>\n",
       "    <tr>\n",
       "      <th>3</th>\n",
       "      <td>4</td>\n",
       "      <td>1.668466e+11</td>\n",
       "    </tr>\n",
       "    <tr>\n",
       "      <th>4</th>\n",
       "      <td>5</td>\n",
       "      <td>9.539424e+10</td>\n",
       "    </tr>\n",
       "    <tr>\n",
       "      <th>5</th>\n",
       "      <td>6</td>\n",
       "      <td>6.114627e+10</td>\n",
       "    </tr>\n",
       "    <tr>\n",
       "      <th>6</th>\n",
       "      <td>7</td>\n",
       "      <td>4.713921e+10</td>\n",
       "    </tr>\n",
       "    <tr>\n",
       "      <th>7</th>\n",
       "      <td>8</td>\n",
       "      <td>3.829466e+10</td>\n",
       "    </tr>\n",
       "    <tr>\n",
       "      <th>8</th>\n",
       "      <td>9</td>\n",
       "      <td>2.549573e+10</td>\n",
       "    </tr>\n",
       "    <tr>\n",
       "      <th>9</th>\n",
       "      <td>10</td>\n",
       "      <td>1.951490e+10</td>\n",
       "    </tr>\n",
       "  </tbody>\n",
       "</table>\n",
       "</div>"
      ],
      "text/plain": [
       "    k       inertia\n",
       "0   1  1.971708e+12\n",
       "1   2  5.675034e+11\n",
       "2   3  3.511080e+11\n",
       "3   4  1.668466e+11\n",
       "4   5  9.539424e+10\n",
       "5   6  6.114627e+10\n",
       "6   7  4.713921e+10\n",
       "7   8  3.829466e+10\n",
       "8   9  2.549573e+10\n",
       "9  10  1.951490e+10"
      ]
     },
     "execution_count": 55,
     "metadata": {},
     "output_type": "execute_result"
    }
   ],
   "source": [
    "df_elbow =pd.DataFrame(elbow_data)\n",
    "df_elbow"
   ]
  },
  {
   "cell_type": "code",
   "execution_count": null,
   "id": "5eb21e67",
   "metadata": {},
   "outputs": [],
   "source": []
  },
  {
   "cell_type": "code",
   "execution_count": 56,
   "id": "f7b99206",
   "metadata": {},
   "outputs": [
    {
     "data": {},
     "metadata": {},
     "output_type": "display_data"
    },
    {
     "data": {
      "application/vnd.holoviews_exec.v0+json": "",
      "text/html": [
       "<div id='3036'>\n",
       "\n",
       "\n",
       "\n",
       "\n",
       "\n",
       "  <div class=\"bk-root\" id=\"a70559d0-2004-4f1a-8ed1-dafedd92522e\" data-root-id=\"3036\"></div>\n",
       "</div>\n",
       "<script type=\"application/javascript\">(function(root) {\n",
       "  function embed_document(root) {\n",
       "    var docs_json = {\"20beeacb-b1bb-4841-9773-921d6bc0239f\":{\"defs\":[{\"extends\":null,\"module\":null,\"name\":\"ReactiveHTML1\",\"overrides\":[],\"properties\":[]},{\"extends\":null,\"module\":null,\"name\":\"FlexBox1\",\"overrides\":[],\"properties\":[{\"default\":\"flex-start\",\"kind\":null,\"name\":\"align_content\"},{\"default\":\"flex-start\",\"kind\":null,\"name\":\"align_items\"},{\"default\":\"row\",\"kind\":null,\"name\":\"flex_direction\"},{\"default\":\"wrap\",\"kind\":null,\"name\":\"flex_wrap\"},{\"default\":\"flex-start\",\"kind\":null,\"name\":\"justify_content\"}]},{\"extends\":null,\"module\":null,\"name\":\"GridStack1\",\"overrides\":[],\"properties\":[{\"default\":\"warn\",\"kind\":null,\"name\":\"mode\"},{\"default\":null,\"kind\":null,\"name\":\"ncols\"},{\"default\":null,\"kind\":null,\"name\":\"nrows\"},{\"default\":true,\"kind\":null,\"name\":\"allow_resize\"},{\"default\":true,\"kind\":null,\"name\":\"allow_drag\"},{\"default\":[],\"kind\":null,\"name\":\"state\"}]},{\"extends\":null,\"module\":null,\"name\":\"click1\",\"overrides\":[],\"properties\":[{\"default\":\"\",\"kind\":null,\"name\":\"terminal_output\"},{\"default\":\"\",\"kind\":null,\"name\":\"debug_name\"},{\"default\":0,\"kind\":null,\"name\":\"clears\"}]},{\"extends\":null,\"module\":null,\"name\":\"TemplateActions1\",\"overrides\":[],\"properties\":[{\"default\":0,\"kind\":null,\"name\":\"open_modal\"},{\"default\":0,\"kind\":null,\"name\":\"close_modal\"}]},{\"extends\":null,\"module\":null,\"name\":\"MaterialTemplateActions1\",\"overrides\":[],\"properties\":[{\"default\":0,\"kind\":null,\"name\":\"open_modal\"},{\"default\":0,\"kind\":null,\"name\":\"close_modal\"}]}],\"roots\":{\"references\":[{\"attributes\":{},\"id\":\"3095\",\"type\":\"UnionRenderers\"},{\"attributes\":{\"axis_label\":\"k\",\"coordinates\":null,\"formatter\":{\"id\":\"3082\"},\"group\":null,\"major_label_policy\":{\"id\":\"3083\"},\"ticker\":{\"id\":\"3080\"}},\"id\":\"3050\",\"type\":\"LinearAxis\"},{\"attributes\":{},\"id\":\"3062\",\"type\":\"ResetTool\"},{\"attributes\":{\"coordinates\":null,\"data_source\":{\"id\":\"3071\"},\"glyph\":{\"id\":\"3074\"},\"group\":null,\"hover_glyph\":null,\"muted_glyph\":{\"id\":\"3076\"},\"nonselection_glyph\":{\"id\":\"3075\"},\"selection_glyph\":{\"id\":\"3079\"},\"view\":{\"id\":\"3078\"}},\"id\":\"3077\",\"type\":\"GlyphRenderer\"},{\"attributes\":{},\"id\":\"3060\",\"type\":\"WheelZoomTool\"},{\"attributes\":{\"end\":2166927725604.0095,\"reset_end\":2166927725604.0095,\"reset_start\":-175704447375.3532,\"start\":-175704447375.3532,\"tags\":[[[\"inertia\",\"inertia\",null]]]},\"id\":\"3039\",\"type\":\"Range1d\"},{\"attributes\":{},\"id\":\"3059\",\"type\":\"PanTool\"},{\"attributes\":{},\"id\":\"3087\",\"type\":\"BasicTickFormatter\"},{\"attributes\":{\"source\":{\"id\":\"3071\"}},\"id\":\"3078\",\"type\":\"CDSView\"},{\"attributes\":{\"overlay\":{\"id\":\"3063\"}},\"id\":\"3061\",\"type\":\"BoxZoomTool\"},{\"attributes\":{\"line_color\":\"#30a2da\",\"line_width\":2,\"x\":{\"field\":\"k\"},\"y\":{\"field\":\"inertia\"}},\"id\":\"3074\",\"type\":\"Line\"},{\"attributes\":{},\"id\":\"3083\",\"type\":\"AllLabels\"},{\"attributes\":{\"line_color\":\"#30a2da\",\"line_width\":2,\"x\":{\"field\":\"k\"},\"y\":{\"field\":\"inertia\"}},\"id\":\"3079\",\"type\":\"Line\"},{\"attributes\":{},\"id\":\"3088\",\"type\":\"AllLabels\"},{\"attributes\":{},\"id\":\"3055\",\"type\":\"BasicTicker\"},{\"attributes\":{\"axis\":{\"id\":\"3054\"},\"coordinates\":null,\"dimension\":1,\"grid_line_color\":null,\"group\":null,\"ticker\":null},\"id\":\"3057\",\"type\":\"Grid\"},{\"attributes\":{\"coordinates\":null,\"group\":null,\"text\":\"Elbow Curve\",\"text_color\":\"black\",\"text_font_size\":\"12pt\"},\"id\":\"3042\",\"type\":\"Title\"},{\"attributes\":{},\"id\":\"3046\",\"type\":\"LinearScale\"},{\"attributes\":{},\"id\":\"3048\",\"type\":\"LinearScale\"},{\"attributes\":{\"children\":[{\"id\":\"3037\"},{\"id\":\"3041\"},{\"id\":\"3107\"}],\"margin\":[0,0,0,0],\"name\":\"Row06090\",\"tags\":[\"embedded\"]},\"id\":\"3036\",\"type\":\"Row\"},{\"attributes\":{\"bottom_units\":\"screen\",\"coordinates\":null,\"fill_alpha\":0.5,\"fill_color\":\"lightgrey\",\"group\":null,\"left_units\":\"screen\",\"level\":\"overlay\",\"line_alpha\":1.0,\"line_color\":\"black\",\"line_dash\":[4,4],\"line_width\":2,\"right_units\":\"screen\",\"syncable\":false,\"top_units\":\"screen\"},\"id\":\"3063\",\"type\":\"BoxAnnotation\"},{\"attributes\":{\"axis\":{\"id\":\"3050\"},\"coordinates\":null,\"grid_line_color\":null,\"group\":null,\"ticker\":null},\"id\":\"3053\",\"type\":\"Grid\"},{\"attributes\":{\"axis_label\":\"inertia\",\"coordinates\":null,\"formatter\":{\"id\":\"3087\"},\"group\":null,\"major_label_policy\":{\"id\":\"3088\"},\"ticker\":{\"id\":\"3055\"}},\"id\":\"3054\",\"type\":\"LinearAxis\"},{\"attributes\":{\"line_alpha\":0.2,\"line_color\":\"#30a2da\",\"line_width\":2,\"x\":{\"field\":\"k\"},\"y\":{\"field\":\"inertia\"}},\"id\":\"3076\",\"type\":\"Line\"},{\"attributes\":{\"ticks\":[1,2,3,4,5,6,7,8,9,10]},\"id\":\"3080\",\"type\":\"FixedTicker\"},{\"attributes\":{},\"id\":\"3072\",\"type\":\"Selection\"},{\"attributes\":{\"below\":[{\"id\":\"3050\"}],\"center\":[{\"id\":\"3053\"},{\"id\":\"3057\"}],\"height\":300,\"left\":[{\"id\":\"3054\"}],\"margin\":[5,5,5,5],\"min_border_bottom\":10,\"min_border_left\":10,\"min_border_right\":10,\"min_border_top\":10,\"renderers\":[{\"id\":\"3077\"}],\"sizing_mode\":\"fixed\",\"title\":{\"id\":\"3042\"},\"toolbar\":{\"id\":\"3064\"},\"width\":700,\"x_range\":{\"id\":\"3038\"},\"x_scale\":{\"id\":\"3046\"},\"y_range\":{\"id\":\"3039\"},\"y_scale\":{\"id\":\"3048\"}},\"id\":\"3041\",\"subtype\":\"Figure\",\"type\":\"Plot\"},{\"attributes\":{\"callback\":null,\"renderers\":[{\"id\":\"3077\"}],\"tags\":[\"hv_created\"],\"tooltips\":[[\"k\",\"@{k}\"],[\"inertia\",\"@{inertia}\"]]},\"id\":\"3040\",\"type\":\"HoverTool\"},{\"attributes\":{\"margin\":[5,5,5,5],\"name\":\"HSpacer06094\",\"sizing_mode\":\"stretch_width\"},\"id\":\"3037\",\"type\":\"Spacer\"},{\"attributes\":{},\"id\":\"3082\",\"type\":\"BasicTickFormatter\"},{\"attributes\":{\"end\":10.0,\"reset_end\":10.0,\"reset_start\":1.0,\"start\":1.0,\"tags\":[[[\"k\",\"k\",null]]]},\"id\":\"3038\",\"type\":\"Range1d\"},{\"attributes\":{\"tools\":[{\"id\":\"3040\"},{\"id\":\"3058\"},{\"id\":\"3059\"},{\"id\":\"3060\"},{\"id\":\"3061\"},{\"id\":\"3062\"}]},\"id\":\"3064\",\"type\":\"Toolbar\"},{\"attributes\":{\"margin\":[5,5,5,5],\"name\":\"HSpacer06095\",\"sizing_mode\":\"stretch_width\"},\"id\":\"3107\",\"type\":\"Spacer\"},{\"attributes\":{\"data\":{\"inertia\":{\"__ndarray__\":\"q/uvoy+xfEKfMZTJOoRgQhFiPp/qb1RC/jvZw2psQ0K0Neie8DU2QjJpUO8zeSxCQhG9eW7zJUKXDLlaFNUhQjWve/unvhdCSrVT/rYsEkI=\",\"dtype\":\"float64\",\"order\":\"little\",\"shape\":[10]},\"k\":[1,2,3,4,5,6,7,8,9,10]},\"selected\":{\"id\":\"3072\"},\"selection_policy\":{\"id\":\"3095\"}},\"id\":\"3071\",\"type\":\"ColumnDataSource\"},{\"attributes\":{},\"id\":\"3058\",\"type\":\"SaveTool\"},{\"attributes\":{\"line_alpha\":0.1,\"line_color\":\"#30a2da\",\"line_width\":2,\"x\":{\"field\":\"k\"},\"y\":{\"field\":\"inertia\"}},\"id\":\"3075\",\"type\":\"Line\"}],\"root_ids\":[\"3036\"]},\"title\":\"Bokeh Application\",\"version\":\"2.4.1\"}};\n",
       "    var render_items = [{\"docid\":\"20beeacb-b1bb-4841-9773-921d6bc0239f\",\"root_ids\":[\"3036\"],\"roots\":{\"3036\":\"a70559d0-2004-4f1a-8ed1-dafedd92522e\"}}];\n",
       "    root.Bokeh.embed.embed_items_notebook(docs_json, render_items);\n",
       "  }\n",
       "  if (root.Bokeh !== undefined && root.Bokeh.Panel !== undefined) {\n",
       "    embed_document(root);\n",
       "  } else {\n",
       "    var attempts = 0;\n",
       "    var timer = setInterval(function(root) {\n",
       "      if (root.Bokeh !== undefined && root.Bokeh.Panel !== undefined) {\n",
       "        clearInterval(timer);\n",
       "        embed_document(root);\n",
       "      } else if (document.readyState == \"complete\") {\n",
       "        attempts++;\n",
       "        if (attempts > 200) {\n",
       "          clearInterval(timer);\n",
       "          console.log(\"Bokeh: ERROR: Unable to run BokehJS code because BokehJS library is missing\");\n",
       "        }\n",
       "      }\n",
       "    }, 25, root)\n",
       "  }\n",
       "})(window);</script>"
      ],
      "text/plain": [
       ":Curve   [k]   (inertia)"
      ]
     },
     "execution_count": 56,
     "metadata": {
      "application/vnd.holoviews_exec.v0+json": {
       "id": "3036"
      }
     },
     "output_type": "execute_result"
    }
   ],
   "source": [
    "df_elbow.hvplot.line(x=\"k\", y=\"inertia\", xticks=k, title=\"Elbow Curve\")"
   ]
  },
  {
   "cell_type": "markdown",
   "id": "57739efd",
   "metadata": {},
   "source": [
    "### Looking at the Elbow curve, the vertical direction shifts to a strong horizontal direction hapening between 4 and 5 and 6. So, we will try with K= 4, 5 and 6. \n",
    " "
   ]
  },
  {
   "cell_type": "code",
   "execution_count": 57,
   "id": "86180489",
   "metadata": {},
   "outputs": [],
   "source": [
    "# create def get_cluster\n",
    "def get_clusters(k, data):\n",
    "    # Create a copy of the DataFrame\n",
    "    data = data.copy()\n",
    "\n",
    "    # Initialize the K-Means model\n",
    "    model = KMeans(n_clusters=k, random_state=0)\n",
    "\n",
    "    # Fit the model\n",
    "    model.fit(data)\n",
    "\n",
    "    # Predict clusters\n",
    "    predictions = model.predict(data)\n",
    "\n",
    "    # Create return DataFrame with predicted clusters\n",
    "    data[\"class\"] = model.labels_\n",
    "\n",
    "    return data"
   ]
  },
  {
   "cell_type": "code",
   "execution_count": 58,
   "id": "1f0996e4",
   "metadata": {},
   "outputs": [
    {
     "data": {
      "text/html": [
       "<div>\n",
       "<style scoped>\n",
       "    .dataframe tbody tr th:only-of-type {\n",
       "        vertical-align: middle;\n",
       "    }\n",
       "\n",
       "    .dataframe tbody tr th {\n",
       "        vertical-align: top;\n",
       "    }\n",
       "\n",
       "    .dataframe thead th {\n",
       "        text-align: right;\n",
       "    }\n",
       "</style>\n",
       "<table border=\"1\" class=\"dataframe\">\n",
       "  <thead>\n",
       "    <tr style=\"text-align: right;\">\n",
       "      <th></th>\n",
       "      <th>customerid</th>\n",
       "      <th>order_total</th>\n",
       "      <th>frequency</th>\n",
       "      <th>recency</th>\n",
       "      <th>class</th>\n",
       "    </tr>\n",
       "  </thead>\n",
       "  <tbody>\n",
       "    <tr>\n",
       "      <th>0</th>\n",
       "      <td>1</td>\n",
       "      <td>1322278.5</td>\n",
       "      <td>152</td>\n",
       "      <td>7</td>\n",
       "      <td>0</td>\n",
       "    </tr>\n",
       "    <tr>\n",
       "      <th>1</th>\n",
       "      <td>2</td>\n",
       "      <td>1346264.5</td>\n",
       "      <td>135</td>\n",
       "      <td>7</td>\n",
       "      <td>0</td>\n",
       "    </tr>\n",
       "    <tr>\n",
       "      <th>2</th>\n",
       "      <td>3</td>\n",
       "      <td>1831947.5</td>\n",
       "      <td>181</td>\n",
       "      <td>8</td>\n",
       "      <td>1</td>\n",
       "    </tr>\n",
       "    <tr>\n",
       "      <th>3</th>\n",
       "      <td>4</td>\n",
       "      <td>1770582.2</td>\n",
       "      <td>167</td>\n",
       "      <td>3</td>\n",
       "      <td>1</td>\n",
       "    </tr>\n",
       "    <tr>\n",
       "      <th>4</th>\n",
       "      <td>5</td>\n",
       "      <td>1609232.8</td>\n",
       "      <td>159</td>\n",
       "      <td>28</td>\n",
       "      <td>2</td>\n",
       "    </tr>\n",
       "    <tr>\n",
       "      <th>5</th>\n",
       "      <td>6</td>\n",
       "      <td>1530755.7</td>\n",
       "      <td>143</td>\n",
       "      <td>2</td>\n",
       "      <td>2</td>\n",
       "    </tr>\n",
       "    <tr>\n",
       "      <th>6</th>\n",
       "      <td>7</td>\n",
       "      <td>1544061.9</td>\n",
       "      <td>153</td>\n",
       "      <td>1</td>\n",
       "      <td>2</td>\n",
       "    </tr>\n",
       "    <tr>\n",
       "      <th>7</th>\n",
       "      <td>8</td>\n",
       "      <td>1411522.5</td>\n",
       "      <td>142</td>\n",
       "      <td>3</td>\n",
       "      <td>0</td>\n",
       "    </tr>\n",
       "    <tr>\n",
       "      <th>8</th>\n",
       "      <td>9</td>\n",
       "      <td>1830038.0</td>\n",
       "      <td>171</td>\n",
       "      <td>6</td>\n",
       "      <td>1</td>\n",
       "    </tr>\n",
       "    <tr>\n",
       "      <th>9</th>\n",
       "      <td>10</td>\n",
       "      <td>1763942.5</td>\n",
       "      <td>158</td>\n",
       "      <td>13</td>\n",
       "      <td>1</td>\n",
       "    </tr>\n",
       "  </tbody>\n",
       "</table>\n",
       "</div>"
      ],
      "text/plain": [
       "   customerid  order_total  frequency  recency  class\n",
       "0           1    1322278.5        152        7      0\n",
       "1           2    1346264.5        135        7      0\n",
       "2           3    1831947.5        181        8      1\n",
       "3           4    1770582.2        167        3      1\n",
       "4           5    1609232.8        159       28      2\n",
       "5           6    1530755.7        143        2      2\n",
       "6           7    1544061.9        153        1      2\n",
       "7           8    1411522.5        142        3      0\n",
       "8           9    1830038.0        171        6      1\n",
       "9          10    1763942.5        158       13      1"
      ]
     },
     "execution_count": 58,
     "metadata": {},
     "output_type": "execute_result"
    }
   ],
   "source": [
    "# Four Clusters\n",
    "four_clusters =get_clusters(4,rfm)\n",
    "four_clusters.head(10)"
   ]
  },
  {
   "cell_type": "code",
   "execution_count": 59,
   "id": "0ca6642a",
   "metadata": {},
   "outputs": [
    {
     "data": {},
     "metadata": {},
     "output_type": "display_data"
    },
    {
     "data": {
      "application/vnd.holoviews_exec.v0+json": "",
      "text/html": [
       "<div id='3154'>\n",
       "\n",
       "\n",
       "\n",
       "\n",
       "\n",
       "  <div class=\"bk-root\" id=\"b74ab840-0064-4451-8297-21c636f65029\" data-root-id=\"3154\"></div>\n",
       "</div>\n",
       "<script type=\"application/javascript\">(function(root) {\n",
       "  function embed_document(root) {\n",
       "    var docs_json = {\"b0d7b763-971b-4b9f-8994-cc48c27a8b04\":{\"defs\":[{\"extends\":null,\"module\":null,\"name\":\"ReactiveHTML1\",\"overrides\":[],\"properties\":[]},{\"extends\":null,\"module\":null,\"name\":\"FlexBox1\",\"overrides\":[],\"properties\":[{\"default\":\"flex-start\",\"kind\":null,\"name\":\"align_content\"},{\"default\":\"flex-start\",\"kind\":null,\"name\":\"align_items\"},{\"default\":\"row\",\"kind\":null,\"name\":\"flex_direction\"},{\"default\":\"wrap\",\"kind\":null,\"name\":\"flex_wrap\"},{\"default\":\"flex-start\",\"kind\":null,\"name\":\"justify_content\"}]},{\"extends\":null,\"module\":null,\"name\":\"GridStack1\",\"overrides\":[],\"properties\":[{\"default\":\"warn\",\"kind\":null,\"name\":\"mode\"},{\"default\":null,\"kind\":null,\"name\":\"ncols\"},{\"default\":null,\"kind\":null,\"name\":\"nrows\"},{\"default\":true,\"kind\":null,\"name\":\"allow_resize\"},{\"default\":true,\"kind\":null,\"name\":\"allow_drag\"},{\"default\":[],\"kind\":null,\"name\":\"state\"}]},{\"extends\":null,\"module\":null,\"name\":\"click1\",\"overrides\":[],\"properties\":[{\"default\":\"\",\"kind\":null,\"name\":\"terminal_output\"},{\"default\":\"\",\"kind\":null,\"name\":\"debug_name\"},{\"default\":0,\"kind\":null,\"name\":\"clears\"}]},{\"extends\":null,\"module\":null,\"name\":\"TemplateActions1\",\"overrides\":[],\"properties\":[{\"default\":0,\"kind\":null,\"name\":\"open_modal\"},{\"default\":0,\"kind\":null,\"name\":\"close_modal\"}]},{\"extends\":null,\"module\":null,\"name\":\"MaterialTemplateActions1\",\"overrides\":[],\"properties\":[{\"default\":0,\"kind\":null,\"name\":\"open_modal\"},{\"default\":0,\"kind\":null,\"name\":\"close_modal\"}]}],\"roots\":{\"references\":[{\"attributes\":{\"tools\":[{\"id\":\"3158\"},{\"id\":\"3179\"},{\"id\":\"3180\"},{\"id\":\"3181\"},{\"id\":\"3182\"},{\"id\":\"3183\"}]},\"id\":\"3185\",\"type\":\"Toolbar\"},{\"attributes\":{},\"id\":\"3213\",\"type\":\"UnionRenderers\"},{\"attributes\":{\"bottom_units\":\"screen\",\"coordinates\":null,\"fill_alpha\":0.5,\"fill_color\":\"lightgrey\",\"group\":null,\"left_units\":\"screen\",\"level\":\"overlay\",\"line_alpha\":1.0,\"line_color\":\"black\",\"line_dash\":[4,4],\"line_width\":2,\"right_units\":\"screen\",\"syncable\":false,\"top_units\":\"screen\"},\"id\":\"3184\",\"type\":\"BoxAnnotation\"},{\"attributes\":{\"fill_color\":{\"value\":\"#6d904f\"},\"hatch_color\":{\"value\":\"#6d904f\"},\"line_color\":{\"value\":\"#6d904f\"},\"size\":{\"value\":5.477225575051661},\"x\":{\"field\":\"order_total\"},\"y\":{\"field\":\"frequency\"}},\"id\":\"3268\",\"type\":\"Scatter\"},{\"attributes\":{},\"id\":\"3179\",\"type\":\"SaveTool\"},{\"attributes\":{\"click_policy\":\"mute\",\"coordinates\":null,\"group\":null,\"items\":[{\"id\":\"3217\"},{\"id\":\"3239\"},{\"id\":\"3263\"},{\"id\":\"3289\"}],\"location\":[0,0],\"title\":\"class\"},\"id\":\"3216\",\"type\":\"Legend\"},{\"attributes\":{},\"id\":\"3180\",\"type\":\"PanTool\"},{\"attributes\":{\"label\":{\"value\":\"1\"},\"renderers\":[{\"id\":\"3225\"}]},\"id\":\"3239\",\"type\":\"LegendItem\"},{\"attributes\":{\"angle\":{\"value\":0.0},\"fill_alpha\":{\"value\":1.0},\"fill_color\":{\"value\":\"#e5ae38\"},\"hatch_alpha\":{\"value\":1.0},\"hatch_color\":{\"value\":\"#e5ae38\"},\"hatch_scale\":{\"value\":12.0},\"hatch_weight\":{\"value\":1.0},\"line_alpha\":{\"value\":1.0},\"line_cap\":{\"value\":\"butt\"},\"line_color\":{\"value\":\"#e5ae38\"},\"line_dash\":{\"value\":[]},\"line_dash_offset\":{\"value\":0},\"line_join\":{\"value\":\"bevel\"},\"line_width\":{\"value\":1},\"marker\":{\"value\":\"circle\"},\"size\":{\"value\":5.477225575051661},\"x\":{\"field\":\"order_total\"},\"y\":{\"field\":\"frequency\"}},\"id\":\"3264\",\"type\":\"Scatter\"},{\"attributes\":{},\"id\":\"3183\",\"type\":\"ResetTool\"},{\"attributes\":{\"below\":[{\"id\":\"3171\"}],\"center\":[{\"id\":\"3174\"},{\"id\":\"3178\"}],\"height\":300,\"left\":[{\"id\":\"3175\"}],\"margin\":[5,5,5,5],\"min_border_bottom\":10,\"min_border_left\":10,\"min_border_right\":10,\"min_border_top\":10,\"renderers\":[{\"id\":\"3204\"},{\"id\":\"3225\"},{\"id\":\"3247\"},{\"id\":\"3271\"}],\"right\":[{\"id\":\"3216\"}],\"sizing_mode\":\"fixed\",\"title\":{\"id\":\"3163\"},\"toolbar\":{\"id\":\"3185\"},\"width\":700,\"x_range\":{\"id\":\"3156\"},\"x_scale\":{\"id\":\"3167\"},\"y_range\":{\"id\":\"3157\"},\"y_scale\":{\"id\":\"3169\"}},\"id\":\"3162\",\"subtype\":\"Figure\",\"type\":\"Plot\"},{\"attributes\":{},\"id\":\"3181\",\"type\":\"WheelZoomTool\"},{\"attributes\":{},\"id\":\"3236\",\"type\":\"UnionRenderers\"},{\"attributes\":{\"label\":{\"value\":\"3\"},\"renderers\":[{\"id\":\"3271\"}]},\"id\":\"3289\",\"type\":\"LegendItem\"},{\"attributes\":{\"coordinates\":null,\"data_source\":{\"id\":\"3219\"},\"glyph\":{\"id\":\"3222\"},\"group\":null,\"hover_glyph\":null,\"muted_glyph\":{\"id\":\"3224\"},\"nonselection_glyph\":{\"id\":\"3223\"},\"selection_glyph\":{\"id\":\"3240\"},\"view\":{\"id\":\"3226\"}},\"id\":\"3225\",\"type\":\"GlyphRenderer\"},{\"attributes\":{\"angle\":{\"value\":0.0},\"fill_alpha\":{\"value\":1.0},\"fill_color\":{\"value\":\"#fc4f30\"},\"hatch_alpha\":{\"value\":1.0},\"hatch_color\":{\"value\":\"#fc4f30\"},\"hatch_scale\":{\"value\":12.0},\"hatch_weight\":{\"value\":1.0},\"line_alpha\":{\"value\":1.0},\"line_cap\":{\"value\":\"butt\"},\"line_color\":{\"value\":\"#fc4f30\"},\"line_dash\":{\"value\":[]},\"line_dash_offset\":{\"value\":0},\"line_join\":{\"value\":\"bevel\"},\"line_width\":{\"value\":1},\"marker\":{\"value\":\"circle\"},\"size\":{\"value\":5.477225575051661},\"x\":{\"field\":\"order_total\"},\"y\":{\"field\":\"frequency\"}},\"id\":\"3240\",\"type\":\"Scatter\"},{\"attributes\":{\"overlay\":{\"id\":\"3184\"}},\"id\":\"3182\",\"type\":\"BoxZoomTool\"},{\"attributes\":{\"fill_alpha\":{\"value\":0.1},\"fill_color\":{\"value\":\"#6d904f\"},\"hatch_alpha\":{\"value\":0.1},\"hatch_color\":{\"value\":\"#6d904f\"},\"line_alpha\":{\"value\":0.1},\"line_color\":{\"value\":\"#6d904f\"},\"size\":{\"value\":5.477225575051661},\"x\":{\"field\":\"order_total\"},\"y\":{\"field\":\"frequency\"}},\"id\":\"3269\",\"type\":\"Scatter\"},{\"attributes\":{},\"id\":\"3260\",\"type\":\"UnionRenderers\"},{\"attributes\":{\"label\":{\"value\":\"2\"},\"renderers\":[{\"id\":\"3247\"}]},\"id\":\"3263\",\"type\":\"LegendItem\"},{\"attributes\":{},\"id\":\"3266\",\"type\":\"Selection\"},{\"attributes\":{\"children\":[{\"id\":\"3155\"},{\"id\":\"3162\"},{\"id\":\"3435\"}],\"margin\":[0,0,0,0],\"name\":\"Row06341\",\"tags\":[\"embedded\"]},\"id\":\"3154\",\"type\":\"Row\"},{\"attributes\":{\"coordinates\":null,\"data_source\":{\"id\":\"3241\"},\"glyph\":{\"id\":\"3244\"},\"group\":null,\"hover_glyph\":null,\"muted_glyph\":{\"id\":\"3246\"},\"nonselection_glyph\":{\"id\":\"3245\"},\"selection_glyph\":{\"id\":\"3264\"},\"view\":{\"id\":\"3248\"}},\"id\":\"3247\",\"type\":\"GlyphRenderer\"},{\"attributes\":{\"source\":{\"id\":\"3198\"}},\"id\":\"3205\",\"type\":\"CDSView\"},{\"attributes\":{},\"id\":\"3197\",\"type\":\"AllLabels\"},{\"attributes\":{},\"id\":\"3167\",\"type\":\"LinearScale\"},{\"attributes\":{\"data\":{\"class\":[1,1,1,1,1,1,1,1,1,1,1,1,1,1,1,1],\"frequency\":[181,167,171,158,178,171,175,186,165,164,164,162,173,156,176,176],\"order_total\":{\"__ndarray__\":\"AAAAgAv0O0EzMzMzVgQ7QQAAAACW7DtBAAAAgGbqOkEzMzMzEr08Qc3MzMwhgjxBmpmZmR7wPUEAAAAAFyo8Qc3MzMyOTDpBAAAAABy2PEEAAAAA8107QWZmZmbf5TpBmpmZmWNTPEHNzMzMFOs8QZqZmZmjkT1BAAAAAMXUO0E=\",\"dtype\":\"float64\",\"order\":\"little\",\"shape\":[16]}},\"selected\":{\"id\":\"3220\"},\"selection_policy\":{\"id\":\"3236\"}},\"id\":\"3219\",\"type\":\"ColumnDataSource\"},{\"attributes\":{\"fill_alpha\":{\"value\":0.2},\"fill_color\":{\"value\":\"#fc4f30\"},\"hatch_alpha\":{\"value\":0.2},\"hatch_color\":{\"value\":\"#fc4f30\"},\"line_alpha\":{\"value\":0.2},\"line_color\":{\"value\":\"#fc4f30\"},\"size\":{\"value\":5.477225575051661},\"x\":{\"field\":\"order_total\"},\"y\":{\"field\":\"frequency\"}},\"id\":\"3224\",\"type\":\"Scatter\"},{\"attributes\":{\"fill_alpha\":{\"value\":0.1},\"fill_color\":{\"value\":\"#e5ae38\"},\"hatch_alpha\":{\"value\":0.1},\"hatch_color\":{\"value\":\"#e5ae38\"},\"line_alpha\":{\"value\":0.1},\"line_color\":{\"value\":\"#e5ae38\"},\"size\":{\"value\":5.477225575051661},\"x\":{\"field\":\"order_total\"},\"y\":{\"field\":\"frequency\"}},\"id\":\"3245\",\"type\":\"Scatter\"},{\"attributes\":{\"label\":{\"value\":\"0\"},\"renderers\":[{\"id\":\"3204\"}]},\"id\":\"3217\",\"type\":\"LegendItem\"},{\"attributes\":{\"margin\":[5,5,5,5],\"name\":\"HSpacer06345\",\"sizing_mode\":\"stretch_width\"},\"id\":\"3155\",\"type\":\"Spacer\"},{\"attributes\":{\"callback\":null,\"renderers\":[{\"id\":\"3204\"},{\"id\":\"3225\"},{\"id\":\"3247\"},{\"id\":\"3271\"}],\"tags\":[\"hv_created\"],\"tooltips\":[[\"class\",\"@{class}\"],[\"order_total\",\"@{order_total}\"],[\"frequency\",\"@{frequency}\"]]},\"id\":\"3158\",\"type\":\"HoverTool\"},{\"attributes\":{\"end\":217.5,\"reset_end\":217.5,\"reset_start\":127.5,\"start\":127.5,\"tags\":[[[\"frequency\",\"frequency\",null]]]},\"id\":\"3157\",\"type\":\"Range1d\"},{\"attributes\":{},\"id\":\"3194\",\"type\":\"AllLabels\"},{\"attributes\":{},\"id\":\"3199\",\"type\":\"Selection\"},{\"attributes\":{\"fill_alpha\":{\"value\":0.1},\"fill_color\":{\"value\":\"#30a2da\"},\"hatch_alpha\":{\"value\":0.1},\"hatch_color\":{\"value\":\"#30a2da\"},\"line_alpha\":{\"value\":0.1},\"line_color\":{\"value\":\"#30a2da\"},\"size\":{\"value\":5.477225575051661},\"x\":{\"field\":\"order_total\"},\"y\":{\"field\":\"frequency\"}},\"id\":\"3202\",\"type\":\"Scatter\"},{\"attributes\":{\"fill_alpha\":{\"value\":0.1},\"fill_color\":{\"value\":\"#fc4f30\"},\"hatch_alpha\":{\"value\":0.1},\"hatch_color\":{\"value\":\"#fc4f30\"},\"line_alpha\":{\"value\":0.1},\"line_color\":{\"value\":\"#fc4f30\"},\"size\":{\"value\":5.477225575051661},\"x\":{\"field\":\"order_total\"},\"y\":{\"field\":\"frequency\"}},\"id\":\"3223\",\"type\":\"Scatter\"},{\"attributes\":{\"data\":{\"class\":[3,3],\"frequency\":[210,179],\"order_total\":{\"__ndarray__\":\"MzMzM0YnQUEzMzPzbh1AQQ==\",\"dtype\":\"float64\",\"order\":\"little\",\"shape\":[2]}},\"selected\":{\"id\":\"3266\"},\"selection_policy\":{\"id\":\"3286\"}},\"id\":\"3265\",\"type\":\"ColumnDataSource\"},{\"attributes\":{\"fill_alpha\":{\"value\":0.2},\"fill_color\":{\"value\":\"#6d904f\"},\"hatch_alpha\":{\"value\":0.2},\"hatch_color\":{\"value\":\"#6d904f\"},\"line_alpha\":{\"value\":0.2},\"line_color\":{\"value\":\"#6d904f\"},\"size\":{\"value\":5.477225575051661},\"x\":{\"field\":\"order_total\"},\"y\":{\"field\":\"frequency\"}},\"id\":\"3270\",\"type\":\"Scatter\"},{\"attributes\":{},\"id\":\"3242\",\"type\":\"Selection\"},{\"attributes\":{\"fill_alpha\":{\"value\":0.2},\"fill_color\":{\"value\":\"#e5ae38\"},\"hatch_alpha\":{\"value\":0.2},\"hatch_color\":{\"value\":\"#e5ae38\"},\"line_alpha\":{\"value\":0.2},\"line_color\":{\"value\":\"#e5ae38\"},\"size\":{\"value\":5.477225575051661},\"x\":{\"field\":\"order_total\"},\"y\":{\"field\":\"frequency\"}},\"id\":\"3246\",\"type\":\"Scatter\"},{\"attributes\":{\"coordinates\":null,\"data_source\":{\"id\":\"3265\"},\"glyph\":{\"id\":\"3268\"},\"group\":null,\"hover_glyph\":null,\"muted_glyph\":{\"id\":\"3270\"},\"nonselection_glyph\":{\"id\":\"3269\"},\"selection_glyph\":{\"id\":\"3290\"},\"view\":{\"id\":\"3272\"}},\"id\":\"3271\",\"type\":\"GlyphRenderer\"},{\"attributes\":{\"source\":{\"id\":\"3219\"}},\"id\":\"3226\",\"type\":\"CDSView\"},{\"attributes\":{},\"id\":\"3172\",\"type\":\"BasicTicker\"},{\"attributes\":{\"angle\":{\"value\":0.0},\"fill_alpha\":{\"value\":1.0},\"fill_color\":{\"value\":\"#30a2da\"},\"hatch_alpha\":{\"value\":1.0},\"hatch_color\":{\"value\":\"#30a2da\"},\"hatch_scale\":{\"value\":12.0},\"hatch_weight\":{\"value\":1.0},\"line_alpha\":{\"value\":1.0},\"line_cap\":{\"value\":\"butt\"},\"line_color\":{\"value\":\"#30a2da\"},\"line_dash\":{\"value\":[]},\"line_dash_offset\":{\"value\":0},\"line_join\":{\"value\":\"bevel\"},\"line_width\":{\"value\":1},\"marker\":{\"value\":\"circle\"},\"size\":{\"value\":5.477225575051661},\"x\":{\"field\":\"order_total\"},\"y\":{\"field\":\"frequency\"}},\"id\":\"3218\",\"type\":\"Scatter\"},{\"attributes\":{\"axis\":{\"id\":\"3171\"},\"coordinates\":null,\"grid_line_color\":null,\"group\":null,\"ticker\":null},\"id\":\"3174\",\"type\":\"Grid\"},{\"attributes\":{\"fill_color\":{\"value\":\"#30a2da\"},\"hatch_color\":{\"value\":\"#30a2da\"},\"line_color\":{\"value\":\"#30a2da\"},\"size\":{\"value\":5.477225575051661},\"x\":{\"field\":\"order_total\"},\"y\":{\"field\":\"frequency\"}},\"id\":\"3201\",\"type\":\"Scatter\"},{\"attributes\":{\"fill_alpha\":{\"value\":0.2},\"fill_color\":{\"value\":\"#30a2da\"},\"hatch_alpha\":{\"value\":0.2},\"hatch_color\":{\"value\":\"#30a2da\"},\"line_alpha\":{\"value\":0.2},\"line_color\":{\"value\":\"#30a2da\"},\"size\":{\"value\":5.477225575051661},\"x\":{\"field\":\"order_total\"},\"y\":{\"field\":\"frequency\"}},\"id\":\"3203\",\"type\":\"Scatter\"},{\"attributes\":{\"end\":2288020.424285714,\"reset_end\":2288020.424285714,\"reset_start\":1282590.4757142856,\"start\":1282590.4757142856,\"tags\":[[[\"order_total\",\"order_total\",null]]]},\"id\":\"3156\",\"type\":\"Range1d\"},{\"attributes\":{\"angle\":{\"value\":0.0},\"fill_alpha\":{\"value\":1.0},\"fill_color\":{\"value\":\"#6d904f\"},\"hatch_alpha\":{\"value\":1.0},\"hatch_color\":{\"value\":\"#6d904f\"},\"hatch_scale\":{\"value\":12.0},\"hatch_weight\":{\"value\":1.0},\"line_alpha\":{\"value\":1.0},\"line_cap\":{\"value\":\"butt\"},\"line_color\":{\"value\":\"#6d904f\"},\"line_dash\":{\"value\":[]},\"line_dash_offset\":{\"value\":0},\"line_join\":{\"value\":\"bevel\"},\"line_width\":{\"value\":1},\"marker\":{\"value\":\"circle\"},\"size\":{\"value\":5.477225575051661},\"x\":{\"field\":\"order_total\"},\"y\":{\"field\":\"frequency\"}},\"id\":\"3290\",\"type\":\"Scatter\"},{\"attributes\":{},\"id\":\"3193\",\"type\":\"BasicTickFormatter\"},{\"attributes\":{},\"id\":\"3196\",\"type\":\"BasicTickFormatter\"},{\"attributes\":{\"data\":{\"class\":[2,2,2,2,2,2,2,2,2,2,2,2,2,2,2,2,2,2,2,2,2,2,2],\"frequency\":[159,143,153,142,135,167,140,153,159,145,156,152,150,161,161,151,156,156,157,168,172,152,163],\"order_total\":{\"__ndarray__\":\"zczMzBCOOEEzMzOzg1s3QWZmZuZ9jzdBAAAAABYVN0EzMzOz/Z03QTMzMzOwQDdBAAAAABHMNkFnZmZmt9Q3QTMzM7OvBzlBAAAAAH66N0EzMzMzqLs4QZqZmZnxwDhBmpmZGSH6OEGamZkZd2Q3QZqZmZk2PDlBzczMzHPeN0FmZmbmh1g3QZqZmZlN3zhBZmZm5vICN0EAAACAaRo4QQAAAADdezlBmpmZmerwNkGamZmZ4eE5QQ==\",\"dtype\":\"float64\",\"order\":\"little\",\"shape\":[23]}},\"selected\":{\"id\":\"3242\"},\"selection_policy\":{\"id\":\"3260\"}},\"id\":\"3241\",\"type\":\"ColumnDataSource\"},{\"attributes\":{},\"id\":\"3286\",\"type\":\"UnionRenderers\"},{\"attributes\":{},\"id\":\"3176\",\"type\":\"BasicTicker\"},{\"attributes\":{\"coordinates\":null,\"group\":null,\"text_color\":\"black\",\"text_font_size\":\"12pt\"},\"id\":\"3163\",\"type\":\"Title\"},{\"attributes\":{\"margin\":[5,5,5,5],\"name\":\"HSpacer06346\",\"sizing_mode\":\"stretch_width\"},\"id\":\"3435\",\"type\":\"Spacer\"},{\"attributes\":{\"fill_color\":{\"value\":\"#fc4f30\"},\"hatch_color\":{\"value\":\"#fc4f30\"},\"line_color\":{\"value\":\"#fc4f30\"},\"size\":{\"value\":5.477225575051661},\"x\":{\"field\":\"order_total\"},\"y\":{\"field\":\"frequency\"}},\"id\":\"3222\",\"type\":\"Scatter\"},{\"attributes\":{\"coordinates\":null,\"data_source\":{\"id\":\"3198\"},\"glyph\":{\"id\":\"3201\"},\"group\":null,\"hover_glyph\":null,\"muted_glyph\":{\"id\":\"3203\"},\"nonselection_glyph\":{\"id\":\"3202\"},\"selection_glyph\":{\"id\":\"3218\"},\"view\":{\"id\":\"3205\"}},\"id\":\"3204\",\"type\":\"GlyphRenderer\"},{\"attributes\":{},\"id\":\"3169\",\"type\":\"LinearScale\"},{\"attributes\":{\"axis_label\":\"frequency\",\"coordinates\":null,\"formatter\":{\"id\":\"3196\"},\"group\":null,\"major_label_policy\":{\"id\":\"3197\"},\"ticker\":{\"id\":\"3176\"}},\"id\":\"3175\",\"type\":\"LinearAxis\"},{\"attributes\":{\"axis_label\":\"order_total\",\"coordinates\":null,\"formatter\":{\"id\":\"3193\"},\"group\":null,\"major_label_policy\":{\"id\":\"3194\"},\"ticker\":{\"id\":\"3172\"}},\"id\":\"3171\",\"type\":\"LinearAxis\"},{\"attributes\":{\"axis\":{\"id\":\"3175\"},\"coordinates\":null,\"dimension\":1,\"grid_line_color\":null,\"group\":null,\"ticker\":null},\"id\":\"3178\",\"type\":\"Grid\"},{\"attributes\":{\"source\":{\"id\":\"3265\"}},\"id\":\"3272\",\"type\":\"CDSView\"},{\"attributes\":{\"source\":{\"id\":\"3241\"}},\"id\":\"3248\",\"type\":\"CDSView\"},{\"attributes\":{\"fill_color\":{\"value\":\"#e5ae38\"},\"hatch_color\":{\"value\":\"#e5ae38\"},\"line_color\":{\"value\":\"#e5ae38\"},\"size\":{\"value\":5.477225575051661},\"x\":{\"field\":\"order_total\"},\"y\":{\"field\":\"frequency\"}},\"id\":\"3244\",\"type\":\"Scatter\"},{\"attributes\":{\"data\":{\"class\":[0,0,0,0,0,0,0,0,0],\"frequency\":[152,135,142,157,151,144,145,152,150],\"order_total\":{\"__ndarray__\":\"AAAAgCYtNEEAAACA2Io0QQAAAIDCiTVBAAAAAMEoNkFmZmbmyNE1QZqZmZn4VDVBZmZmZm1+NUFmZmbmTCA2QZqZmRlkkzVB\",\"dtype\":\"float64\",\"order\":\"little\",\"shape\":[9]}},\"selected\":{\"id\":\"3199\"},\"selection_policy\":{\"id\":\"3213\"}},\"id\":\"3198\",\"type\":\"ColumnDataSource\"},{\"attributes\":{},\"id\":\"3220\",\"type\":\"Selection\"}],\"root_ids\":[\"3154\"]},\"title\":\"Bokeh Application\",\"version\":\"2.4.1\"}};\n",
       "    var render_items = [{\"docid\":\"b0d7b763-971b-4b9f-8994-cc48c27a8b04\",\"root_ids\":[\"3154\"],\"roots\":{\"3154\":\"b74ab840-0064-4451-8297-21c636f65029\"}}];\n",
       "    root.Bokeh.embed.embed_items_notebook(docs_json, render_items);\n",
       "  }\n",
       "  if (root.Bokeh !== undefined && root.Bokeh.Panel !== undefined) {\n",
       "    embed_document(root);\n",
       "  } else {\n",
       "    var attempts = 0;\n",
       "    var timer = setInterval(function(root) {\n",
       "      if (root.Bokeh !== undefined && root.Bokeh.Panel !== undefined) {\n",
       "        clearInterval(timer);\n",
       "        embed_document(root);\n",
       "      } else if (document.readyState == \"complete\") {\n",
       "        attempts++;\n",
       "        if (attempts > 200) {\n",
       "          clearInterval(timer);\n",
       "          console.log(\"Bokeh: ERROR: Unable to run BokehJS code because BokehJS library is missing\");\n",
       "        }\n",
       "      }\n",
       "    }, 25, root)\n",
       "  }\n",
       "})(window);</script>"
      ],
      "text/plain": [
       ":NdOverlay   [class]\n",
       "   :Scatter   [order_total]   (frequency)"
      ]
     },
     "execution_count": 59,
     "metadata": {
      "application/vnd.holoviews_exec.v0+json": {
       "id": "3154"
      }
     },
     "output_type": "execute_result"
    }
   ],
   "source": [
    "# Four scatter plot\n",
    "four_clusters.hvplot.scatter(x=\"order_total\",y=\"frequency\",by=\"class\")"
   ]
  },
  {
   "cell_type": "code",
   "execution_count": 60,
   "id": "a3168645",
   "metadata": {},
   "outputs": [
    {
     "data": {
      "application/vnd.plotly.v1+json": {
       "config": {
        "plotlyServerURL": "https://plot.ly"
       },
       "data": [
        {
         "hovertemplate": "class=%{marker.color}<br>order_total=%{x}<br>frequency=%{y}<br>recency=%{z}<extra></extra>",
         "legendgroup": "0",
         "marker": {
          "color": [
           0,
           0,
           0,
           0,
           0,
           0,
           0,
           0,
           0
          ],
          "coloraxis": "coloraxis",
          "symbol": "circle"
         },
         "mode": "markers",
         "name": "0",
         "scene": "scene",
         "showlegend": true,
         "type": "scatter3d",
         "x": [
          1322278.5,
          1346264.5,
          1411522.5,
          1452225,
          1429960.9,
          1398008.6,
          1408621.4,
          1450060.9,
          1413988.1
         ],
         "y": [
          152,
          135,
          142,
          157,
          151,
          144,
          145,
          152,
          150
         ],
         "z": [
          7,
          7,
          3,
          3,
          21,
          1,
          6,
          2,
          6
         ]
        },
        {
         "hovertemplate": "class=%{marker.color}<br>order_total=%{x}<br>frequency=%{y}<br>recency=%{z}<extra></extra>",
         "legendgroup": "1",
         "marker": {
          "color": [
           1,
           1,
           1,
           1,
           1,
           1,
           1,
           1,
           1,
           1,
           1,
           1,
           1,
           1,
           1,
           1
          ],
          "coloraxis": "coloraxis",
          "symbol": "diamond"
         },
         "mode": "markers",
         "name": "1",
         "scene": "scene",
         "showlegend": true,
         "type": "scatter3d",
         "x": [
          1831947.5,
          1770582.2,
          1830038,
          1763942.5,
          1883410.2,
          1868321.8,
          1962014.6,
          1845783,
          1723534.8,
          1881628,
          1793523,
          1762783.4,
          1856355.6,
          1895188.8,
          1937827.6,
          1823941
         ],
         "y": [
          181,
          167,
          171,
          158,
          178,
          171,
          175,
          186,
          165,
          164,
          164,
          162,
          173,
          156,
          176,
          176
         ],
         "z": [
          8,
          3,
          6,
          13,
          4,
          2,
          4,
          4,
          1,
          1,
          10,
          3,
          0,
          2,
          13,
          2
         ]
        },
        {
         "hovertemplate": "class=%{marker.color}<br>order_total=%{x}<br>frequency=%{y}<br>recency=%{z}<extra></extra>",
         "legendgroup": "2",
         "marker": {
          "color": [
           2,
           2,
           2,
           2,
           2,
           2,
           2,
           2,
           2,
           2,
           2,
           2,
           2,
           2,
           2,
           2,
           2,
           2,
           2,
           2,
           2,
           2,
           2
          ],
          "coloraxis": "coloraxis",
          "symbol": "square"
         },
         "mode": "markers",
         "name": "2",
         "scene": "scene",
         "showlegend": true,
         "type": "scatter3d",
         "x": [
          1609232.8,
          1530755.7,
          1544061.9,
          1512726,
          1547773.7,
          1523888.2,
          1494033,
          1561783.4000000001,
          1640367.7,
          1555070,
          1620904.2,
          1622257.6,
          1636897.1,
          1533047.1,
          1653814.6,
          1564275.8,
          1529991.9,
          1630029.6,
          1508082.9,
          1579625.5,
          1670109,
          1503466.6,
          1696225.6
         ],
         "y": [
          159,
          143,
          153,
          142,
          135,
          167,
          140,
          153,
          159,
          145,
          156,
          152,
          150,
          161,
          161,
          151,
          156,
          156,
          157,
          168,
          172,
          152,
          163
         ],
         "z": [
          28,
          2,
          1,
          2,
          1,
          7,
          2,
          9,
          2,
          8,
          2,
          9,
          7,
          0,
          0,
          3,
          1,
          3,
          2,
          6,
          8,
          5,
          14
         ]
        },
        {
         "hovertemplate": "class=%{marker.color}<br>order_total=%{x}<br>frequency=%{y}<br>recency=%{z}<extra></extra>",
         "legendgroup": "3",
         "marker": {
          "color": [
           3,
           3
          ],
          "coloraxis": "coloraxis",
          "symbol": "x"
         },
         "mode": "markers",
         "name": "3",
         "scene": "scene",
         "showlegend": true,
         "type": "scatter3d",
         "x": [
          2248332.4,
          2112221.9
         ],
         "y": [
          210,
          179
         ],
         "z": [
          1,
          0
         ]
        }
       ],
       "layout": {
        "coloraxis": {
         "colorbar": {
          "title": {
           "text": "class"
          }
         },
         "colorscale": [
          [
           0,
           "#0d0887"
          ],
          [
           0.1111111111111111,
           "#46039f"
          ],
          [
           0.2222222222222222,
           "#7201a8"
          ],
          [
           0.3333333333333333,
           "#9c179e"
          ],
          [
           0.4444444444444444,
           "#bd3786"
          ],
          [
           0.5555555555555556,
           "#d8576b"
          ],
          [
           0.6666666666666666,
           "#ed7953"
          ],
          [
           0.7777777777777778,
           "#fb9f3a"
          ],
          [
           0.8888888888888888,
           "#fdca26"
          ],
          [
           1,
           "#f0f921"
          ]
         ]
        },
        "legend": {
         "title": {
          "text": "class"
         },
         "tracegroupgap": 0,
         "x": 0,
         "y": 1
        },
        "margin": {
         "t": 60
        },
        "scene": {
         "domain": {
          "x": [
           0,
           1
          ],
          "y": [
           0,
           1
          ]
         },
         "xaxis": {
          "title": {
           "text": "order_total"
          }
         },
         "yaxis": {
          "title": {
           "text": "frequency"
          }
         },
         "zaxis": {
          "title": {
           "text": "recency"
          }
         }
        },
        "template": {
         "data": {
          "bar": [
           {
            "error_x": {
             "color": "#2a3f5f"
            },
            "error_y": {
             "color": "#2a3f5f"
            },
            "marker": {
             "line": {
              "color": "#E5ECF6",
              "width": 0.5
             },
             "pattern": {
              "fillmode": "overlay",
              "size": 10,
              "solidity": 0.2
             }
            },
            "type": "bar"
           }
          ],
          "barpolar": [
           {
            "marker": {
             "line": {
              "color": "#E5ECF6",
              "width": 0.5
             },
             "pattern": {
              "fillmode": "overlay",
              "size": 10,
              "solidity": 0.2
             }
            },
            "type": "barpolar"
           }
          ],
          "carpet": [
           {
            "aaxis": {
             "endlinecolor": "#2a3f5f",
             "gridcolor": "white",
             "linecolor": "white",
             "minorgridcolor": "white",
             "startlinecolor": "#2a3f5f"
            },
            "baxis": {
             "endlinecolor": "#2a3f5f",
             "gridcolor": "white",
             "linecolor": "white",
             "minorgridcolor": "white",
             "startlinecolor": "#2a3f5f"
            },
            "type": "carpet"
           }
          ],
          "choropleth": [
           {
            "colorbar": {
             "outlinewidth": 0,
             "ticks": ""
            },
            "type": "choropleth"
           }
          ],
          "contour": [
           {
            "colorbar": {
             "outlinewidth": 0,
             "ticks": ""
            },
            "colorscale": [
             [
              0,
              "#0d0887"
             ],
             [
              0.1111111111111111,
              "#46039f"
             ],
             [
              0.2222222222222222,
              "#7201a8"
             ],
             [
              0.3333333333333333,
              "#9c179e"
             ],
             [
              0.4444444444444444,
              "#bd3786"
             ],
             [
              0.5555555555555556,
              "#d8576b"
             ],
             [
              0.6666666666666666,
              "#ed7953"
             ],
             [
              0.7777777777777778,
              "#fb9f3a"
             ],
             [
              0.8888888888888888,
              "#fdca26"
             ],
             [
              1,
              "#f0f921"
             ]
            ],
            "type": "contour"
           }
          ],
          "contourcarpet": [
           {
            "colorbar": {
             "outlinewidth": 0,
             "ticks": ""
            },
            "type": "contourcarpet"
           }
          ],
          "heatmap": [
           {
            "colorbar": {
             "outlinewidth": 0,
             "ticks": ""
            },
            "colorscale": [
             [
              0,
              "#0d0887"
             ],
             [
              0.1111111111111111,
              "#46039f"
             ],
             [
              0.2222222222222222,
              "#7201a8"
             ],
             [
              0.3333333333333333,
              "#9c179e"
             ],
             [
              0.4444444444444444,
              "#bd3786"
             ],
             [
              0.5555555555555556,
              "#d8576b"
             ],
             [
              0.6666666666666666,
              "#ed7953"
             ],
             [
              0.7777777777777778,
              "#fb9f3a"
             ],
             [
              0.8888888888888888,
              "#fdca26"
             ],
             [
              1,
              "#f0f921"
             ]
            ],
            "type": "heatmap"
           }
          ],
          "heatmapgl": [
           {
            "colorbar": {
             "outlinewidth": 0,
             "ticks": ""
            },
            "colorscale": [
             [
              0,
              "#0d0887"
             ],
             [
              0.1111111111111111,
              "#46039f"
             ],
             [
              0.2222222222222222,
              "#7201a8"
             ],
             [
              0.3333333333333333,
              "#9c179e"
             ],
             [
              0.4444444444444444,
              "#bd3786"
             ],
             [
              0.5555555555555556,
              "#d8576b"
             ],
             [
              0.6666666666666666,
              "#ed7953"
             ],
             [
              0.7777777777777778,
              "#fb9f3a"
             ],
             [
              0.8888888888888888,
              "#fdca26"
             ],
             [
              1,
              "#f0f921"
             ]
            ],
            "type": "heatmapgl"
           }
          ],
          "histogram": [
           {
            "marker": {
             "pattern": {
              "fillmode": "overlay",
              "size": 10,
              "solidity": 0.2
             }
            },
            "type": "histogram"
           }
          ],
          "histogram2d": [
           {
            "colorbar": {
             "outlinewidth": 0,
             "ticks": ""
            },
            "colorscale": [
             [
              0,
              "#0d0887"
             ],
             [
              0.1111111111111111,
              "#46039f"
             ],
             [
              0.2222222222222222,
              "#7201a8"
             ],
             [
              0.3333333333333333,
              "#9c179e"
             ],
             [
              0.4444444444444444,
              "#bd3786"
             ],
             [
              0.5555555555555556,
              "#d8576b"
             ],
             [
              0.6666666666666666,
              "#ed7953"
             ],
             [
              0.7777777777777778,
              "#fb9f3a"
             ],
             [
              0.8888888888888888,
              "#fdca26"
             ],
             [
              1,
              "#f0f921"
             ]
            ],
            "type": "histogram2d"
           }
          ],
          "histogram2dcontour": [
           {
            "colorbar": {
             "outlinewidth": 0,
             "ticks": ""
            },
            "colorscale": [
             [
              0,
              "#0d0887"
             ],
             [
              0.1111111111111111,
              "#46039f"
             ],
             [
              0.2222222222222222,
              "#7201a8"
             ],
             [
              0.3333333333333333,
              "#9c179e"
             ],
             [
              0.4444444444444444,
              "#bd3786"
             ],
             [
              0.5555555555555556,
              "#d8576b"
             ],
             [
              0.6666666666666666,
              "#ed7953"
             ],
             [
              0.7777777777777778,
              "#fb9f3a"
             ],
             [
              0.8888888888888888,
              "#fdca26"
             ],
             [
              1,
              "#f0f921"
             ]
            ],
            "type": "histogram2dcontour"
           }
          ],
          "mesh3d": [
           {
            "colorbar": {
             "outlinewidth": 0,
             "ticks": ""
            },
            "type": "mesh3d"
           }
          ],
          "parcoords": [
           {
            "line": {
             "colorbar": {
              "outlinewidth": 0,
              "ticks": ""
             }
            },
            "type": "parcoords"
           }
          ],
          "pie": [
           {
            "automargin": true,
            "type": "pie"
           }
          ],
          "scatter": [
           {
            "fillpattern": {
             "fillmode": "overlay",
             "size": 10,
             "solidity": 0.2
            },
            "type": "scatter"
           }
          ],
          "scatter3d": [
           {
            "line": {
             "colorbar": {
              "outlinewidth": 0,
              "ticks": ""
             }
            },
            "marker": {
             "colorbar": {
              "outlinewidth": 0,
              "ticks": ""
             }
            },
            "type": "scatter3d"
           }
          ],
          "scattercarpet": [
           {
            "marker": {
             "colorbar": {
              "outlinewidth": 0,
              "ticks": ""
             }
            },
            "type": "scattercarpet"
           }
          ],
          "scattergeo": [
           {
            "marker": {
             "colorbar": {
              "outlinewidth": 0,
              "ticks": ""
             }
            },
            "type": "scattergeo"
           }
          ],
          "scattergl": [
           {
            "marker": {
             "colorbar": {
              "outlinewidth": 0,
              "ticks": ""
             }
            },
            "type": "scattergl"
           }
          ],
          "scattermapbox": [
           {
            "marker": {
             "colorbar": {
              "outlinewidth": 0,
              "ticks": ""
             }
            },
            "type": "scattermapbox"
           }
          ],
          "scatterpolar": [
           {
            "marker": {
             "colorbar": {
              "outlinewidth": 0,
              "ticks": ""
             }
            },
            "type": "scatterpolar"
           }
          ],
          "scatterpolargl": [
           {
            "marker": {
             "colorbar": {
              "outlinewidth": 0,
              "ticks": ""
             }
            },
            "type": "scatterpolargl"
           }
          ],
          "scatterternary": [
           {
            "marker": {
             "colorbar": {
              "outlinewidth": 0,
              "ticks": ""
             }
            },
            "type": "scatterternary"
           }
          ],
          "surface": [
           {
            "colorbar": {
             "outlinewidth": 0,
             "ticks": ""
            },
            "colorscale": [
             [
              0,
              "#0d0887"
             ],
             [
              0.1111111111111111,
              "#46039f"
             ],
             [
              0.2222222222222222,
              "#7201a8"
             ],
             [
              0.3333333333333333,
              "#9c179e"
             ],
             [
              0.4444444444444444,
              "#bd3786"
             ],
             [
              0.5555555555555556,
              "#d8576b"
             ],
             [
              0.6666666666666666,
              "#ed7953"
             ],
             [
              0.7777777777777778,
              "#fb9f3a"
             ],
             [
              0.8888888888888888,
              "#fdca26"
             ],
             [
              1,
              "#f0f921"
             ]
            ],
            "type": "surface"
           }
          ],
          "table": [
           {
            "cells": {
             "fill": {
              "color": "#EBF0F8"
             },
             "line": {
              "color": "white"
             }
            },
            "header": {
             "fill": {
              "color": "#C8D4E3"
             },
             "line": {
              "color": "white"
             }
            },
            "type": "table"
           }
          ]
         },
         "layout": {
          "annotationdefaults": {
           "arrowcolor": "#2a3f5f",
           "arrowhead": 0,
           "arrowwidth": 1
          },
          "autotypenumbers": "strict",
          "coloraxis": {
           "colorbar": {
            "outlinewidth": 0,
            "ticks": ""
           }
          },
          "colorscale": {
           "diverging": [
            [
             0,
             "#8e0152"
            ],
            [
             0.1,
             "#c51b7d"
            ],
            [
             0.2,
             "#de77ae"
            ],
            [
             0.3,
             "#f1b6da"
            ],
            [
             0.4,
             "#fde0ef"
            ],
            [
             0.5,
             "#f7f7f7"
            ],
            [
             0.6,
             "#e6f5d0"
            ],
            [
             0.7,
             "#b8e186"
            ],
            [
             0.8,
             "#7fbc41"
            ],
            [
             0.9,
             "#4d9221"
            ],
            [
             1,
             "#276419"
            ]
           ],
           "sequential": [
            [
             0,
             "#0d0887"
            ],
            [
             0.1111111111111111,
             "#46039f"
            ],
            [
             0.2222222222222222,
             "#7201a8"
            ],
            [
             0.3333333333333333,
             "#9c179e"
            ],
            [
             0.4444444444444444,
             "#bd3786"
            ],
            [
             0.5555555555555556,
             "#d8576b"
            ],
            [
             0.6666666666666666,
             "#ed7953"
            ],
            [
             0.7777777777777778,
             "#fb9f3a"
            ],
            [
             0.8888888888888888,
             "#fdca26"
            ],
            [
             1,
             "#f0f921"
            ]
           ],
           "sequentialminus": [
            [
             0,
             "#0d0887"
            ],
            [
             0.1111111111111111,
             "#46039f"
            ],
            [
             0.2222222222222222,
             "#7201a8"
            ],
            [
             0.3333333333333333,
             "#9c179e"
            ],
            [
             0.4444444444444444,
             "#bd3786"
            ],
            [
             0.5555555555555556,
             "#d8576b"
            ],
            [
             0.6666666666666666,
             "#ed7953"
            ],
            [
             0.7777777777777778,
             "#fb9f3a"
            ],
            [
             0.8888888888888888,
             "#fdca26"
            ],
            [
             1,
             "#f0f921"
            ]
           ]
          },
          "colorway": [
           "#636efa",
           "#EF553B",
           "#00cc96",
           "#ab63fa",
           "#FFA15A",
           "#19d3f3",
           "#FF6692",
           "#B6E880",
           "#FF97FF",
           "#FECB52"
          ],
          "font": {
           "color": "#2a3f5f"
          },
          "geo": {
           "bgcolor": "white",
           "lakecolor": "white",
           "landcolor": "#E5ECF6",
           "showlakes": true,
           "showland": true,
           "subunitcolor": "white"
          },
          "hoverlabel": {
           "align": "left"
          },
          "hovermode": "closest",
          "mapbox": {
           "style": "light"
          },
          "paper_bgcolor": "white",
          "plot_bgcolor": "#E5ECF6",
          "polar": {
           "angularaxis": {
            "gridcolor": "white",
            "linecolor": "white",
            "ticks": ""
           },
           "bgcolor": "#E5ECF6",
           "radialaxis": {
            "gridcolor": "white",
            "linecolor": "white",
            "ticks": ""
           }
          },
          "scene": {
           "xaxis": {
            "backgroundcolor": "#E5ECF6",
            "gridcolor": "white",
            "gridwidth": 2,
            "linecolor": "white",
            "showbackground": true,
            "ticks": "",
            "zerolinecolor": "white"
           },
           "yaxis": {
            "backgroundcolor": "#E5ECF6",
            "gridcolor": "white",
            "gridwidth": 2,
            "linecolor": "white",
            "showbackground": true,
            "ticks": "",
            "zerolinecolor": "white"
           },
           "zaxis": {
            "backgroundcolor": "#E5ECF6",
            "gridcolor": "white",
            "gridwidth": 2,
            "linecolor": "white",
            "showbackground": true,
            "ticks": "",
            "zerolinecolor": "white"
           }
          },
          "shapedefaults": {
           "line": {
            "color": "#2a3f5f"
           }
          },
          "ternary": {
           "aaxis": {
            "gridcolor": "white",
            "linecolor": "white",
            "ticks": ""
           },
           "baxis": {
            "gridcolor": "white",
            "linecolor": "white",
            "ticks": ""
           },
           "bgcolor": "#E5ECF6",
           "caxis": {
            "gridcolor": "white",
            "linecolor": "white",
            "ticks": ""
           }
          },
          "title": {
           "x": 0.05
          },
          "xaxis": {
           "automargin": true,
           "gridcolor": "white",
           "linecolor": "white",
           "ticks": "",
           "title": {
            "standoff": 15
           },
           "zerolinecolor": "white",
           "zerolinewidth": 2
          },
          "yaxis": {
           "automargin": true,
           "gridcolor": "white",
           "linecolor": "white",
           "ticks": "",
           "title": {
            "standoff": 15
           },
           "zerolinecolor": "white",
           "zerolinewidth": 2
          }
         }
        },
        "width": 800
       }
      },
      "text/html": [
       "<div>                            <div id=\"bd08bf8d-c9dd-45b6-86cc-5bcfacec0f13\" class=\"plotly-graph-div\" style=\"height:525px; width:800px;\"></div>            <script type=\"text/javascript\">                require([\"plotly\"], function(Plotly) {                    window.PLOTLYENV=window.PLOTLYENV || {};                                    if (document.getElementById(\"bd08bf8d-c9dd-45b6-86cc-5bcfacec0f13\")) {                    Plotly.newPlot(                        \"bd08bf8d-c9dd-45b6-86cc-5bcfacec0f13\",                        [{\"hovertemplate\":\"class=%{marker.color}<br>order_total=%{x}<br>frequency=%{y}<br>recency=%{z}<extra></extra>\",\"legendgroup\":\"0\",\"marker\":{\"color\":[0,0,0,0,0,0,0,0,0],\"coloraxis\":\"coloraxis\",\"symbol\":\"circle\"},\"mode\":\"markers\",\"name\":\"0\",\"scene\":\"scene\",\"showlegend\":true,\"x\":[1322278.5,1346264.5,1411522.5,1452225.0,1429960.9,1398008.6,1408621.4,1450060.9,1413988.1],\"y\":[152,135,142,157,151,144,145,152,150],\"z\":[7,7,3,3,21,1,6,2,6],\"type\":\"scatter3d\"},{\"hovertemplate\":\"class=%{marker.color}<br>order_total=%{x}<br>frequency=%{y}<br>recency=%{z}<extra></extra>\",\"legendgroup\":\"1\",\"marker\":{\"color\":[1,1,1,1,1,1,1,1,1,1,1,1,1,1,1,1],\"coloraxis\":\"coloraxis\",\"symbol\":\"diamond\"},\"mode\":\"markers\",\"name\":\"1\",\"scene\":\"scene\",\"showlegend\":true,\"x\":[1831947.5,1770582.2,1830038.0,1763942.5,1883410.2,1868321.8,1962014.6,1845783.0,1723534.8,1881628.0,1793523.0,1762783.4,1856355.6,1895188.8,1937827.6,1823941.0],\"y\":[181,167,171,158,178,171,175,186,165,164,164,162,173,156,176,176],\"z\":[8,3,6,13,4,2,4,4,1,1,10,3,0,2,13,2],\"type\":\"scatter3d\"},{\"hovertemplate\":\"class=%{marker.color}<br>order_total=%{x}<br>frequency=%{y}<br>recency=%{z}<extra></extra>\",\"legendgroup\":\"2\",\"marker\":{\"color\":[2,2,2,2,2,2,2,2,2,2,2,2,2,2,2,2,2,2,2,2,2,2,2],\"coloraxis\":\"coloraxis\",\"symbol\":\"square\"},\"mode\":\"markers\",\"name\":\"2\",\"scene\":\"scene\",\"showlegend\":true,\"x\":[1609232.8,1530755.7,1544061.9,1512726.0,1547773.7,1523888.2,1494033.0,1561783.4000000001,1640367.7,1555070.0,1620904.2,1622257.6,1636897.1,1533047.1,1653814.6,1564275.8,1529991.9,1630029.6,1508082.9,1579625.5,1670109.0,1503466.6,1696225.6],\"y\":[159,143,153,142,135,167,140,153,159,145,156,152,150,161,161,151,156,156,157,168,172,152,163],\"z\":[28,2,1,2,1,7,2,9,2,8,2,9,7,0,0,3,1,3,2,6,8,5,14],\"type\":\"scatter3d\"},{\"hovertemplate\":\"class=%{marker.color}<br>order_total=%{x}<br>frequency=%{y}<br>recency=%{z}<extra></extra>\",\"legendgroup\":\"3\",\"marker\":{\"color\":[3,3],\"coloraxis\":\"coloraxis\",\"symbol\":\"x\"},\"mode\":\"markers\",\"name\":\"3\",\"scene\":\"scene\",\"showlegend\":true,\"x\":[2248332.4,2112221.9],\"y\":[210,179],\"z\":[1,0],\"type\":\"scatter3d\"}],                        {\"template\":{\"data\":{\"histogram2dcontour\":[{\"type\":\"histogram2dcontour\",\"colorbar\":{\"outlinewidth\":0,\"ticks\":\"\"},\"colorscale\":[[0.0,\"#0d0887\"],[0.1111111111111111,\"#46039f\"],[0.2222222222222222,\"#7201a8\"],[0.3333333333333333,\"#9c179e\"],[0.4444444444444444,\"#bd3786\"],[0.5555555555555556,\"#d8576b\"],[0.6666666666666666,\"#ed7953\"],[0.7777777777777778,\"#fb9f3a\"],[0.8888888888888888,\"#fdca26\"],[1.0,\"#f0f921\"]]}],\"choropleth\":[{\"type\":\"choropleth\",\"colorbar\":{\"outlinewidth\":0,\"ticks\":\"\"}}],\"histogram2d\":[{\"type\":\"histogram2d\",\"colorbar\":{\"outlinewidth\":0,\"ticks\":\"\"},\"colorscale\":[[0.0,\"#0d0887\"],[0.1111111111111111,\"#46039f\"],[0.2222222222222222,\"#7201a8\"],[0.3333333333333333,\"#9c179e\"],[0.4444444444444444,\"#bd3786\"],[0.5555555555555556,\"#d8576b\"],[0.6666666666666666,\"#ed7953\"],[0.7777777777777778,\"#fb9f3a\"],[0.8888888888888888,\"#fdca26\"],[1.0,\"#f0f921\"]]}],\"heatmap\":[{\"type\":\"heatmap\",\"colorbar\":{\"outlinewidth\":0,\"ticks\":\"\"},\"colorscale\":[[0.0,\"#0d0887\"],[0.1111111111111111,\"#46039f\"],[0.2222222222222222,\"#7201a8\"],[0.3333333333333333,\"#9c179e\"],[0.4444444444444444,\"#bd3786\"],[0.5555555555555556,\"#d8576b\"],[0.6666666666666666,\"#ed7953\"],[0.7777777777777778,\"#fb9f3a\"],[0.8888888888888888,\"#fdca26\"],[1.0,\"#f0f921\"]]}],\"heatmapgl\":[{\"type\":\"heatmapgl\",\"colorbar\":{\"outlinewidth\":0,\"ticks\":\"\"},\"colorscale\":[[0.0,\"#0d0887\"],[0.1111111111111111,\"#46039f\"],[0.2222222222222222,\"#7201a8\"],[0.3333333333333333,\"#9c179e\"],[0.4444444444444444,\"#bd3786\"],[0.5555555555555556,\"#d8576b\"],[0.6666666666666666,\"#ed7953\"],[0.7777777777777778,\"#fb9f3a\"],[0.8888888888888888,\"#fdca26\"],[1.0,\"#f0f921\"]]}],\"contourcarpet\":[{\"type\":\"contourcarpet\",\"colorbar\":{\"outlinewidth\":0,\"ticks\":\"\"}}],\"contour\":[{\"type\":\"contour\",\"colorbar\":{\"outlinewidth\":0,\"ticks\":\"\"},\"colorscale\":[[0.0,\"#0d0887\"],[0.1111111111111111,\"#46039f\"],[0.2222222222222222,\"#7201a8\"],[0.3333333333333333,\"#9c179e\"],[0.4444444444444444,\"#bd3786\"],[0.5555555555555556,\"#d8576b\"],[0.6666666666666666,\"#ed7953\"],[0.7777777777777778,\"#fb9f3a\"],[0.8888888888888888,\"#fdca26\"],[1.0,\"#f0f921\"]]}],\"surface\":[{\"type\":\"surface\",\"colorbar\":{\"outlinewidth\":0,\"ticks\":\"\"},\"colorscale\":[[0.0,\"#0d0887\"],[0.1111111111111111,\"#46039f\"],[0.2222222222222222,\"#7201a8\"],[0.3333333333333333,\"#9c179e\"],[0.4444444444444444,\"#bd3786\"],[0.5555555555555556,\"#d8576b\"],[0.6666666666666666,\"#ed7953\"],[0.7777777777777778,\"#fb9f3a\"],[0.8888888888888888,\"#fdca26\"],[1.0,\"#f0f921\"]]}],\"mesh3d\":[{\"type\":\"mesh3d\",\"colorbar\":{\"outlinewidth\":0,\"ticks\":\"\"}}],\"scatter\":[{\"fillpattern\":{\"fillmode\":\"overlay\",\"size\":10,\"solidity\":0.2},\"type\":\"scatter\"}],\"parcoords\":[{\"type\":\"parcoords\",\"line\":{\"colorbar\":{\"outlinewidth\":0,\"ticks\":\"\"}}}],\"scatterpolargl\":[{\"type\":\"scatterpolargl\",\"marker\":{\"colorbar\":{\"outlinewidth\":0,\"ticks\":\"\"}}}],\"bar\":[{\"error_x\":{\"color\":\"#2a3f5f\"},\"error_y\":{\"color\":\"#2a3f5f\"},\"marker\":{\"line\":{\"color\":\"#E5ECF6\",\"width\":0.5},\"pattern\":{\"fillmode\":\"overlay\",\"size\":10,\"solidity\":0.2}},\"type\":\"bar\"}],\"scattergeo\":[{\"type\":\"scattergeo\",\"marker\":{\"colorbar\":{\"outlinewidth\":0,\"ticks\":\"\"}}}],\"scatterpolar\":[{\"type\":\"scatterpolar\",\"marker\":{\"colorbar\":{\"outlinewidth\":0,\"ticks\":\"\"}}}],\"histogram\":[{\"marker\":{\"pattern\":{\"fillmode\":\"overlay\",\"size\":10,\"solidity\":0.2}},\"type\":\"histogram\"}],\"scattergl\":[{\"type\":\"scattergl\",\"marker\":{\"colorbar\":{\"outlinewidth\":0,\"ticks\":\"\"}}}],\"scatter3d\":[{\"type\":\"scatter3d\",\"line\":{\"colorbar\":{\"outlinewidth\":0,\"ticks\":\"\"}},\"marker\":{\"colorbar\":{\"outlinewidth\":0,\"ticks\":\"\"}}}],\"scattermapbox\":[{\"type\":\"scattermapbox\",\"marker\":{\"colorbar\":{\"outlinewidth\":0,\"ticks\":\"\"}}}],\"scatterternary\":[{\"type\":\"scatterternary\",\"marker\":{\"colorbar\":{\"outlinewidth\":0,\"ticks\":\"\"}}}],\"scattercarpet\":[{\"type\":\"scattercarpet\",\"marker\":{\"colorbar\":{\"outlinewidth\":0,\"ticks\":\"\"}}}],\"carpet\":[{\"aaxis\":{\"endlinecolor\":\"#2a3f5f\",\"gridcolor\":\"white\",\"linecolor\":\"white\",\"minorgridcolor\":\"white\",\"startlinecolor\":\"#2a3f5f\"},\"baxis\":{\"endlinecolor\":\"#2a3f5f\",\"gridcolor\":\"white\",\"linecolor\":\"white\",\"minorgridcolor\":\"white\",\"startlinecolor\":\"#2a3f5f\"},\"type\":\"carpet\"}],\"table\":[{\"cells\":{\"fill\":{\"color\":\"#EBF0F8\"},\"line\":{\"color\":\"white\"}},\"header\":{\"fill\":{\"color\":\"#C8D4E3\"},\"line\":{\"color\":\"white\"}},\"type\":\"table\"}],\"barpolar\":[{\"marker\":{\"line\":{\"color\":\"#E5ECF6\",\"width\":0.5},\"pattern\":{\"fillmode\":\"overlay\",\"size\":10,\"solidity\":0.2}},\"type\":\"barpolar\"}],\"pie\":[{\"automargin\":true,\"type\":\"pie\"}]},\"layout\":{\"autotypenumbers\":\"strict\",\"colorway\":[\"#636efa\",\"#EF553B\",\"#00cc96\",\"#ab63fa\",\"#FFA15A\",\"#19d3f3\",\"#FF6692\",\"#B6E880\",\"#FF97FF\",\"#FECB52\"],\"font\":{\"color\":\"#2a3f5f\"},\"hovermode\":\"closest\",\"hoverlabel\":{\"align\":\"left\"},\"paper_bgcolor\":\"white\",\"plot_bgcolor\":\"#E5ECF6\",\"polar\":{\"bgcolor\":\"#E5ECF6\",\"angularaxis\":{\"gridcolor\":\"white\",\"linecolor\":\"white\",\"ticks\":\"\"},\"radialaxis\":{\"gridcolor\":\"white\",\"linecolor\":\"white\",\"ticks\":\"\"}},\"ternary\":{\"bgcolor\":\"#E5ECF6\",\"aaxis\":{\"gridcolor\":\"white\",\"linecolor\":\"white\",\"ticks\":\"\"},\"baxis\":{\"gridcolor\":\"white\",\"linecolor\":\"white\",\"ticks\":\"\"},\"caxis\":{\"gridcolor\":\"white\",\"linecolor\":\"white\",\"ticks\":\"\"}},\"coloraxis\":{\"colorbar\":{\"outlinewidth\":0,\"ticks\":\"\"}},\"colorscale\":{\"sequential\":[[0.0,\"#0d0887\"],[0.1111111111111111,\"#46039f\"],[0.2222222222222222,\"#7201a8\"],[0.3333333333333333,\"#9c179e\"],[0.4444444444444444,\"#bd3786\"],[0.5555555555555556,\"#d8576b\"],[0.6666666666666666,\"#ed7953\"],[0.7777777777777778,\"#fb9f3a\"],[0.8888888888888888,\"#fdca26\"],[1.0,\"#f0f921\"]],\"sequentialminus\":[[0.0,\"#0d0887\"],[0.1111111111111111,\"#46039f\"],[0.2222222222222222,\"#7201a8\"],[0.3333333333333333,\"#9c179e\"],[0.4444444444444444,\"#bd3786\"],[0.5555555555555556,\"#d8576b\"],[0.6666666666666666,\"#ed7953\"],[0.7777777777777778,\"#fb9f3a\"],[0.8888888888888888,\"#fdca26\"],[1.0,\"#f0f921\"]],\"diverging\":[[0,\"#8e0152\"],[0.1,\"#c51b7d\"],[0.2,\"#de77ae\"],[0.3,\"#f1b6da\"],[0.4,\"#fde0ef\"],[0.5,\"#f7f7f7\"],[0.6,\"#e6f5d0\"],[0.7,\"#b8e186\"],[0.8,\"#7fbc41\"],[0.9,\"#4d9221\"],[1,\"#276419\"]]},\"xaxis\":{\"gridcolor\":\"white\",\"linecolor\":\"white\",\"ticks\":\"\",\"title\":{\"standoff\":15},\"zerolinecolor\":\"white\",\"automargin\":true,\"zerolinewidth\":2},\"yaxis\":{\"gridcolor\":\"white\",\"linecolor\":\"white\",\"ticks\":\"\",\"title\":{\"standoff\":15},\"zerolinecolor\":\"white\",\"automargin\":true,\"zerolinewidth\":2},\"scene\":{\"xaxis\":{\"backgroundcolor\":\"#E5ECF6\",\"gridcolor\":\"white\",\"linecolor\":\"white\",\"showbackground\":true,\"ticks\":\"\",\"zerolinecolor\":\"white\",\"gridwidth\":2},\"yaxis\":{\"backgroundcolor\":\"#E5ECF6\",\"gridcolor\":\"white\",\"linecolor\":\"white\",\"showbackground\":true,\"ticks\":\"\",\"zerolinecolor\":\"white\",\"gridwidth\":2},\"zaxis\":{\"backgroundcolor\":\"#E5ECF6\",\"gridcolor\":\"white\",\"linecolor\":\"white\",\"showbackground\":true,\"ticks\":\"\",\"zerolinecolor\":\"white\",\"gridwidth\":2}},\"shapedefaults\":{\"line\":{\"color\":\"#2a3f5f\"}},\"annotationdefaults\":{\"arrowcolor\":\"#2a3f5f\",\"arrowhead\":0,\"arrowwidth\":1},\"geo\":{\"bgcolor\":\"white\",\"landcolor\":\"#E5ECF6\",\"subunitcolor\":\"white\",\"showland\":true,\"showlakes\":true,\"lakecolor\":\"white\"},\"title\":{\"x\":0.05},\"mapbox\":{\"style\":\"light\"}}},\"scene\":{\"domain\":{\"x\":[0.0,1.0],\"y\":[0.0,1.0]},\"xaxis\":{\"title\":{\"text\":\"order_total\"}},\"yaxis\":{\"title\":{\"text\":\"frequency\"}},\"zaxis\":{\"title\":{\"text\":\"recency\"}}},\"coloraxis\":{\"colorbar\":{\"title\":{\"text\":\"class\"}},\"colorscale\":[[0.0,\"#0d0887\"],[0.1111111111111111,\"#46039f\"],[0.2222222222222222,\"#7201a8\"],[0.3333333333333333,\"#9c179e\"],[0.4444444444444444,\"#bd3786\"],[0.5555555555555556,\"#d8576b\"],[0.6666666666666666,\"#ed7953\"],[0.7777777777777778,\"#fb9f3a\"],[0.8888888888888888,\"#fdca26\"],[1.0,\"#f0f921\"]]},\"legend\":{\"title\":{\"text\":\"class\"},\"tracegroupgap\":0,\"x\":0,\"y\":1},\"margin\":{\"t\":60},\"width\":800},                        {\"responsive\": true}                    ).then(function(){\n",
       "                            \n",
       "var gd = document.getElementById('bd08bf8d-c9dd-45b6-86cc-5bcfacec0f13');\n",
       "var x = new MutationObserver(function (mutations, observer) {{\n",
       "        var display = window.getComputedStyle(gd).display;\n",
       "        if (!display || display === 'none') {{\n",
       "            console.log([gd, 'removed!']);\n",
       "            Plotly.purge(gd);\n",
       "            observer.disconnect();\n",
       "        }}\n",
       "}});\n",
       "\n",
       "// Listen for the removal of the full notebook cells\n",
       "var notebookContainer = gd.closest('#notebook-container');\n",
       "if (notebookContainer) {{\n",
       "    x.observe(notebookContainer, {childList: true});\n",
       "}}\n",
       "\n",
       "// Listen for the clearing of the current output cell\n",
       "var outputEl = gd.closest('.output');\n",
       "if (outputEl) {{\n",
       "    x.observe(outputEl, {childList: true});\n",
       "}}\n",
       "\n",
       "                        })                };                });            </script>        </div>"
      ]
     },
     "metadata": {},
     "output_type": "display_data"
    }
   ],
   "source": [
    "# Plot a 3D graph for K = 4:\n",
    "# Plot the 3D-scatter with x=\"order_total\", y=\"frequency\" and z=\"recency\"\n",
    "fig = px.scatter_3d(\n",
    "    four_clusters,\n",
    "    x=\"order_total\",\n",
    "    y=\"frequency\",\n",
    "    z=\"recency\",\n",
    "    color=\"class\",\n",
    "    symbol=\"class\",\n",
    "    width=800,\n",
    ")\n",
    "fig.update_layout(legend=dict(x=0, y=1))\n",
    "fig.show()\n"
   ]
  },
  {
   "cell_type": "code",
   "execution_count": 61,
   "id": "1e81c291",
   "metadata": {},
   "outputs": [
    {
     "data": {
      "text/html": [
       "<div>\n",
       "<style scoped>\n",
       "    .dataframe tbody tr th:only-of-type {\n",
       "        vertical-align: middle;\n",
       "    }\n",
       "\n",
       "    .dataframe tbody tr th {\n",
       "        vertical-align: top;\n",
       "    }\n",
       "\n",
       "    .dataframe thead th {\n",
       "        text-align: right;\n",
       "    }\n",
       "</style>\n",
       "<table border=\"1\" class=\"dataframe\">\n",
       "  <thead>\n",
       "    <tr style=\"text-align: right;\">\n",
       "      <th></th>\n",
       "      <th>customerid</th>\n",
       "      <th>order_total</th>\n",
       "      <th>frequency</th>\n",
       "      <th>recency</th>\n",
       "      <th>class</th>\n",
       "    </tr>\n",
       "  </thead>\n",
       "  <tbody>\n",
       "    <tr>\n",
       "      <th>0</th>\n",
       "      <td>1</td>\n",
       "      <td>1322278.5</td>\n",
       "      <td>152</td>\n",
       "      <td>7</td>\n",
       "      <td>4</td>\n",
       "    </tr>\n",
       "    <tr>\n",
       "      <th>1</th>\n",
       "      <td>2</td>\n",
       "      <td>1346264.5</td>\n",
       "      <td>135</td>\n",
       "      <td>7</td>\n",
       "      <td>4</td>\n",
       "    </tr>\n",
       "    <tr>\n",
       "      <th>2</th>\n",
       "      <td>3</td>\n",
       "      <td>1831947.5</td>\n",
       "      <td>181</td>\n",
       "      <td>8</td>\n",
       "      <td>0</td>\n",
       "    </tr>\n",
       "    <tr>\n",
       "      <th>3</th>\n",
       "      <td>4</td>\n",
       "      <td>1770582.2</td>\n",
       "      <td>167</td>\n",
       "      <td>3</td>\n",
       "      <td>0</td>\n",
       "    </tr>\n",
       "    <tr>\n",
       "      <th>4</th>\n",
       "      <td>5</td>\n",
       "      <td>1609232.8</td>\n",
       "      <td>159</td>\n",
       "      <td>28</td>\n",
       "      <td>2</td>\n",
       "    </tr>\n",
       "    <tr>\n",
       "      <th>5</th>\n",
       "      <td>6</td>\n",
       "      <td>1530755.7</td>\n",
       "      <td>143</td>\n",
       "      <td>2</td>\n",
       "      <td>1</td>\n",
       "    </tr>\n",
       "    <tr>\n",
       "      <th>6</th>\n",
       "      <td>7</td>\n",
       "      <td>1544061.9</td>\n",
       "      <td>153</td>\n",
       "      <td>1</td>\n",
       "      <td>1</td>\n",
       "    </tr>\n",
       "    <tr>\n",
       "      <th>7</th>\n",
       "      <td>8</td>\n",
       "      <td>1411522.5</td>\n",
       "      <td>142</td>\n",
       "      <td>3</td>\n",
       "      <td>4</td>\n",
       "    </tr>\n",
       "    <tr>\n",
       "      <th>8</th>\n",
       "      <td>9</td>\n",
       "      <td>1830038.0</td>\n",
       "      <td>171</td>\n",
       "      <td>6</td>\n",
       "      <td>0</td>\n",
       "    </tr>\n",
       "    <tr>\n",
       "      <th>9</th>\n",
       "      <td>10</td>\n",
       "      <td>1763942.5</td>\n",
       "      <td>158</td>\n",
       "      <td>13</td>\n",
       "      <td>0</td>\n",
       "    </tr>\n",
       "  </tbody>\n",
       "</table>\n",
       "</div>"
      ],
      "text/plain": [
       "   customerid  order_total  frequency  recency  class\n",
       "0           1    1322278.5        152        7      4\n",
       "1           2    1346264.5        135        7      4\n",
       "2           3    1831947.5        181        8      0\n",
       "3           4    1770582.2        167        3      0\n",
       "4           5    1609232.8        159       28      2\n",
       "5           6    1530755.7        143        2      1\n",
       "6           7    1544061.9        153        1      1\n",
       "7           8    1411522.5        142        3      4\n",
       "8           9    1830038.0        171        6      0\n",
       "9          10    1763942.5        158       13      0"
      ]
     },
     "execution_count": 61,
     "metadata": {},
     "output_type": "execute_result"
    }
   ],
   "source": [
    "# Five Clusters\n",
    "five_clusters =get_clusters(5,rfm)\n",
    "five_clusters.head(10)"
   ]
  },
  {
   "cell_type": "code",
   "execution_count": 62,
   "id": "9dd83d55",
   "metadata": {},
   "outputs": [
    {
     "data": {
      "text/html": [
       "<div>\n",
       "<style scoped>\n",
       "    .dataframe tbody tr th:only-of-type {\n",
       "        vertical-align: middle;\n",
       "    }\n",
       "\n",
       "    .dataframe tbody tr th {\n",
       "        vertical-align: top;\n",
       "    }\n",
       "\n",
       "    .dataframe thead th {\n",
       "        text-align: right;\n",
       "    }\n",
       "</style>\n",
       "<table border=\"1\" class=\"dataframe\">\n",
       "  <thead>\n",
       "    <tr style=\"text-align: right;\">\n",
       "      <th></th>\n",
       "      <th>customerid</th>\n",
       "      <th>order_total</th>\n",
       "      <th>frequency</th>\n",
       "      <th>recency</th>\n",
       "      <th>class</th>\n",
       "    </tr>\n",
       "  </thead>\n",
       "  <tbody>\n",
       "    <tr>\n",
       "      <th>0</th>\n",
       "      <td>1</td>\n",
       "      <td>1322278.5</td>\n",
       "      <td>152</td>\n",
       "      <td>7</td>\n",
       "      <td>4</td>\n",
       "    </tr>\n",
       "    <tr>\n",
       "      <th>1</th>\n",
       "      <td>2</td>\n",
       "      <td>1346264.5</td>\n",
       "      <td>135</td>\n",
       "      <td>7</td>\n",
       "      <td>4</td>\n",
       "    </tr>\n",
       "    <tr>\n",
       "      <th>2</th>\n",
       "      <td>3</td>\n",
       "      <td>1831947.5</td>\n",
       "      <td>181</td>\n",
       "      <td>8</td>\n",
       "      <td>1</td>\n",
       "    </tr>\n",
       "    <tr>\n",
       "      <th>3</th>\n",
       "      <td>4</td>\n",
       "      <td>1770582.2</td>\n",
       "      <td>167</td>\n",
       "      <td>3</td>\n",
       "      <td>5</td>\n",
       "    </tr>\n",
       "    <tr>\n",
       "      <th>4</th>\n",
       "      <td>5</td>\n",
       "      <td>1609232.8</td>\n",
       "      <td>159</td>\n",
       "      <td>28</td>\n",
       "      <td>3</td>\n",
       "    </tr>\n",
       "    <tr>\n",
       "      <th>5</th>\n",
       "      <td>6</td>\n",
       "      <td>1530755.7</td>\n",
       "      <td>143</td>\n",
       "      <td>2</td>\n",
       "      <td>0</td>\n",
       "    </tr>\n",
       "    <tr>\n",
       "      <th>6</th>\n",
       "      <td>7</td>\n",
       "      <td>1544061.9</td>\n",
       "      <td>153</td>\n",
       "      <td>1</td>\n",
       "      <td>0</td>\n",
       "    </tr>\n",
       "    <tr>\n",
       "      <th>7</th>\n",
       "      <td>8</td>\n",
       "      <td>1411522.5</td>\n",
       "      <td>142</td>\n",
       "      <td>3</td>\n",
       "      <td>4</td>\n",
       "    </tr>\n",
       "    <tr>\n",
       "      <th>8</th>\n",
       "      <td>9</td>\n",
       "      <td>1830038.0</td>\n",
       "      <td>171</td>\n",
       "      <td>6</td>\n",
       "      <td>1</td>\n",
       "    </tr>\n",
       "    <tr>\n",
       "      <th>9</th>\n",
       "      <td>10</td>\n",
       "      <td>1763942.5</td>\n",
       "      <td>158</td>\n",
       "      <td>13</td>\n",
       "      <td>5</td>\n",
       "    </tr>\n",
       "  </tbody>\n",
       "</table>\n",
       "</div>"
      ],
      "text/plain": [
       "   customerid  order_total  frequency  recency  class\n",
       "0           1    1322278.5        152        7      4\n",
       "1           2    1346264.5        135        7      4\n",
       "2           3    1831947.5        181        8      1\n",
       "3           4    1770582.2        167        3      5\n",
       "4           5    1609232.8        159       28      3\n",
       "5           6    1530755.7        143        2      0\n",
       "6           7    1544061.9        153        1      0\n",
       "7           8    1411522.5        142        3      4\n",
       "8           9    1830038.0        171        6      1\n",
       "9          10    1763942.5        158       13      5"
      ]
     },
     "execution_count": 62,
     "metadata": {},
     "output_type": "execute_result"
    }
   ],
   "source": [
    "# Six clusters\n",
    "six_clusters =get_clusters(6,rfm)\n",
    "six_clusters.head(10)"
   ]
  },
  {
   "cell_type": "code",
   "execution_count": 63,
   "id": "e57a8d8e",
   "metadata": {},
   "outputs": [
    {
     "data": {},
     "metadata": {},
     "output_type": "display_data"
    },
    {
     "data": {
      "application/vnd.holoviews_exec.v0+json": "",
      "text/html": [
       "<div id='3517'>\n",
       "\n",
       "\n",
       "\n",
       "\n",
       "\n",
       "  <div class=\"bk-root\" id=\"dd4d9af0-606b-43ce-b6f5-aa36a764df5f\" data-root-id=\"3517\"></div>\n",
       "</div>\n",
       "<script type=\"application/javascript\">(function(root) {\n",
       "  function embed_document(root) {\n",
       "    var docs_json = {\"183e8d93-59ad-4432-9b4e-294de077958e\":{\"defs\":[{\"extends\":null,\"module\":null,\"name\":\"ReactiveHTML1\",\"overrides\":[],\"properties\":[]},{\"extends\":null,\"module\":null,\"name\":\"FlexBox1\",\"overrides\":[],\"properties\":[{\"default\":\"flex-start\",\"kind\":null,\"name\":\"align_content\"},{\"default\":\"flex-start\",\"kind\":null,\"name\":\"align_items\"},{\"default\":\"row\",\"kind\":null,\"name\":\"flex_direction\"},{\"default\":\"wrap\",\"kind\":null,\"name\":\"flex_wrap\"},{\"default\":\"flex-start\",\"kind\":null,\"name\":\"justify_content\"}]},{\"extends\":null,\"module\":null,\"name\":\"GridStack1\",\"overrides\":[],\"properties\":[{\"default\":\"warn\",\"kind\":null,\"name\":\"mode\"},{\"default\":null,\"kind\":null,\"name\":\"ncols\"},{\"default\":null,\"kind\":null,\"name\":\"nrows\"},{\"default\":true,\"kind\":null,\"name\":\"allow_resize\"},{\"default\":true,\"kind\":null,\"name\":\"allow_drag\"},{\"default\":[],\"kind\":null,\"name\":\"state\"}]},{\"extends\":null,\"module\":null,\"name\":\"click1\",\"overrides\":[],\"properties\":[{\"default\":\"\",\"kind\":null,\"name\":\"terminal_output\"},{\"default\":\"\",\"kind\":null,\"name\":\"debug_name\"},{\"default\":0,\"kind\":null,\"name\":\"clears\"}]},{\"extends\":null,\"module\":null,\"name\":\"TemplateActions1\",\"overrides\":[],\"properties\":[{\"default\":0,\"kind\":null,\"name\":\"open_modal\"},{\"default\":0,\"kind\":null,\"name\":\"close_modal\"}]},{\"extends\":null,\"module\":null,\"name\":\"MaterialTemplateActions1\",\"overrides\":[],\"properties\":[{\"default\":0,\"kind\":null,\"name\":\"open_modal\"},{\"default\":0,\"kind\":null,\"name\":\"close_modal\"}]}],\"roots\":{\"references\":[{\"attributes\":{\"margin\":[5,5,5,5],\"name\":\"HSpacer07126\",\"sizing_mode\":\"stretch_width\"},\"id\":\"3518\",\"type\":\"Spacer\"},{\"attributes\":{},\"id\":\"3540\",\"type\":\"BasicTicker\"},{\"attributes\":{\"coordinates\":null,\"group\":null,\"text_color\":\"black\",\"text_font_size\":\"12pt\"},\"id\":\"3527\",\"type\":\"Title\"},{\"attributes\":{\"data\":{\"class\":[3,3],\"frequency\":[210,179],\"order_total\":{\"__ndarray__\":\"MzMzM0YnQUEzMzPzbh1AQQ==\",\"dtype\":\"float64\",\"order\":\"little\",\"shape\":[2]}},\"selected\":{\"id\":\"3630\"},\"selection_policy\":{\"id\":\"3650\"}},\"id\":\"3629\",\"type\":\"ColumnDataSource\"},{\"attributes\":{\"fill_color\":{\"value\":\"#fc4f30\"},\"hatch_color\":{\"value\":\"#fc4f30\"},\"line_color\":{\"value\":\"#fc4f30\"},\"size\":{\"value\":5.477225575051661},\"x\":{\"field\":\"order_total\"},\"y\":{\"field\":\"frequency\"}},\"id\":\"3586\",\"type\":\"Scatter\"},{\"attributes\":{\"label\":{\"value\":\"3\"},\"renderers\":[{\"id\":\"3635\"}]},\"id\":\"3653\",\"type\":\"LegendItem\"},{\"attributes\":{\"fill_alpha\":{\"value\":0.1},\"fill_color\":{\"value\":\"#30a2da\"},\"hatch_alpha\":{\"value\":0.1},\"hatch_color\":{\"value\":\"#30a2da\"},\"line_alpha\":{\"value\":0.1},\"line_color\":{\"value\":\"#30a2da\"},\"size\":{\"value\":5.477225575051661},\"x\":{\"field\":\"order_total\"},\"y\":{\"field\":\"frequency\"}},\"id\":\"3566\",\"type\":\"Scatter\"},{\"attributes\":{\"click_policy\":\"mute\",\"coordinates\":null,\"group\":null,\"items\":[{\"id\":\"3581\"},{\"id\":\"3603\"},{\"id\":\"3627\"},{\"id\":\"3653\"},{\"id\":\"3681\"}],\"location\":[0,0],\"title\":\"class\"},\"id\":\"3580\",\"type\":\"Legend\"},{\"attributes\":{},\"id\":\"3557\",\"type\":\"BasicTickFormatter\"},{\"attributes\":{\"data\":{\"class\":[1,1,1,1,1,1,1,1,1,1,1,1,1,1],\"frequency\":[143,153,142,135,167,140,153,145,161,151,156,157,168,152],\"order_total\":{\"__ndarray__\":\"MzMzs4NbN0FmZmbmfY83QQAAAAAWFTdBMzMzs/2dN0EzMzMzsEA3QQAAAAARzDZBZ2ZmZrfUN0EAAAAAfro3QZqZmRl3ZDdBzczMzHPeN0FmZmbmh1g3QWZmZubyAjdBAAAAgGkaOEGamZmZ6vA2QQ==\",\"dtype\":\"float64\",\"order\":\"little\",\"shape\":[14]}},\"selected\":{\"id\":\"3584\"},\"selection_policy\":{\"id\":\"3600\"}},\"id\":\"3583\",\"type\":\"ColumnDataSource\"},{\"attributes\":{\"fill_alpha\":{\"value\":0.2},\"fill_color\":{\"value\":\"#6d904f\"},\"hatch_alpha\":{\"value\":0.2},\"hatch_color\":{\"value\":\"#6d904f\"},\"line_alpha\":{\"value\":0.2},\"line_color\":{\"value\":\"#6d904f\"},\"size\":{\"value\":5.477225575051661},\"x\":{\"field\":\"order_total\"},\"y\":{\"field\":\"frequency\"}},\"id\":\"3634\",\"type\":\"Scatter\"},{\"attributes\":{\"label\":{\"value\":\"1\"},\"renderers\":[{\"id\":\"3589\"}]},\"id\":\"3603\",\"type\":\"LegendItem\"},{\"attributes\":{\"label\":{\"value\":\"0\"},\"renderers\":[{\"id\":\"3568\"}]},\"id\":\"3581\",\"type\":\"LegendItem\"},{\"attributes\":{\"fill_alpha\":{\"value\":0.1},\"fill_color\":{\"value\":\"#e5ae38\"},\"hatch_alpha\":{\"value\":0.1},\"hatch_color\":{\"value\":\"#e5ae38\"},\"line_alpha\":{\"value\":0.1},\"line_color\":{\"value\":\"#e5ae38\"},\"size\":{\"value\":5.477225575051661},\"x\":{\"field\":\"order_total\"},\"y\":{\"field\":\"frequency\"}},\"id\":\"3609\",\"type\":\"Scatter\"},{\"attributes\":{\"fill_color\":{\"value\":\"#e5ae38\"},\"hatch_color\":{\"value\":\"#e5ae38\"},\"line_color\":{\"value\":\"#e5ae38\"},\"size\":{\"value\":5.477225575051661},\"x\":{\"field\":\"order_total\"},\"y\":{\"field\":\"frequency\"}},\"id\":\"3608\",\"type\":\"Scatter\"},{\"attributes\":{\"data\":{\"class\":[4,4,4,4,4,4,4,4,4],\"frequency\":[152,135,142,157,151,144,145,152,150],\"order_total\":{\"__ndarray__\":\"AAAAgCYtNEEAAACA2Io0QQAAAIDCiTVBAAAAAMEoNkFmZmbmyNE1QZqZmZn4VDVBZmZmZm1+NUFmZmbmTCA2QZqZmRlkkzVB\",\"dtype\":\"float64\",\"order\":\"little\",\"shape\":[9]}},\"selected\":{\"id\":\"3656\"},\"selection_policy\":{\"id\":\"3678\"}},\"id\":\"3655\",\"type\":\"ColumnDataSource\"},{\"attributes\":{},\"id\":\"3536\",\"type\":\"BasicTicker\"},{\"attributes\":{\"angle\":{\"value\":0.0},\"fill_alpha\":{\"value\":1.0},\"fill_color\":{\"value\":\"#30a2da\"},\"hatch_alpha\":{\"value\":1.0},\"hatch_color\":{\"value\":\"#30a2da\"},\"hatch_scale\":{\"value\":12.0},\"hatch_weight\":{\"value\":1.0},\"line_alpha\":{\"value\":1.0},\"line_cap\":{\"value\":\"butt\"},\"line_color\":{\"value\":\"#30a2da\"},\"line_dash\":{\"value\":[]},\"line_dash_offset\":{\"value\":0},\"line_join\":{\"value\":\"bevel\"},\"line_width\":{\"value\":1},\"marker\":{\"value\":\"circle\"},\"size\":{\"value\":5.477225575051661},\"x\":{\"field\":\"order_total\"},\"y\":{\"field\":\"frequency\"}},\"id\":\"3582\",\"type\":\"Scatter\"},{\"attributes\":{\"angle\":{\"value\":0.0},\"fill_alpha\":{\"value\":1.0},\"fill_color\":{\"value\":\"#e5ae38\"},\"hatch_alpha\":{\"value\":1.0},\"hatch_color\":{\"value\":\"#e5ae38\"},\"hatch_scale\":{\"value\":12.0},\"hatch_weight\":{\"value\":1.0},\"line_alpha\":{\"value\":1.0},\"line_cap\":{\"value\":\"butt\"},\"line_color\":{\"value\":\"#e5ae38\"},\"line_dash\":{\"value\":[]},\"line_dash_offset\":{\"value\":0},\"line_join\":{\"value\":\"bevel\"},\"line_width\":{\"value\":1},\"marker\":{\"value\":\"circle\"},\"size\":{\"value\":5.477225575051661},\"x\":{\"field\":\"order_total\"},\"y\":{\"field\":\"frequency\"}},\"id\":\"3628\",\"type\":\"Scatter\"},{\"attributes\":{},\"id\":\"3533\",\"type\":\"LinearScale\"},{\"attributes\":{\"label\":{\"value\":\"2\"},\"renderers\":[{\"id\":\"3611\"}]},\"id\":\"3627\",\"type\":\"LegendItem\"},{\"attributes\":{},\"id\":\"3678\",\"type\":\"UnionRenderers\"},{\"attributes\":{\"axis\":{\"id\":\"3535\"},\"coordinates\":null,\"grid_line_color\":null,\"group\":null,\"ticker\":null},\"id\":\"3538\",\"type\":\"Grid\"},{\"attributes\":{},\"id\":\"3577\",\"type\":\"UnionRenderers\"},{\"attributes\":{\"fill_alpha\":{\"value\":0.2},\"fill_color\":{\"value\":\"#e5ae38\"},\"hatch_alpha\":{\"value\":0.2},\"hatch_color\":{\"value\":\"#e5ae38\"},\"line_alpha\":{\"value\":0.2},\"line_color\":{\"value\":\"#e5ae38\"},\"size\":{\"value\":5.477225575051661},\"x\":{\"field\":\"order_total\"},\"y\":{\"field\":\"frequency\"}},\"id\":\"3610\",\"type\":\"Scatter\"},{\"attributes\":{\"fill_color\":{\"value\":\"#8b8b8b\"},\"hatch_color\":{\"value\":\"#8b8b8b\"},\"line_color\":{\"value\":\"#8b8b8b\"},\"size\":{\"value\":5.477225575051661},\"x\":{\"field\":\"order_total\"},\"y\":{\"field\":\"frequency\"}},\"id\":\"3658\",\"type\":\"Scatter\"},{\"attributes\":{\"label\":{\"value\":\"4\"},\"renderers\":[{\"id\":\"3661\"}]},\"id\":\"3681\",\"type\":\"LegendItem\"},{\"attributes\":{\"axis_label\":\"frequency\",\"coordinates\":null,\"formatter\":{\"id\":\"3560\"},\"group\":null,\"major_label_policy\":{\"id\":\"3561\"},\"ticker\":{\"id\":\"3540\"}},\"id\":\"3539\",\"type\":\"LinearAxis\"},{\"attributes\":{},\"id\":\"3656\",\"type\":\"Selection\"},{\"attributes\":{\"axis_label\":\"order_total\",\"coordinates\":null,\"formatter\":{\"id\":\"3557\"},\"group\":null,\"major_label_policy\":{\"id\":\"3558\"},\"ticker\":{\"id\":\"3536\"}},\"id\":\"3535\",\"type\":\"LinearAxis\"},{\"attributes\":{\"coordinates\":null,\"data_source\":{\"id\":\"3655\"},\"glyph\":{\"id\":\"3658\"},\"group\":null,\"hover_glyph\":null,\"muted_glyph\":{\"id\":\"3660\"},\"nonselection_glyph\":{\"id\":\"3659\"},\"selection_glyph\":{\"id\":\"3682\"},\"view\":{\"id\":\"3662\"}},\"id\":\"3661\",\"type\":\"GlyphRenderer\"},{\"attributes\":{\"fill_alpha\":{\"value\":0.2},\"fill_color\":{\"value\":\"#fc4f30\"},\"hatch_alpha\":{\"value\":0.2},\"hatch_color\":{\"value\":\"#fc4f30\"},\"line_alpha\":{\"value\":0.2},\"line_color\":{\"value\":\"#fc4f30\"},\"size\":{\"value\":5.477225575051661},\"x\":{\"field\":\"order_total\"},\"y\":{\"field\":\"frequency\"}},\"id\":\"3588\",\"type\":\"Scatter\"},{\"attributes\":{\"fill_color\":{\"value\":\"#30a2da\"},\"hatch_color\":{\"value\":\"#30a2da\"},\"line_color\":{\"value\":\"#30a2da\"},\"size\":{\"value\":5.477225575051661},\"x\":{\"field\":\"order_total\"},\"y\":{\"field\":\"frequency\"}},\"id\":\"3565\",\"type\":\"Scatter\"},{\"attributes\":{},\"id\":\"3624\",\"type\":\"UnionRenderers\"},{\"attributes\":{\"axis\":{\"id\":\"3539\"},\"coordinates\":null,\"dimension\":1,\"grid_line_color\":null,\"group\":null,\"ticker\":null},\"id\":\"3542\",\"type\":\"Grid\"},{\"attributes\":{\"coordinates\":null,\"data_source\":{\"id\":\"3605\"},\"glyph\":{\"id\":\"3608\"},\"group\":null,\"hover_glyph\":null,\"muted_glyph\":{\"id\":\"3610\"},\"nonselection_glyph\":{\"id\":\"3609\"},\"selection_glyph\":{\"id\":\"3628\"},\"view\":{\"id\":\"3612\"}},\"id\":\"3611\",\"type\":\"GlyphRenderer\"},{\"attributes\":{\"callback\":null,\"renderers\":[{\"id\":\"3568\"},{\"id\":\"3589\"},{\"id\":\"3611\"},{\"id\":\"3635\"},{\"id\":\"3661\"}],\"tags\":[\"hv_created\"],\"tooltips\":[[\"class\",\"@{class}\"],[\"order_total\",\"@{order_total}\"],[\"frequency\",\"@{frequency}\"]]},\"id\":\"3521\",\"type\":\"HoverTool\"},{\"attributes\":{},\"id\":\"3606\",\"type\":\"Selection\"},{\"attributes\":{\"fill_alpha\":{\"value\":0.1},\"fill_color\":{\"value\":\"#6d904f\"},\"hatch_alpha\":{\"value\":0.1},\"hatch_color\":{\"value\":\"#6d904f\"},\"line_alpha\":{\"value\":0.1},\"line_color\":{\"value\":\"#6d904f\"},\"size\":{\"value\":5.477225575051661},\"x\":{\"field\":\"order_total\"},\"y\":{\"field\":\"frequency\"}},\"id\":\"3633\",\"type\":\"Scatter\"},{\"attributes\":{},\"id\":\"3531\",\"type\":\"LinearScale\"},{\"attributes\":{\"below\":[{\"id\":\"3535\"}],\"center\":[{\"id\":\"3538\"},{\"id\":\"3542\"}],\"height\":300,\"left\":[{\"id\":\"3539\"}],\"margin\":[5,5,5,5],\"min_border_bottom\":10,\"min_border_left\":10,\"min_border_right\":10,\"min_border_top\":10,\"renderers\":[{\"id\":\"3568\"},{\"id\":\"3589\"},{\"id\":\"3611\"},{\"id\":\"3635\"},{\"id\":\"3661\"}],\"right\":[{\"id\":\"3580\"}],\"sizing_mode\":\"fixed\",\"title\":{\"id\":\"3527\"},\"toolbar\":{\"id\":\"3549\"},\"width\":700,\"x_range\":{\"id\":\"3519\"},\"x_scale\":{\"id\":\"3531\"},\"y_range\":{\"id\":\"3520\"},\"y_scale\":{\"id\":\"3533\"}},\"id\":\"3526\",\"subtype\":\"Figure\",\"type\":\"Plot\"},{\"attributes\":{\"margin\":[5,5,5,5],\"name\":\"HSpacer07127\",\"sizing_mode\":\"stretch_width\"},\"id\":\"3845\",\"type\":\"Spacer\"},{\"attributes\":{\"source\":{\"id\":\"3655\"}},\"id\":\"3662\",\"type\":\"CDSView\"},{\"attributes\":{\"source\":{\"id\":\"3583\"}},\"id\":\"3590\",\"type\":\"CDSView\"},{\"attributes\":{},\"id\":\"3650\",\"type\":\"UnionRenderers\"},{\"attributes\":{\"coordinates\":null,\"data_source\":{\"id\":\"3583\"},\"glyph\":{\"id\":\"3586\"},\"group\":null,\"hover_glyph\":null,\"muted_glyph\":{\"id\":\"3588\"},\"nonselection_glyph\":{\"id\":\"3587\"},\"selection_glyph\":{\"id\":\"3604\"},\"view\":{\"id\":\"3590\"}},\"id\":\"3589\",\"type\":\"GlyphRenderer\"},{\"attributes\":{\"coordinates\":null,\"data_source\":{\"id\":\"3562\"},\"glyph\":{\"id\":\"3565\"},\"group\":null,\"hover_glyph\":null,\"muted_glyph\":{\"id\":\"3567\"},\"nonselection_glyph\":{\"id\":\"3566\"},\"selection_glyph\":{\"id\":\"3582\"},\"view\":{\"id\":\"3569\"}},\"id\":\"3568\",\"type\":\"GlyphRenderer\"},{\"attributes\":{\"tools\":[{\"id\":\"3521\"},{\"id\":\"3543\"},{\"id\":\"3544\"},{\"id\":\"3545\"},{\"id\":\"3546\"},{\"id\":\"3547\"}]},\"id\":\"3549\",\"type\":\"Toolbar\"},{\"attributes\":{\"fill_alpha\":{\"value\":0.2},\"fill_color\":{\"value\":\"#8b8b8b\"},\"hatch_alpha\":{\"value\":0.2},\"hatch_color\":{\"value\":\"#8b8b8b\"},\"line_alpha\":{\"value\":0.2},\"line_color\":{\"value\":\"#8b8b8b\"},\"size\":{\"value\":5.477225575051661},\"x\":{\"field\":\"order_total\"},\"y\":{\"field\":\"frequency\"}},\"id\":\"3660\",\"type\":\"Scatter\"},{\"attributes\":{\"end\":2288020.424285714,\"reset_end\":2288020.424285714,\"reset_start\":1282590.4757142856,\"start\":1282590.4757142856,\"tags\":[[[\"order_total\",\"order_total\",null]]]},\"id\":\"3519\",\"type\":\"Range1d\"},{\"attributes\":{},\"id\":\"3543\",\"type\":\"SaveTool\"},{\"attributes\":{},\"id\":\"3544\",\"type\":\"PanTool\"},{\"attributes\":{},\"id\":\"3560\",\"type\":\"BasicTickFormatter\"},{\"attributes\":{},\"id\":\"3547\",\"type\":\"ResetTool\"},{\"attributes\":{},\"id\":\"3545\",\"type\":\"WheelZoomTool\"},{\"attributes\":{},\"id\":\"3584\",\"type\":\"Selection\"},{\"attributes\":{\"end\":217.5,\"reset_end\":217.5,\"reset_start\":127.5,\"start\":127.5,\"tags\":[[[\"frequency\",\"frequency\",null]]]},\"id\":\"3520\",\"type\":\"Range1d\"},{\"attributes\":{\"overlay\":{\"id\":\"3548\"}},\"id\":\"3546\",\"type\":\"BoxZoomTool\"},{\"attributes\":{},\"id\":\"3558\",\"type\":\"AllLabels\"},{\"attributes\":{\"source\":{\"id\":\"3629\"}},\"id\":\"3636\",\"type\":\"CDSView\"},{\"attributes\":{\"fill_alpha\":{\"value\":0.1},\"fill_color\":{\"value\":\"#8b8b8b\"},\"hatch_alpha\":{\"value\":0.1},\"hatch_color\":{\"value\":\"#8b8b8b\"},\"line_alpha\":{\"value\":0.1},\"line_color\":{\"value\":\"#8b8b8b\"},\"size\":{\"value\":5.477225575051661},\"x\":{\"field\":\"order_total\"},\"y\":{\"field\":\"frequency\"}},\"id\":\"3659\",\"type\":\"Scatter\"},{\"attributes\":{\"fill_color\":{\"value\":\"#6d904f\"},\"hatch_color\":{\"value\":\"#6d904f\"},\"line_color\":{\"value\":\"#6d904f\"},\"size\":{\"value\":5.477225575051661},\"x\":{\"field\":\"order_total\"},\"y\":{\"field\":\"frequency\"}},\"id\":\"3632\",\"type\":\"Scatter\"},{\"attributes\":{\"angle\":{\"value\":0.0},\"fill_alpha\":{\"value\":1.0},\"fill_color\":{\"value\":\"#8b8b8b\"},\"hatch_alpha\":{\"value\":1.0},\"hatch_color\":{\"value\":\"#8b8b8b\"},\"hatch_scale\":{\"value\":12.0},\"hatch_weight\":{\"value\":1.0},\"line_alpha\":{\"value\":1.0},\"line_cap\":{\"value\":\"butt\"},\"line_color\":{\"value\":\"#8b8b8b\"},\"line_dash\":{\"value\":[]},\"line_dash_offset\":{\"value\":0},\"line_join\":{\"value\":\"bevel\"},\"line_width\":{\"value\":1},\"marker\":{\"value\":\"circle\"},\"size\":{\"value\":5.477225575051661},\"x\":{\"field\":\"order_total\"},\"y\":{\"field\":\"frequency\"}},\"id\":\"3682\",\"type\":\"Scatter\"},{\"attributes\":{\"fill_alpha\":{\"value\":0.2},\"fill_color\":{\"value\":\"#30a2da\"},\"hatch_alpha\":{\"value\":0.2},\"hatch_color\":{\"value\":\"#30a2da\"},\"line_alpha\":{\"value\":0.2},\"line_color\":{\"value\":\"#30a2da\"},\"size\":{\"value\":5.477225575051661},\"x\":{\"field\":\"order_total\"},\"y\":{\"field\":\"frequency\"}},\"id\":\"3567\",\"type\":\"Scatter\"},{\"attributes\":{\"angle\":{\"value\":0.0},\"fill_alpha\":{\"value\":1.0},\"fill_color\":{\"value\":\"#6d904f\"},\"hatch_alpha\":{\"value\":1.0},\"hatch_color\":{\"value\":\"#6d904f\"},\"hatch_scale\":{\"value\":12.0},\"hatch_weight\":{\"value\":1.0},\"line_alpha\":{\"value\":1.0},\"line_cap\":{\"value\":\"butt\"},\"line_color\":{\"value\":\"#6d904f\"},\"line_dash\":{\"value\":[]},\"line_dash_offset\":{\"value\":0},\"line_join\":{\"value\":\"bevel\"},\"line_width\":{\"value\":1},\"marker\":{\"value\":\"circle\"},\"size\":{\"value\":5.477225575051661},\"x\":{\"field\":\"order_total\"},\"y\":{\"field\":\"frequency\"}},\"id\":\"3654\",\"type\":\"Scatter\"},{\"attributes\":{},\"id\":\"3600\",\"type\":\"UnionRenderers\"},{\"attributes\":{\"data\":{\"class\":[2,2,2,2,2,2,2,2,2,2],\"frequency\":[159,165,159,156,152,150,161,156,172,163],\"order_total\":{\"__ndarray__\":\"zczMzBCOOEHNzMzMjkw6QTMzM7OvBzlBMzMzM6i7OEGamZmZ8cA4QZqZmRkh+jhBmpmZmTY8OUGamZmZTd84QQAAAADdezlBmpmZmeHhOUE=\",\"dtype\":\"float64\",\"order\":\"little\",\"shape\":[10]}},\"selected\":{\"id\":\"3606\"},\"selection_policy\":{\"id\":\"3624\"}},\"id\":\"3605\",\"type\":\"ColumnDataSource\"},{\"attributes\":{\"fill_alpha\":{\"value\":0.1},\"fill_color\":{\"value\":\"#fc4f30\"},\"hatch_alpha\":{\"value\":0.1},\"hatch_color\":{\"value\":\"#fc4f30\"},\"line_alpha\":{\"value\":0.1},\"line_color\":{\"value\":\"#fc4f30\"},\"size\":{\"value\":5.477225575051661},\"x\":{\"field\":\"order_total\"},\"y\":{\"field\":\"frequency\"}},\"id\":\"3587\",\"type\":\"Scatter\"},{\"attributes\":{\"coordinates\":null,\"data_source\":{\"id\":\"3629\"},\"glyph\":{\"id\":\"3632\"},\"group\":null,\"hover_glyph\":null,\"muted_glyph\":{\"id\":\"3634\"},\"nonselection_glyph\":{\"id\":\"3633\"},\"selection_glyph\":{\"id\":\"3654\"},\"view\":{\"id\":\"3636\"}},\"id\":\"3635\",\"type\":\"GlyphRenderer\"},{\"attributes\":{\"source\":{\"id\":\"3562\"}},\"id\":\"3569\",\"type\":\"CDSView\"},{\"attributes\":{\"bottom_units\":\"screen\",\"coordinates\":null,\"fill_alpha\":0.5,\"fill_color\":\"lightgrey\",\"group\":null,\"left_units\":\"screen\",\"level\":\"overlay\",\"line_alpha\":1.0,\"line_color\":\"black\",\"line_dash\":[4,4],\"line_width\":2,\"right_units\":\"screen\",\"syncable\":false,\"top_units\":\"screen\"},\"id\":\"3548\",\"type\":\"BoxAnnotation\"},{\"attributes\":{},\"id\":\"3561\",\"type\":\"AllLabels\"},{\"attributes\":{},\"id\":\"3563\",\"type\":\"Selection\"},{\"attributes\":{\"source\":{\"id\":\"3605\"}},\"id\":\"3612\",\"type\":\"CDSView\"},{\"attributes\":{\"children\":[{\"id\":\"3518\"},{\"id\":\"3526\"},{\"id\":\"3845\"}],\"margin\":[0,0,0,0],\"name\":\"Row07122\",\"tags\":[\"embedded\"]},\"id\":\"3517\",\"type\":\"Row\"},{\"attributes\":{},\"id\":\"3630\",\"type\":\"Selection\"},{\"attributes\":{\"angle\":{\"value\":0.0},\"fill_alpha\":{\"value\":1.0},\"fill_color\":{\"value\":\"#fc4f30\"},\"hatch_alpha\":{\"value\":1.0},\"hatch_color\":{\"value\":\"#fc4f30\"},\"hatch_scale\":{\"value\":12.0},\"hatch_weight\":{\"value\":1.0},\"line_alpha\":{\"value\":1.0},\"line_cap\":{\"value\":\"butt\"},\"line_color\":{\"value\":\"#fc4f30\"},\"line_dash\":{\"value\":[]},\"line_dash_offset\":{\"value\":0},\"line_join\":{\"value\":\"bevel\"},\"line_width\":{\"value\":1},\"marker\":{\"value\":\"circle\"},\"size\":{\"value\":5.477225575051661},\"x\":{\"field\":\"order_total\"},\"y\":{\"field\":\"frequency\"}},\"id\":\"3604\",\"type\":\"Scatter\"},{\"attributes\":{\"data\":{\"class\":[0,0,0,0,0,0,0,0,0,0,0,0,0,0,0],\"frequency\":[181,167,171,158,178,171,175,186,164,164,162,173,156,176,176],\"order_total\":{\"__ndarray__\":\"AAAAgAv0O0EzMzMzVgQ7QQAAAACW7DtBAAAAgGbqOkEzMzMzEr08Qc3MzMwhgjxBmpmZmR7wPUEAAAAAFyo8QQAAAAActjxBAAAAAPNdO0FmZmZm3+U6QZqZmZljUzxBzczMzBTrPEGamZmZo5E9QQAAAADF1DtB\",\"dtype\":\"float64\",\"order\":\"little\",\"shape\":[15]}},\"selected\":{\"id\":\"3563\"},\"selection_policy\":{\"id\":\"3577\"}},\"id\":\"3562\",\"type\":\"ColumnDataSource\"}],\"root_ids\":[\"3517\"]},\"title\":\"Bokeh Application\",\"version\":\"2.4.1\"}};\n",
       "    var render_items = [{\"docid\":\"183e8d93-59ad-4432-9b4e-294de077958e\",\"root_ids\":[\"3517\"],\"roots\":{\"3517\":\"dd4d9af0-606b-43ce-b6f5-aa36a764df5f\"}}];\n",
       "    root.Bokeh.embed.embed_items_notebook(docs_json, render_items);\n",
       "  }\n",
       "  if (root.Bokeh !== undefined && root.Bokeh.Panel !== undefined) {\n",
       "    embed_document(root);\n",
       "  } else {\n",
       "    var attempts = 0;\n",
       "    var timer = setInterval(function(root) {\n",
       "      if (root.Bokeh !== undefined && root.Bokeh.Panel !== undefined) {\n",
       "        clearInterval(timer);\n",
       "        embed_document(root);\n",
       "      } else if (document.readyState == \"complete\") {\n",
       "        attempts++;\n",
       "        if (attempts > 200) {\n",
       "          clearInterval(timer);\n",
       "          console.log(\"Bokeh: ERROR: Unable to run BokehJS code because BokehJS library is missing\");\n",
       "        }\n",
       "      }\n",
       "    }, 25, root)\n",
       "  }\n",
       "})(window);</script>"
      ],
      "text/plain": [
       ":NdOverlay   [class]\n",
       "   :Scatter   [order_total]   (frequency)"
      ]
     },
     "execution_count": 63,
     "metadata": {
      "application/vnd.holoviews_exec.v0+json": {
       "id": "3517"
      }
     },
     "output_type": "execute_result"
    }
   ],
   "source": [
    "# five scatter plot\n",
    "five_clusters.hvplot.scatter(x=\"order_total\",y=\"frequency\",by=\"class\")"
   ]
  },
  {
   "cell_type": "code",
   "execution_count": 64,
   "id": "d566f544",
   "metadata": {},
   "outputs": [
    {
     "data": {},
     "metadata": {},
     "output_type": "display_data"
    },
    {
     "data": {
      "application/vnd.holoviews_exec.v0+json": "",
      "text/html": [
       "<div id='3937'>\n",
       "\n",
       "\n",
       "\n",
       "\n",
       "\n",
       "  <div class=\"bk-root\" id=\"3f3b647c-823a-4c1d-b090-e11dae6006b8\" data-root-id=\"3937\"></div>\n",
       "</div>\n",
       "<script type=\"application/javascript\">(function(root) {\n",
       "  function embed_document(root) {\n",
       "    var docs_json = {\"eeec9c20-fc13-4d3d-be4e-f79afb3cd8c0\":{\"defs\":[{\"extends\":null,\"module\":null,\"name\":\"ReactiveHTML1\",\"overrides\":[],\"properties\":[]},{\"extends\":null,\"module\":null,\"name\":\"FlexBox1\",\"overrides\":[],\"properties\":[{\"default\":\"flex-start\",\"kind\":null,\"name\":\"align_content\"},{\"default\":\"flex-start\",\"kind\":null,\"name\":\"align_items\"},{\"default\":\"row\",\"kind\":null,\"name\":\"flex_direction\"},{\"default\":\"wrap\",\"kind\":null,\"name\":\"flex_wrap\"},{\"default\":\"flex-start\",\"kind\":null,\"name\":\"justify_content\"}]},{\"extends\":null,\"module\":null,\"name\":\"GridStack1\",\"overrides\":[],\"properties\":[{\"default\":\"warn\",\"kind\":null,\"name\":\"mode\"},{\"default\":null,\"kind\":null,\"name\":\"ncols\"},{\"default\":null,\"kind\":null,\"name\":\"nrows\"},{\"default\":true,\"kind\":null,\"name\":\"allow_resize\"},{\"default\":true,\"kind\":null,\"name\":\"allow_drag\"},{\"default\":[],\"kind\":null,\"name\":\"state\"}]},{\"extends\":null,\"module\":null,\"name\":\"click1\",\"overrides\":[],\"properties\":[{\"default\":\"\",\"kind\":null,\"name\":\"terminal_output\"},{\"default\":\"\",\"kind\":null,\"name\":\"debug_name\"},{\"default\":0,\"kind\":null,\"name\":\"clears\"}]},{\"extends\":null,\"module\":null,\"name\":\"TemplateActions1\",\"overrides\":[],\"properties\":[{\"default\":0,\"kind\":null,\"name\":\"open_modal\"},{\"default\":0,\"kind\":null,\"name\":\"close_modal\"}]},{\"extends\":null,\"module\":null,\"name\":\"MaterialTemplateActions1\",\"overrides\":[],\"properties\":[{\"default\":0,\"kind\":null,\"name\":\"open_modal\"},{\"default\":0,\"kind\":null,\"name\":\"close_modal\"}]}],\"roots\":{\"references\":[{\"attributes\":{\"angle\":{\"value\":0.0},\"fill_alpha\":{\"value\":1.0},\"fill_color\":{\"value\":\"#6d904f\"},\"hatch_alpha\":{\"value\":1.0},\"hatch_color\":{\"value\":\"#6d904f\"},\"hatch_scale\":{\"value\":12.0},\"hatch_weight\":{\"value\":1.0},\"line_alpha\":{\"value\":1.0},\"line_cap\":{\"value\":\"butt\"},\"line_color\":{\"value\":\"#6d904f\"},\"line_dash\":{\"value\":[]},\"line_dash_offset\":{\"value\":0},\"line_join\":{\"value\":\"bevel\"},\"line_width\":{\"value\":1},\"marker\":{\"value\":\"circle\"},\"size\":{\"value\":5.477225575051661},\"x\":{\"field\":\"order_total\"},\"y\":{\"field\":\"recency\"}},\"id\":\"4075\",\"type\":\"Scatter\"},{\"attributes\":{\"angle\":{\"value\":0.0},\"fill_alpha\":{\"value\":1.0},\"fill_color\":{\"value\":\"#8b8b8b\"},\"hatch_alpha\":{\"value\":1.0},\"hatch_color\":{\"value\":\"#8b8b8b\"},\"hatch_scale\":{\"value\":12.0},\"hatch_weight\":{\"value\":1.0},\"line_alpha\":{\"value\":1.0},\"line_cap\":{\"value\":\"butt\"},\"line_color\":{\"value\":\"#8b8b8b\"},\"line_dash\":{\"value\":[]},\"line_dash_offset\":{\"value\":0},\"line_join\":{\"value\":\"bevel\"},\"line_width\":{\"value\":1},\"marker\":{\"value\":\"circle\"},\"size\":{\"value\":5.477225575051661},\"x\":{\"field\":\"order_total\"},\"y\":{\"field\":\"recency\"}},\"id\":\"4103\",\"type\":\"Scatter\"},{\"attributes\":{\"fill_alpha\":{\"value\":0.2},\"fill_color\":{\"value\":\"#30a2da\"},\"hatch_alpha\":{\"value\":0.2},\"hatch_color\":{\"value\":\"#30a2da\"},\"line_alpha\":{\"value\":0.2},\"line_color\":{\"value\":\"#30a2da\"},\"size\":{\"value\":5.477225575051661},\"x\":{\"field\":\"order_total\"},\"y\":{\"field\":\"recency\"}},\"id\":\"3988\",\"type\":\"Scatter\"},{\"attributes\":{\"source\":{\"id\":\"3983\"}},\"id\":\"3990\",\"type\":\"CDSView\"},{\"attributes\":{\"source\":{\"id\":\"4004\"}},\"id\":\"4011\",\"type\":\"CDSView\"},{\"attributes\":{\"click_policy\":\"mute\",\"coordinates\":null,\"group\":null,\"items\":[{\"id\":\"4002\"},{\"id\":\"4024\"},{\"id\":\"4048\"},{\"id\":\"4074\"},{\"id\":\"4102\"},{\"id\":\"4132\"}],\"location\":[0,0],\"title\":\"class\"},\"id\":\"4001\",\"type\":\"Legend\"},{\"attributes\":{\"fill_alpha\":{\"value\":0.2},\"fill_color\":{\"value\":\"#fc4f30\"},\"hatch_alpha\":{\"value\":0.2},\"hatch_color\":{\"value\":\"#fc4f30\"},\"line_alpha\":{\"value\":0.2},\"line_color\":{\"value\":\"#fc4f30\"},\"size\":{\"value\":5.477225575051661},\"x\":{\"field\":\"order_total\"},\"y\":{\"field\":\"recency\"}},\"id\":\"4009\",\"type\":\"Scatter\"},{\"attributes\":{},\"id\":\"3982\",\"type\":\"AllLabels\"},{\"attributes\":{\"fill_alpha\":{\"value\":0.1},\"fill_color\":{\"value\":\"#8b8b8b\"},\"hatch_alpha\":{\"value\":0.1},\"hatch_color\":{\"value\":\"#8b8b8b\"},\"line_alpha\":{\"value\":0.1},\"line_color\":{\"value\":\"#8b8b8b\"},\"size\":{\"value\":5.477225575051661},\"x\":{\"field\":\"order_total\"},\"y\":{\"field\":\"recency\"}},\"id\":\"4080\",\"type\":\"Scatter\"},{\"attributes\":{},\"id\":\"3968\",\"type\":\"ResetTool\"},{\"attributes\":{\"fill_alpha\":{\"value\":0.1},\"fill_color\":{\"value\":\"#17becf\"},\"hatch_alpha\":{\"value\":0.1},\"hatch_color\":{\"value\":\"#17becf\"},\"line_alpha\":{\"value\":0.1},\"line_color\":{\"value\":\"#17becf\"},\"size\":{\"value\":5.477225575051661},\"x\":{\"field\":\"order_total\"},\"y\":{\"field\":\"recency\"}},\"id\":\"4108\",\"type\":\"Scatter\"},{\"attributes\":{\"source\":{\"id\":\"4076\"}},\"id\":\"4083\",\"type\":\"CDSView\"},{\"attributes\":{},\"id\":\"4021\",\"type\":\"UnionRenderers\"},{\"attributes\":{\"end\":2288020.424285714,\"reset_end\":2288020.424285714,\"reset_start\":1282590.4757142856,\"start\":1282590.4757142856,\"tags\":[[[\"order_total\",\"order_total\",null]]]},\"id\":\"3939\",\"type\":\"Range1d\"},{\"attributes\":{\"source\":{\"id\":\"4050\"}},\"id\":\"4057\",\"type\":\"CDSView\"},{\"attributes\":{},\"id\":\"4051\",\"type\":\"Selection\"},{\"attributes\":{\"data\":{\"class\":[5,5,5,5,5],\"order_total\":{\"__ndarray__\":\"MzMzM1YEO0EAAACAZuo6Qc3MzMyOTDpBAAAAAPNdO0FmZmZm3+U6QQ==\",\"dtype\":\"float64\",\"order\":\"little\",\"shape\":[5]},\"recency\":[3,13,1,10,3]},\"selected\":{\"id\":\"4105\"},\"selection_policy\":{\"id\":\"4129\"}},\"id\":\"4104\",\"type\":\"ColumnDataSource\"},{\"attributes\":{\"coordinates\":null,\"data_source\":{\"id\":\"3983\"},\"glyph\":{\"id\":\"3986\"},\"group\":null,\"hover_glyph\":null,\"muted_glyph\":{\"id\":\"3988\"},\"nonselection_glyph\":{\"id\":\"3987\"},\"selection_glyph\":{\"id\":\"4003\"},\"view\":{\"id\":\"3990\"}},\"id\":\"3989\",\"type\":\"GlyphRenderer\"},{\"attributes\":{\"coordinates\":null,\"data_source\":{\"id\":\"4050\"},\"glyph\":{\"id\":\"4053\"},\"group\":null,\"hover_glyph\":null,\"muted_glyph\":{\"id\":\"4055\"},\"nonselection_glyph\":{\"id\":\"4054\"},\"selection_glyph\":{\"id\":\"4075\"},\"view\":{\"id\":\"4057\"}},\"id\":\"4056\",\"type\":\"GlyphRenderer\"},{\"attributes\":{\"fill_alpha\":{\"value\":0.1},\"fill_color\":{\"value\":\"#fc4f30\"},\"hatch_alpha\":{\"value\":0.1},\"hatch_color\":{\"value\":\"#fc4f30\"},\"line_alpha\":{\"value\":0.1},\"line_color\":{\"value\":\"#fc4f30\"},\"size\":{\"value\":5.477225575051661},\"x\":{\"field\":\"order_total\"},\"y\":{\"field\":\"recency\"}},\"id\":\"4008\",\"type\":\"Scatter\"},{\"attributes\":{\"fill_alpha\":{\"value\":0.1},\"fill_color\":{\"value\":\"#6d904f\"},\"hatch_alpha\":{\"value\":0.1},\"hatch_color\":{\"value\":\"#6d904f\"},\"line_alpha\":{\"value\":0.1},\"line_color\":{\"value\":\"#6d904f\"},\"size\":{\"value\":5.477225575051661},\"x\":{\"field\":\"order_total\"},\"y\":{\"field\":\"recency\"}},\"id\":\"4054\",\"type\":\"Scatter\"},{\"attributes\":{\"margin\":[5,5,5,5],\"name\":\"HSpacer08060\",\"sizing_mode\":\"stretch_width\"},\"id\":\"4314\",\"type\":\"Spacer\"},{\"attributes\":{\"fill_alpha\":{\"value\":0.2},\"fill_color\":{\"value\":\"#8b8b8b\"},\"hatch_alpha\":{\"value\":0.2},\"hatch_color\":{\"value\":\"#8b8b8b\"},\"line_alpha\":{\"value\":0.2},\"line_color\":{\"value\":\"#8b8b8b\"},\"size\":{\"value\":5.477225575051661},\"x\":{\"field\":\"order_total\"},\"y\":{\"field\":\"recency\"}},\"id\":\"4081\",\"type\":\"Scatter\"},{\"attributes\":{\"coordinates\":null,\"data_source\":{\"id\":\"4004\"},\"glyph\":{\"id\":\"4007\"},\"group\":null,\"hover_glyph\":null,\"muted_glyph\":{\"id\":\"4009\"},\"nonselection_glyph\":{\"id\":\"4008\"},\"selection_glyph\":{\"id\":\"4025\"},\"view\":{\"id\":\"4011\"}},\"id\":\"4010\",\"type\":\"GlyphRenderer\"},{\"attributes\":{},\"id\":\"3998\",\"type\":\"UnionRenderers\"},{\"attributes\":{\"angle\":{\"value\":0.0},\"fill_alpha\":{\"value\":1.0},\"fill_color\":{\"value\":\"#fc4f30\"},\"hatch_alpha\":{\"value\":1.0},\"hatch_color\":{\"value\":\"#fc4f30\"},\"hatch_scale\":{\"value\":12.0},\"hatch_weight\":{\"value\":1.0},\"line_alpha\":{\"value\":1.0},\"line_cap\":{\"value\":\"butt\"},\"line_color\":{\"value\":\"#fc4f30\"},\"line_dash\":{\"value\":[]},\"line_dash_offset\":{\"value\":0},\"line_join\":{\"value\":\"bevel\"},\"line_width\":{\"value\":1},\"marker\":{\"value\":\"circle\"},\"size\":{\"value\":5.477225575051661},\"x\":{\"field\":\"order_total\"},\"y\":{\"field\":\"recency\"}},\"id\":\"4025\",\"type\":\"Scatter\"},{\"attributes\":{},\"id\":\"3964\",\"type\":\"SaveTool\"},{\"attributes\":{},\"id\":\"4045\",\"type\":\"UnionRenderers\"},{\"attributes\":{\"axis_label\":\"recency\",\"coordinates\":null,\"formatter\":{\"id\":\"3981\"},\"group\":null,\"major_label_policy\":{\"id\":\"3982\"},\"ticker\":{\"id\":\"3961\"}},\"id\":\"3960\",\"type\":\"LinearAxis\"},{\"attributes\":{\"label\":{\"value\":\"1\"},\"renderers\":[{\"id\":\"4010\"}]},\"id\":\"4024\",\"type\":\"LegendItem\"},{\"attributes\":{\"fill_color\":{\"value\":\"#6d904f\"},\"hatch_color\":{\"value\":\"#6d904f\"},\"line_color\":{\"value\":\"#6d904f\"},\"size\":{\"value\":5.477225575051661},\"x\":{\"field\":\"order_total\"},\"y\":{\"field\":\"recency\"}},\"id\":\"4053\",\"type\":\"Scatter\"},{\"attributes\":{\"source\":{\"id\":\"4104\"}},\"id\":\"4111\",\"type\":\"CDSView\"},{\"attributes\":{\"angle\":{\"value\":0.0},\"fill_alpha\":{\"value\":1.0},\"fill_color\":{\"value\":\"#30a2da\"},\"hatch_alpha\":{\"value\":1.0},\"hatch_color\":{\"value\":\"#30a2da\"},\"hatch_scale\":{\"value\":12.0},\"hatch_weight\":{\"value\":1.0},\"line_alpha\":{\"value\":1.0},\"line_cap\":{\"value\":\"butt\"},\"line_color\":{\"value\":\"#30a2da\"},\"line_dash\":{\"value\":[]},\"line_dash_offset\":{\"value\":0},\"line_join\":{\"value\":\"bevel\"},\"line_width\":{\"value\":1},\"marker\":{\"value\":\"circle\"},\"size\":{\"value\":5.477225575051661},\"x\":{\"field\":\"order_total\"},\"y\":{\"field\":\"recency\"}},\"id\":\"4003\",\"type\":\"Scatter\"},{\"attributes\":{\"angle\":{\"value\":0.0},\"fill_alpha\":{\"value\":1.0},\"fill_color\":{\"value\":\"#17becf\"},\"hatch_alpha\":{\"value\":1.0},\"hatch_color\":{\"value\":\"#17becf\"},\"hatch_scale\":{\"value\":12.0},\"hatch_weight\":{\"value\":1.0},\"line_alpha\":{\"value\":1.0},\"line_cap\":{\"value\":\"butt\"},\"line_color\":{\"value\":\"#17becf\"},\"line_dash\":{\"value\":[]},\"line_dash_offset\":{\"value\":0},\"line_join\":{\"value\":\"bevel\"},\"line_width\":{\"value\":1},\"marker\":{\"value\":\"circle\"},\"size\":{\"value\":5.477225575051661},\"x\":{\"field\":\"order_total\"},\"y\":{\"field\":\"recency\"}},\"id\":\"4133\",\"type\":\"Scatter\"},{\"attributes\":{\"coordinates\":null,\"data_source\":{\"id\":\"4026\"},\"glyph\":{\"id\":\"4029\"},\"group\":null,\"hover_glyph\":null,\"muted_glyph\":{\"id\":\"4031\"},\"nonselection_glyph\":{\"id\":\"4030\"},\"selection_glyph\":{\"id\":\"4049\"},\"view\":{\"id\":\"4033\"}},\"id\":\"4032\",\"type\":\"GlyphRenderer\"},{\"attributes\":{\"bottom_units\":\"screen\",\"coordinates\":null,\"fill_alpha\":0.5,\"fill_color\":\"lightgrey\",\"group\":null,\"left_units\":\"screen\",\"level\":\"overlay\",\"line_alpha\":1.0,\"line_color\":\"black\",\"line_dash\":[4,4],\"line_width\":2,\"right_units\":\"screen\",\"syncable\":false,\"top_units\":\"screen\"},\"id\":\"3969\",\"type\":\"BoxAnnotation\"},{\"attributes\":{\"tools\":[{\"id\":\"3941\"},{\"id\":\"3964\"},{\"id\":\"3965\"},{\"id\":\"3966\"},{\"id\":\"3967\"},{\"id\":\"3968\"}]},\"id\":\"3970\",\"type\":\"Toolbar\"},{\"attributes\":{\"fill_alpha\":{\"value\":0.1},\"fill_color\":{\"value\":\"#30a2da\"},\"hatch_alpha\":{\"value\":0.1},\"hatch_color\":{\"value\":\"#30a2da\"},\"line_alpha\":{\"value\":0.1},\"line_color\":{\"value\":\"#30a2da\"},\"size\":{\"value\":5.477225575051661},\"x\":{\"field\":\"order_total\"},\"y\":{\"field\":\"recency\"}},\"id\":\"3987\",\"type\":\"Scatter\"},{\"attributes\":{\"axis_label\":\"order_total\",\"coordinates\":null,\"formatter\":{\"id\":\"3978\"},\"group\":null,\"major_label_policy\":{\"id\":\"3979\"},\"ticker\":{\"id\":\"3957\"}},\"id\":\"3956\",\"type\":\"LinearAxis\"},{\"attributes\":{\"angle\":{\"value\":0.0},\"fill_alpha\":{\"value\":1.0},\"fill_color\":{\"value\":\"#e5ae38\"},\"hatch_alpha\":{\"value\":1.0},\"hatch_color\":{\"value\":\"#e5ae38\"},\"hatch_scale\":{\"value\":12.0},\"hatch_weight\":{\"value\":1.0},\"line_alpha\":{\"value\":1.0},\"line_cap\":{\"value\":\"butt\"},\"line_color\":{\"value\":\"#e5ae38\"},\"line_dash\":{\"value\":[]},\"line_dash_offset\":{\"value\":0},\"line_join\":{\"value\":\"bevel\"},\"line_width\":{\"value\":1},\"marker\":{\"value\":\"circle\"},\"size\":{\"value\":5.477225575051661},\"x\":{\"field\":\"order_total\"},\"y\":{\"field\":\"recency\"}},\"id\":\"4049\",\"type\":\"Scatter\"},{\"attributes\":{\"data\":{\"class\":[0,0,0,0,0,0,0,0,0,0,0,0,0,0],\"order_total\":{\"__ndarray__\":\"MzMzs4NbN0FmZmbmfY83QQAAAAAWFTdBMzMzs/2dN0EzMzMzsEA3QQAAAAARzDZBZ2ZmZrfUN0EAAAAAfro3QZqZmRl3ZDdBzczMzHPeN0FmZmbmh1g3QWZmZubyAjdBAAAAgGkaOEGamZmZ6vA2QQ==\",\"dtype\":\"float64\",\"order\":\"little\",\"shape\":[14]},\"recency\":[2,1,2,1,7,2,9,8,0,3,1,2,6,5]},\"selected\":{\"id\":\"3984\"},\"selection_policy\":{\"id\":\"3998\"}},\"id\":\"3983\",\"type\":\"ColumnDataSource\"},{\"attributes\":{\"data\":{\"class\":[4,4,4,4,4,4,4,4,4],\"order_total\":{\"__ndarray__\":\"AAAAgCYtNEEAAACA2Io0QQAAAIDCiTVBAAAAAMEoNkFmZmbmyNE1QZqZmZn4VDVBZmZmZm1+NUFmZmbmTCA2QZqZmRlkkzVB\",\"dtype\":\"float64\",\"order\":\"little\",\"shape\":[9]},\"recency\":[7,7,3,3,21,1,6,2,6]},\"selected\":{\"id\":\"4077\"},\"selection_policy\":{\"id\":\"4099\"}},\"id\":\"4076\",\"type\":\"ColumnDataSource\"},{\"attributes\":{\"fill_color\":{\"value\":\"#8b8b8b\"},\"hatch_color\":{\"value\":\"#8b8b8b\"},\"line_color\":{\"value\":\"#8b8b8b\"},\"size\":{\"value\":5.477225575051661},\"x\":{\"field\":\"order_total\"},\"y\":{\"field\":\"recency\"}},\"id\":\"4079\",\"type\":\"Scatter\"},{\"attributes\":{},\"id\":\"3966\",\"type\":\"WheelZoomTool\"},{\"attributes\":{},\"id\":\"4129\",\"type\":\"UnionRenderers\"},{\"attributes\":{\"margin\":[5,5,5,5],\"name\":\"HSpacer08059\",\"sizing_mode\":\"stretch_width\"},\"id\":\"3938\",\"type\":\"Spacer\"},{\"attributes\":{\"below\":[{\"id\":\"3956\"}],\"center\":[{\"id\":\"3959\"},{\"id\":\"3963\"}],\"height\":300,\"left\":[{\"id\":\"3960\"}],\"margin\":[5,5,5,5],\"min_border_bottom\":10,\"min_border_left\":10,\"min_border_right\":10,\"min_border_top\":10,\"renderers\":[{\"id\":\"3989\"},{\"id\":\"4010\"},{\"id\":\"4032\"},{\"id\":\"4056\"},{\"id\":\"4082\"},{\"id\":\"4110\"}],\"right\":[{\"id\":\"4001\"}],\"sizing_mode\":\"fixed\",\"title\":{\"id\":\"3948\"},\"toolbar\":{\"id\":\"3970\"},\"width\":700,\"x_range\":{\"id\":\"3939\"},\"x_scale\":{\"id\":\"3952\"},\"y_range\":{\"id\":\"3940\"},\"y_scale\":{\"id\":\"3954\"}},\"id\":\"3947\",\"subtype\":\"Figure\",\"type\":\"Plot\"},{\"attributes\":{},\"id\":\"3961\",\"type\":\"BasicTicker\"},{\"attributes\":{\"end\":30.8,\"reset_end\":30.8,\"reset_start\":-2.8000000000000003,\"start\":-2.8000000000000003,\"tags\":[[[\"recency\",\"recency\",null]]]},\"id\":\"3940\",\"type\":\"Range1d\"},{\"attributes\":{},\"id\":\"3954\",\"type\":\"LinearScale\"},{\"attributes\":{\"label\":{\"value\":\"5\"},\"renderers\":[{\"id\":\"4110\"}]},\"id\":\"4132\",\"type\":\"LegendItem\"},{\"attributes\":{},\"id\":\"4005\",\"type\":\"Selection\"},{\"attributes\":{},\"id\":\"3957\",\"type\":\"BasicTicker\"},{\"attributes\":{},\"id\":\"3952\",\"type\":\"LinearScale\"},{\"attributes\":{\"label\":{\"value\":\"3\"},\"renderers\":[{\"id\":\"4056\"}]},\"id\":\"4074\",\"type\":\"LegendItem\"},{\"attributes\":{\"fill_alpha\":{\"value\":0.2},\"fill_color\":{\"value\":\"#e5ae38\"},\"hatch_alpha\":{\"value\":0.2},\"hatch_color\":{\"value\":\"#e5ae38\"},\"line_alpha\":{\"value\":0.2},\"line_color\":{\"value\":\"#e5ae38\"},\"size\":{\"value\":5.477225575051661},\"x\":{\"field\":\"order_total\"},\"y\":{\"field\":\"recency\"}},\"id\":\"4031\",\"type\":\"Scatter\"},{\"attributes\":{\"fill_alpha\":{\"value\":0.2},\"fill_color\":{\"value\":\"#6d904f\"},\"hatch_alpha\":{\"value\":0.2},\"hatch_color\":{\"value\":\"#6d904f\"},\"line_alpha\":{\"value\":0.2},\"line_color\":{\"value\":\"#6d904f\"},\"size\":{\"value\":5.477225575051661},\"x\":{\"field\":\"order_total\"},\"y\":{\"field\":\"recency\"}},\"id\":\"4055\",\"type\":\"Scatter\"},{\"attributes\":{},\"id\":\"3984\",\"type\":\"Selection\"},{\"attributes\":{\"axis\":{\"id\":\"3956\"},\"coordinates\":null,\"grid_line_color\":null,\"group\":null,\"ticker\":null},\"id\":\"3959\",\"type\":\"Grid\"},{\"attributes\":{},\"id\":\"3965\",\"type\":\"PanTool\"},{\"attributes\":{\"label\":{\"value\":\"4\"},\"renderers\":[{\"id\":\"4082\"}]},\"id\":\"4102\",\"type\":\"LegendItem\"},{\"attributes\":{\"fill_color\":{\"value\":\"#30a2da\"},\"hatch_color\":{\"value\":\"#30a2da\"},\"line_color\":{\"value\":\"#30a2da\"},\"size\":{\"value\":5.477225575051661},\"x\":{\"field\":\"order_total\"},\"y\":{\"field\":\"recency\"}},\"id\":\"3986\",\"type\":\"Scatter\"},{\"attributes\":{},\"id\":\"3981\",\"type\":\"BasicTickFormatter\"},{\"attributes\":{\"callback\":null,\"renderers\":[{\"id\":\"3989\"},{\"id\":\"4010\"},{\"id\":\"4032\"},{\"id\":\"4056\"},{\"id\":\"4082\"},{\"id\":\"4110\"}],\"tags\":[\"hv_created\"],\"tooltips\":[[\"class\",\"@{class}\"],[\"order_total\",\"@{order_total}\"],[\"recency\",\"@{recency}\"]]},\"id\":\"3941\",\"type\":\"HoverTool\"},{\"attributes\":{\"fill_color\":{\"value\":\"#e5ae38\"},\"hatch_color\":{\"value\":\"#e5ae38\"},\"line_color\":{\"value\":\"#e5ae38\"},\"size\":{\"value\":5.477225575051661},\"x\":{\"field\":\"order_total\"},\"y\":{\"field\":\"recency\"}},\"id\":\"4029\",\"type\":\"Scatter\"},{\"attributes\":{\"children\":[{\"id\":\"3938\"},{\"id\":\"3947\"},{\"id\":\"4314\"}],\"margin\":[0,0,0,0],\"name\":\"Row08055\",\"tags\":[\"embedded\"]},\"id\":\"3937\",\"type\":\"Row\"},{\"attributes\":{},\"id\":\"4105\",\"type\":\"Selection\"},{\"attributes\":{\"fill_color\":{\"value\":\"#fc4f30\"},\"hatch_color\":{\"value\":\"#fc4f30\"},\"line_color\":{\"value\":\"#fc4f30\"},\"size\":{\"value\":5.477225575051661},\"x\":{\"field\":\"order_total\"},\"y\":{\"field\":\"recency\"}},\"id\":\"4007\",\"type\":\"Scatter\"},{\"attributes\":{},\"id\":\"4071\",\"type\":\"UnionRenderers\"},{\"attributes\":{\"fill_alpha\":{\"value\":0.2},\"fill_color\":{\"value\":\"#17becf\"},\"hatch_alpha\":{\"value\":0.2},\"hatch_color\":{\"value\":\"#17becf\"},\"line_alpha\":{\"value\":0.2},\"line_color\":{\"value\":\"#17becf\"},\"size\":{\"value\":5.477225575051661},\"x\":{\"field\":\"order_total\"},\"y\":{\"field\":\"recency\"}},\"id\":\"4109\",\"type\":\"Scatter\"},{\"attributes\":{\"data\":{\"class\":[1,1,1,1,1,1,1,1,1,1,1],\"order_total\":{\"__ndarray__\":\"AAAAgAv0O0EAAAAAluw7QTMzMzMSvTxBzczMzCGCPEGamZmZHvA9QQAAAAAXKjxBAAAAABy2PEGamZmZY1M8Qc3MzMwU6zxBmpmZmaORPUEAAAAAxdQ7QQ==\",\"dtype\":\"float64\",\"order\":\"little\",\"shape\":[11]},\"recency\":[8,6,4,2,4,4,1,0,2,13,2]},\"selected\":{\"id\":\"4005\"},\"selection_policy\":{\"id\":\"4021\"}},\"id\":\"4004\",\"type\":\"ColumnDataSource\"},{\"attributes\":{\"data\":{\"class\":[3,3,3,3,3,3,3,3,3],\"order_total\":{\"__ndarray__\":\"zczMzBCOOEEzMzOzrwc5QTMzMzOouzhBmpmZmfHAOEGamZkZIfo4QZqZmZk2PDlBmpmZmU3fOEEAAAAA3Xs5QZqZmZnh4TlB\",\"dtype\":\"float64\",\"order\":\"little\",\"shape\":[9]},\"recency\":[28,2,2,9,7,0,3,8,14]},\"selected\":{\"id\":\"4051\"},\"selection_policy\":{\"id\":\"4071\"}},\"id\":\"4050\",\"type\":\"ColumnDataSource\"},{\"attributes\":{\"axis\":{\"id\":\"3960\"},\"coordinates\":null,\"dimension\":1,\"grid_line_color\":null,\"group\":null,\"ticker\":null},\"id\":\"3963\",\"type\":\"Grid\"},{\"attributes\":{},\"id\":\"4077\",\"type\":\"Selection\"},{\"attributes\":{\"coordinates\":null,\"group\":null,\"text_color\":\"black\",\"text_font_size\":\"12pt\"},\"id\":\"3948\",\"type\":\"Title\"},{\"attributes\":{\"source\":{\"id\":\"4026\"}},\"id\":\"4033\",\"type\":\"CDSView\"},{\"attributes\":{\"overlay\":{\"id\":\"3969\"}},\"id\":\"3967\",\"type\":\"BoxZoomTool\"},{\"attributes\":{},\"id\":\"4099\",\"type\":\"UnionRenderers\"},{\"attributes\":{},\"id\":\"4027\",\"type\":\"Selection\"},{\"attributes\":{\"fill_color\":{\"value\":\"#17becf\"},\"hatch_color\":{\"value\":\"#17becf\"},\"line_color\":{\"value\":\"#17becf\"},\"size\":{\"value\":5.477225575051661},\"x\":{\"field\":\"order_total\"},\"y\":{\"field\":\"recency\"}},\"id\":\"4107\",\"type\":\"Scatter\"},{\"attributes\":{\"data\":{\"class\":[2,2],\"order_total\":{\"__ndarray__\":\"MzMzM0YnQUEzMzPzbh1AQQ==\",\"dtype\":\"float64\",\"order\":\"little\",\"shape\":[2]},\"recency\":[1,0]},\"selected\":{\"id\":\"4027\"},\"selection_policy\":{\"id\":\"4045\"}},\"id\":\"4026\",\"type\":\"ColumnDataSource\"},{\"attributes\":{\"coordinates\":null,\"data_source\":{\"id\":\"4076\"},\"glyph\":{\"id\":\"4079\"},\"group\":null,\"hover_glyph\":null,\"muted_glyph\":{\"id\":\"4081\"},\"nonselection_glyph\":{\"id\":\"4080\"},\"selection_glyph\":{\"id\":\"4103\"},\"view\":{\"id\":\"4083\"}},\"id\":\"4082\",\"type\":\"GlyphRenderer\"},{\"attributes\":{\"label\":{\"value\":\"0\"},\"renderers\":[{\"id\":\"3989\"}]},\"id\":\"4002\",\"type\":\"LegendItem\"},{\"attributes\":{\"fill_alpha\":{\"value\":0.1},\"fill_color\":{\"value\":\"#e5ae38\"},\"hatch_alpha\":{\"value\":0.1},\"hatch_color\":{\"value\":\"#e5ae38\"},\"line_alpha\":{\"value\":0.1},\"line_color\":{\"value\":\"#e5ae38\"},\"size\":{\"value\":5.477225575051661},\"x\":{\"field\":\"order_total\"},\"y\":{\"field\":\"recency\"}},\"id\":\"4030\",\"type\":\"Scatter\"},{\"attributes\":{\"coordinates\":null,\"data_source\":{\"id\":\"4104\"},\"glyph\":{\"id\":\"4107\"},\"group\":null,\"hover_glyph\":null,\"muted_glyph\":{\"id\":\"4109\"},\"nonselection_glyph\":{\"id\":\"4108\"},\"selection_glyph\":{\"id\":\"4133\"},\"view\":{\"id\":\"4111\"}},\"id\":\"4110\",\"type\":\"GlyphRenderer\"},{\"attributes\":{},\"id\":\"3979\",\"type\":\"AllLabels\"},{\"attributes\":{\"label\":{\"value\":\"2\"},\"renderers\":[{\"id\":\"4032\"}]},\"id\":\"4048\",\"type\":\"LegendItem\"},{\"attributes\":{},\"id\":\"3978\",\"type\":\"BasicTickFormatter\"}],\"root_ids\":[\"3937\"]},\"title\":\"Bokeh Application\",\"version\":\"2.4.1\"}};\n",
       "    var render_items = [{\"docid\":\"eeec9c20-fc13-4d3d-be4e-f79afb3cd8c0\",\"root_ids\":[\"3937\"],\"roots\":{\"3937\":\"3f3b647c-823a-4c1d-b090-e11dae6006b8\"}}];\n",
       "    root.Bokeh.embed.embed_items_notebook(docs_json, render_items);\n",
       "  }\n",
       "  if (root.Bokeh !== undefined && root.Bokeh.Panel !== undefined) {\n",
       "    embed_document(root);\n",
       "  } else {\n",
       "    var attempts = 0;\n",
       "    var timer = setInterval(function(root) {\n",
       "      if (root.Bokeh !== undefined && root.Bokeh.Panel !== undefined) {\n",
       "        clearInterval(timer);\n",
       "        embed_document(root);\n",
       "      } else if (document.readyState == \"complete\") {\n",
       "        attempts++;\n",
       "        if (attempts > 200) {\n",
       "          clearInterval(timer);\n",
       "          console.log(\"Bokeh: ERROR: Unable to run BokehJS code because BokehJS library is missing\");\n",
       "        }\n",
       "      }\n",
       "    }, 25, root)\n",
       "  }\n",
       "})(window);</script>"
      ],
      "text/plain": [
       ":NdOverlay   [class]\n",
       "   :Scatter   [order_total]   (recency)"
      ]
     },
     "execution_count": 64,
     "metadata": {
      "application/vnd.holoviews_exec.v0+json": {
       "id": "3937"
      }
     },
     "output_type": "execute_result"
    }
   ],
   "source": [
    "six_clusters.hvplot.scatter(x=\"order_total\",y=\"recency\",by=\"class\")"
   ]
  },
  {
   "cell_type": "code",
   "execution_count": 65,
   "id": "230fa845",
   "metadata": {},
   "outputs": [
    {
     "data": {
      "application/vnd.plotly.v1+json": {
       "config": {
        "plotlyServerURL": "https://plot.ly"
       },
       "data": [
        {
         "hovertemplate": "class=%{marker.color}<br>order_total=%{x}<br>frequency=%{y}<br>recency=%{z}<extra></extra>",
         "legendgroup": "4",
         "marker": {
          "color": [
           4,
           4,
           4,
           4,
           4,
           4,
           4,
           4,
           4
          ],
          "coloraxis": "coloraxis",
          "symbol": "circle"
         },
         "mode": "markers",
         "name": "4",
         "scene": "scene",
         "showlegend": true,
         "type": "scatter3d",
         "x": [
          1322278.5,
          1346264.5,
          1411522.5,
          1452225,
          1429960.9,
          1398008.6,
          1408621.4,
          1450060.9,
          1413988.1
         ],
         "y": [
          152,
          135,
          142,
          157,
          151,
          144,
          145,
          152,
          150
         ],
         "z": [
          7,
          7,
          3,
          3,
          21,
          1,
          6,
          2,
          6
         ]
        },
        {
         "hovertemplate": "class=%{marker.color}<br>order_total=%{x}<br>frequency=%{y}<br>recency=%{z}<extra></extra>",
         "legendgroup": "0",
         "marker": {
          "color": [
           0,
           0,
           0,
           0,
           0,
           0,
           0,
           0,
           0,
           0,
           0,
           0,
           0,
           0,
           0
          ],
          "coloraxis": "coloraxis",
          "symbol": "diamond"
         },
         "mode": "markers",
         "name": "0",
         "scene": "scene",
         "showlegend": true,
         "type": "scatter3d",
         "x": [
          1831947.5,
          1770582.2,
          1830038,
          1763942.5,
          1883410.2,
          1868321.8,
          1962014.6,
          1845783,
          1881628,
          1793523,
          1762783.4,
          1856355.6,
          1895188.8,
          1937827.6,
          1823941
         ],
         "y": [
          181,
          167,
          171,
          158,
          178,
          171,
          175,
          186,
          164,
          164,
          162,
          173,
          156,
          176,
          176
         ],
         "z": [
          8,
          3,
          6,
          13,
          4,
          2,
          4,
          4,
          1,
          10,
          3,
          0,
          2,
          13,
          2
         ]
        },
        {
         "hovertemplate": "class=%{marker.color}<br>order_total=%{x}<br>frequency=%{y}<br>recency=%{z}<extra></extra>",
         "legendgroup": "2",
         "marker": {
          "color": [
           2,
           2,
           2,
           2,
           2,
           2,
           2,
           2,
           2,
           2
          ],
          "coloraxis": "coloraxis",
          "symbol": "square"
         },
         "mode": "markers",
         "name": "2",
         "scene": "scene",
         "showlegend": true,
         "type": "scatter3d",
         "x": [
          1609232.8,
          1723534.8,
          1640367.7,
          1620904.2,
          1622257.6,
          1636897.1,
          1653814.6,
          1630029.6,
          1670109,
          1696225.6
         ],
         "y": [
          159,
          165,
          159,
          156,
          152,
          150,
          161,
          156,
          172,
          163
         ],
         "z": [
          28,
          1,
          2,
          2,
          9,
          7,
          0,
          3,
          8,
          14
         ]
        },
        {
         "hovertemplate": "class=%{marker.color}<br>order_total=%{x}<br>frequency=%{y}<br>recency=%{z}<extra></extra>",
         "legendgroup": "1",
         "marker": {
          "color": [
           1,
           1,
           1,
           1,
           1,
           1,
           1,
           1,
           1,
           1,
           1,
           1,
           1,
           1
          ],
          "coloraxis": "coloraxis",
          "symbol": "x"
         },
         "mode": "markers",
         "name": "1",
         "scene": "scene",
         "showlegend": true,
         "type": "scatter3d",
         "x": [
          1530755.7,
          1544061.9,
          1512726,
          1547773.7,
          1523888.2,
          1494033,
          1561783.4000000001,
          1555070,
          1533047.1,
          1564275.8,
          1529991.9,
          1508082.9,
          1579625.5,
          1503466.6
         ],
         "y": [
          143,
          153,
          142,
          135,
          167,
          140,
          153,
          145,
          161,
          151,
          156,
          157,
          168,
          152
         ],
         "z": [
          2,
          1,
          2,
          1,
          7,
          2,
          9,
          8,
          0,
          3,
          1,
          2,
          6,
          5
         ]
        },
        {
         "hovertemplate": "class=%{marker.color}<br>order_total=%{x}<br>frequency=%{y}<br>recency=%{z}<extra></extra>",
         "legendgroup": "3",
         "marker": {
          "color": [
           3,
           3
          ],
          "coloraxis": "coloraxis",
          "symbol": "cross"
         },
         "mode": "markers",
         "name": "3",
         "scene": "scene",
         "showlegend": true,
         "type": "scatter3d",
         "x": [
          2248332.4,
          2112221.9
         ],
         "y": [
          210,
          179
         ],
         "z": [
          1,
          0
         ]
        }
       ],
       "layout": {
        "coloraxis": {
         "colorbar": {
          "title": {
           "text": "class"
          }
         },
         "colorscale": [
          [
           0,
           "#0d0887"
          ],
          [
           0.1111111111111111,
           "#46039f"
          ],
          [
           0.2222222222222222,
           "#7201a8"
          ],
          [
           0.3333333333333333,
           "#9c179e"
          ],
          [
           0.4444444444444444,
           "#bd3786"
          ],
          [
           0.5555555555555556,
           "#d8576b"
          ],
          [
           0.6666666666666666,
           "#ed7953"
          ],
          [
           0.7777777777777778,
           "#fb9f3a"
          ],
          [
           0.8888888888888888,
           "#fdca26"
          ],
          [
           1,
           "#f0f921"
          ]
         ]
        },
        "legend": {
         "title": {
          "text": "class"
         },
         "tracegroupgap": 0,
         "x": 0,
         "y": 1
        },
        "margin": {
         "t": 60
        },
        "scene": {
         "domain": {
          "x": [
           0,
           1
          ],
          "y": [
           0,
           1
          ]
         },
         "xaxis": {
          "title": {
           "text": "order_total"
          }
         },
         "yaxis": {
          "title": {
           "text": "frequency"
          }
         },
         "zaxis": {
          "title": {
           "text": "recency"
          }
         }
        },
        "template": {
         "data": {
          "bar": [
           {
            "error_x": {
             "color": "#2a3f5f"
            },
            "error_y": {
             "color": "#2a3f5f"
            },
            "marker": {
             "line": {
              "color": "#E5ECF6",
              "width": 0.5
             },
             "pattern": {
              "fillmode": "overlay",
              "size": 10,
              "solidity": 0.2
             }
            },
            "type": "bar"
           }
          ],
          "barpolar": [
           {
            "marker": {
             "line": {
              "color": "#E5ECF6",
              "width": 0.5
             },
             "pattern": {
              "fillmode": "overlay",
              "size": 10,
              "solidity": 0.2
             }
            },
            "type": "barpolar"
           }
          ],
          "carpet": [
           {
            "aaxis": {
             "endlinecolor": "#2a3f5f",
             "gridcolor": "white",
             "linecolor": "white",
             "minorgridcolor": "white",
             "startlinecolor": "#2a3f5f"
            },
            "baxis": {
             "endlinecolor": "#2a3f5f",
             "gridcolor": "white",
             "linecolor": "white",
             "minorgridcolor": "white",
             "startlinecolor": "#2a3f5f"
            },
            "type": "carpet"
           }
          ],
          "choropleth": [
           {
            "colorbar": {
             "outlinewidth": 0,
             "ticks": ""
            },
            "type": "choropleth"
           }
          ],
          "contour": [
           {
            "colorbar": {
             "outlinewidth": 0,
             "ticks": ""
            },
            "colorscale": [
             [
              0,
              "#0d0887"
             ],
             [
              0.1111111111111111,
              "#46039f"
             ],
             [
              0.2222222222222222,
              "#7201a8"
             ],
             [
              0.3333333333333333,
              "#9c179e"
             ],
             [
              0.4444444444444444,
              "#bd3786"
             ],
             [
              0.5555555555555556,
              "#d8576b"
             ],
             [
              0.6666666666666666,
              "#ed7953"
             ],
             [
              0.7777777777777778,
              "#fb9f3a"
             ],
             [
              0.8888888888888888,
              "#fdca26"
             ],
             [
              1,
              "#f0f921"
             ]
            ],
            "type": "contour"
           }
          ],
          "contourcarpet": [
           {
            "colorbar": {
             "outlinewidth": 0,
             "ticks": ""
            },
            "type": "contourcarpet"
           }
          ],
          "heatmap": [
           {
            "colorbar": {
             "outlinewidth": 0,
             "ticks": ""
            },
            "colorscale": [
             [
              0,
              "#0d0887"
             ],
             [
              0.1111111111111111,
              "#46039f"
             ],
             [
              0.2222222222222222,
              "#7201a8"
             ],
             [
              0.3333333333333333,
              "#9c179e"
             ],
             [
              0.4444444444444444,
              "#bd3786"
             ],
             [
              0.5555555555555556,
              "#d8576b"
             ],
             [
              0.6666666666666666,
              "#ed7953"
             ],
             [
              0.7777777777777778,
              "#fb9f3a"
             ],
             [
              0.8888888888888888,
              "#fdca26"
             ],
             [
              1,
              "#f0f921"
             ]
            ],
            "type": "heatmap"
           }
          ],
          "heatmapgl": [
           {
            "colorbar": {
             "outlinewidth": 0,
             "ticks": ""
            },
            "colorscale": [
             [
              0,
              "#0d0887"
             ],
             [
              0.1111111111111111,
              "#46039f"
             ],
             [
              0.2222222222222222,
              "#7201a8"
             ],
             [
              0.3333333333333333,
              "#9c179e"
             ],
             [
              0.4444444444444444,
              "#bd3786"
             ],
             [
              0.5555555555555556,
              "#d8576b"
             ],
             [
              0.6666666666666666,
              "#ed7953"
             ],
             [
              0.7777777777777778,
              "#fb9f3a"
             ],
             [
              0.8888888888888888,
              "#fdca26"
             ],
             [
              1,
              "#f0f921"
             ]
            ],
            "type": "heatmapgl"
           }
          ],
          "histogram": [
           {
            "marker": {
             "pattern": {
              "fillmode": "overlay",
              "size": 10,
              "solidity": 0.2
             }
            },
            "type": "histogram"
           }
          ],
          "histogram2d": [
           {
            "colorbar": {
             "outlinewidth": 0,
             "ticks": ""
            },
            "colorscale": [
             [
              0,
              "#0d0887"
             ],
             [
              0.1111111111111111,
              "#46039f"
             ],
             [
              0.2222222222222222,
              "#7201a8"
             ],
             [
              0.3333333333333333,
              "#9c179e"
             ],
             [
              0.4444444444444444,
              "#bd3786"
             ],
             [
              0.5555555555555556,
              "#d8576b"
             ],
             [
              0.6666666666666666,
              "#ed7953"
             ],
             [
              0.7777777777777778,
              "#fb9f3a"
             ],
             [
              0.8888888888888888,
              "#fdca26"
             ],
             [
              1,
              "#f0f921"
             ]
            ],
            "type": "histogram2d"
           }
          ],
          "histogram2dcontour": [
           {
            "colorbar": {
             "outlinewidth": 0,
             "ticks": ""
            },
            "colorscale": [
             [
              0,
              "#0d0887"
             ],
             [
              0.1111111111111111,
              "#46039f"
             ],
             [
              0.2222222222222222,
              "#7201a8"
             ],
             [
              0.3333333333333333,
              "#9c179e"
             ],
             [
              0.4444444444444444,
              "#bd3786"
             ],
             [
              0.5555555555555556,
              "#d8576b"
             ],
             [
              0.6666666666666666,
              "#ed7953"
             ],
             [
              0.7777777777777778,
              "#fb9f3a"
             ],
             [
              0.8888888888888888,
              "#fdca26"
             ],
             [
              1,
              "#f0f921"
             ]
            ],
            "type": "histogram2dcontour"
           }
          ],
          "mesh3d": [
           {
            "colorbar": {
             "outlinewidth": 0,
             "ticks": ""
            },
            "type": "mesh3d"
           }
          ],
          "parcoords": [
           {
            "line": {
             "colorbar": {
              "outlinewidth": 0,
              "ticks": ""
             }
            },
            "type": "parcoords"
           }
          ],
          "pie": [
           {
            "automargin": true,
            "type": "pie"
           }
          ],
          "scatter": [
           {
            "fillpattern": {
             "fillmode": "overlay",
             "size": 10,
             "solidity": 0.2
            },
            "type": "scatter"
           }
          ],
          "scatter3d": [
           {
            "line": {
             "colorbar": {
              "outlinewidth": 0,
              "ticks": ""
             }
            },
            "marker": {
             "colorbar": {
              "outlinewidth": 0,
              "ticks": ""
             }
            },
            "type": "scatter3d"
           }
          ],
          "scattercarpet": [
           {
            "marker": {
             "colorbar": {
              "outlinewidth": 0,
              "ticks": ""
             }
            },
            "type": "scattercarpet"
           }
          ],
          "scattergeo": [
           {
            "marker": {
             "colorbar": {
              "outlinewidth": 0,
              "ticks": ""
             }
            },
            "type": "scattergeo"
           }
          ],
          "scattergl": [
           {
            "marker": {
             "colorbar": {
              "outlinewidth": 0,
              "ticks": ""
             }
            },
            "type": "scattergl"
           }
          ],
          "scattermapbox": [
           {
            "marker": {
             "colorbar": {
              "outlinewidth": 0,
              "ticks": ""
             }
            },
            "type": "scattermapbox"
           }
          ],
          "scatterpolar": [
           {
            "marker": {
             "colorbar": {
              "outlinewidth": 0,
              "ticks": ""
             }
            },
            "type": "scatterpolar"
           }
          ],
          "scatterpolargl": [
           {
            "marker": {
             "colorbar": {
              "outlinewidth": 0,
              "ticks": ""
             }
            },
            "type": "scatterpolargl"
           }
          ],
          "scatterternary": [
           {
            "marker": {
             "colorbar": {
              "outlinewidth": 0,
              "ticks": ""
             }
            },
            "type": "scatterternary"
           }
          ],
          "surface": [
           {
            "colorbar": {
             "outlinewidth": 0,
             "ticks": ""
            },
            "colorscale": [
             [
              0,
              "#0d0887"
             ],
             [
              0.1111111111111111,
              "#46039f"
             ],
             [
              0.2222222222222222,
              "#7201a8"
             ],
             [
              0.3333333333333333,
              "#9c179e"
             ],
             [
              0.4444444444444444,
              "#bd3786"
             ],
             [
              0.5555555555555556,
              "#d8576b"
             ],
             [
              0.6666666666666666,
              "#ed7953"
             ],
             [
              0.7777777777777778,
              "#fb9f3a"
             ],
             [
              0.8888888888888888,
              "#fdca26"
             ],
             [
              1,
              "#f0f921"
             ]
            ],
            "type": "surface"
           }
          ],
          "table": [
           {
            "cells": {
             "fill": {
              "color": "#EBF0F8"
             },
             "line": {
              "color": "white"
             }
            },
            "header": {
             "fill": {
              "color": "#C8D4E3"
             },
             "line": {
              "color": "white"
             }
            },
            "type": "table"
           }
          ]
         },
         "layout": {
          "annotationdefaults": {
           "arrowcolor": "#2a3f5f",
           "arrowhead": 0,
           "arrowwidth": 1
          },
          "autotypenumbers": "strict",
          "coloraxis": {
           "colorbar": {
            "outlinewidth": 0,
            "ticks": ""
           }
          },
          "colorscale": {
           "diverging": [
            [
             0,
             "#8e0152"
            ],
            [
             0.1,
             "#c51b7d"
            ],
            [
             0.2,
             "#de77ae"
            ],
            [
             0.3,
             "#f1b6da"
            ],
            [
             0.4,
             "#fde0ef"
            ],
            [
             0.5,
             "#f7f7f7"
            ],
            [
             0.6,
             "#e6f5d0"
            ],
            [
             0.7,
             "#b8e186"
            ],
            [
             0.8,
             "#7fbc41"
            ],
            [
             0.9,
             "#4d9221"
            ],
            [
             1,
             "#276419"
            ]
           ],
           "sequential": [
            [
             0,
             "#0d0887"
            ],
            [
             0.1111111111111111,
             "#46039f"
            ],
            [
             0.2222222222222222,
             "#7201a8"
            ],
            [
             0.3333333333333333,
             "#9c179e"
            ],
            [
             0.4444444444444444,
             "#bd3786"
            ],
            [
             0.5555555555555556,
             "#d8576b"
            ],
            [
             0.6666666666666666,
             "#ed7953"
            ],
            [
             0.7777777777777778,
             "#fb9f3a"
            ],
            [
             0.8888888888888888,
             "#fdca26"
            ],
            [
             1,
             "#f0f921"
            ]
           ],
           "sequentialminus": [
            [
             0,
             "#0d0887"
            ],
            [
             0.1111111111111111,
             "#46039f"
            ],
            [
             0.2222222222222222,
             "#7201a8"
            ],
            [
             0.3333333333333333,
             "#9c179e"
            ],
            [
             0.4444444444444444,
             "#bd3786"
            ],
            [
             0.5555555555555556,
             "#d8576b"
            ],
            [
             0.6666666666666666,
             "#ed7953"
            ],
            [
             0.7777777777777778,
             "#fb9f3a"
            ],
            [
             0.8888888888888888,
             "#fdca26"
            ],
            [
             1,
             "#f0f921"
            ]
           ]
          },
          "colorway": [
           "#636efa",
           "#EF553B",
           "#00cc96",
           "#ab63fa",
           "#FFA15A",
           "#19d3f3",
           "#FF6692",
           "#B6E880",
           "#FF97FF",
           "#FECB52"
          ],
          "font": {
           "color": "#2a3f5f"
          },
          "geo": {
           "bgcolor": "white",
           "lakecolor": "white",
           "landcolor": "#E5ECF6",
           "showlakes": true,
           "showland": true,
           "subunitcolor": "white"
          },
          "hoverlabel": {
           "align": "left"
          },
          "hovermode": "closest",
          "mapbox": {
           "style": "light"
          },
          "paper_bgcolor": "white",
          "plot_bgcolor": "#E5ECF6",
          "polar": {
           "angularaxis": {
            "gridcolor": "white",
            "linecolor": "white",
            "ticks": ""
           },
           "bgcolor": "#E5ECF6",
           "radialaxis": {
            "gridcolor": "white",
            "linecolor": "white",
            "ticks": ""
           }
          },
          "scene": {
           "xaxis": {
            "backgroundcolor": "#E5ECF6",
            "gridcolor": "white",
            "gridwidth": 2,
            "linecolor": "white",
            "showbackground": true,
            "ticks": "",
            "zerolinecolor": "white"
           },
           "yaxis": {
            "backgroundcolor": "#E5ECF6",
            "gridcolor": "white",
            "gridwidth": 2,
            "linecolor": "white",
            "showbackground": true,
            "ticks": "",
            "zerolinecolor": "white"
           },
           "zaxis": {
            "backgroundcolor": "#E5ECF6",
            "gridcolor": "white",
            "gridwidth": 2,
            "linecolor": "white",
            "showbackground": true,
            "ticks": "",
            "zerolinecolor": "white"
           }
          },
          "shapedefaults": {
           "line": {
            "color": "#2a3f5f"
           }
          },
          "ternary": {
           "aaxis": {
            "gridcolor": "white",
            "linecolor": "white",
            "ticks": ""
           },
           "baxis": {
            "gridcolor": "white",
            "linecolor": "white",
            "ticks": ""
           },
           "bgcolor": "#E5ECF6",
           "caxis": {
            "gridcolor": "white",
            "linecolor": "white",
            "ticks": ""
           }
          },
          "title": {
           "x": 0.05
          },
          "xaxis": {
           "automargin": true,
           "gridcolor": "white",
           "linecolor": "white",
           "ticks": "",
           "title": {
            "standoff": 15
           },
           "zerolinecolor": "white",
           "zerolinewidth": 2
          },
          "yaxis": {
           "automargin": true,
           "gridcolor": "white",
           "linecolor": "white",
           "ticks": "",
           "title": {
            "standoff": 15
           },
           "zerolinecolor": "white",
           "zerolinewidth": 2
          }
         }
        },
        "width": 800
       }
      },
      "text/html": [
       "<div>                            <div id=\"d11d95cf-2615-4ee3-ac01-3a1e9ab4ad3b\" class=\"plotly-graph-div\" style=\"height:525px; width:800px;\"></div>            <script type=\"text/javascript\">                require([\"plotly\"], function(Plotly) {                    window.PLOTLYENV=window.PLOTLYENV || {};                                    if (document.getElementById(\"d11d95cf-2615-4ee3-ac01-3a1e9ab4ad3b\")) {                    Plotly.newPlot(                        \"d11d95cf-2615-4ee3-ac01-3a1e9ab4ad3b\",                        [{\"hovertemplate\":\"class=%{marker.color}<br>order_total=%{x}<br>frequency=%{y}<br>recency=%{z}<extra></extra>\",\"legendgroup\":\"4\",\"marker\":{\"color\":[4,4,4,4,4,4,4,4,4],\"coloraxis\":\"coloraxis\",\"symbol\":\"circle\"},\"mode\":\"markers\",\"name\":\"4\",\"scene\":\"scene\",\"showlegend\":true,\"x\":[1322278.5,1346264.5,1411522.5,1452225.0,1429960.9,1398008.6,1408621.4,1450060.9,1413988.1],\"y\":[152,135,142,157,151,144,145,152,150],\"z\":[7,7,3,3,21,1,6,2,6],\"type\":\"scatter3d\"},{\"hovertemplate\":\"class=%{marker.color}<br>order_total=%{x}<br>frequency=%{y}<br>recency=%{z}<extra></extra>\",\"legendgroup\":\"0\",\"marker\":{\"color\":[0,0,0,0,0,0,0,0,0,0,0,0,0,0,0],\"coloraxis\":\"coloraxis\",\"symbol\":\"diamond\"},\"mode\":\"markers\",\"name\":\"0\",\"scene\":\"scene\",\"showlegend\":true,\"x\":[1831947.5,1770582.2,1830038.0,1763942.5,1883410.2,1868321.8,1962014.6,1845783.0,1881628.0,1793523.0,1762783.4,1856355.6,1895188.8,1937827.6,1823941.0],\"y\":[181,167,171,158,178,171,175,186,164,164,162,173,156,176,176],\"z\":[8,3,6,13,4,2,4,4,1,10,3,0,2,13,2],\"type\":\"scatter3d\"},{\"hovertemplate\":\"class=%{marker.color}<br>order_total=%{x}<br>frequency=%{y}<br>recency=%{z}<extra></extra>\",\"legendgroup\":\"2\",\"marker\":{\"color\":[2,2,2,2,2,2,2,2,2,2],\"coloraxis\":\"coloraxis\",\"symbol\":\"square\"},\"mode\":\"markers\",\"name\":\"2\",\"scene\":\"scene\",\"showlegend\":true,\"x\":[1609232.8,1723534.8,1640367.7,1620904.2,1622257.6,1636897.1,1653814.6,1630029.6,1670109.0,1696225.6],\"y\":[159,165,159,156,152,150,161,156,172,163],\"z\":[28,1,2,2,9,7,0,3,8,14],\"type\":\"scatter3d\"},{\"hovertemplate\":\"class=%{marker.color}<br>order_total=%{x}<br>frequency=%{y}<br>recency=%{z}<extra></extra>\",\"legendgroup\":\"1\",\"marker\":{\"color\":[1,1,1,1,1,1,1,1,1,1,1,1,1,1],\"coloraxis\":\"coloraxis\",\"symbol\":\"x\"},\"mode\":\"markers\",\"name\":\"1\",\"scene\":\"scene\",\"showlegend\":true,\"x\":[1530755.7,1544061.9,1512726.0,1547773.7,1523888.2,1494033.0,1561783.4000000001,1555070.0,1533047.1,1564275.8,1529991.9,1508082.9,1579625.5,1503466.6],\"y\":[143,153,142,135,167,140,153,145,161,151,156,157,168,152],\"z\":[2,1,2,1,7,2,9,8,0,3,1,2,6,5],\"type\":\"scatter3d\"},{\"hovertemplate\":\"class=%{marker.color}<br>order_total=%{x}<br>frequency=%{y}<br>recency=%{z}<extra></extra>\",\"legendgroup\":\"3\",\"marker\":{\"color\":[3,3],\"coloraxis\":\"coloraxis\",\"symbol\":\"cross\"},\"mode\":\"markers\",\"name\":\"3\",\"scene\":\"scene\",\"showlegend\":true,\"x\":[2248332.4,2112221.9],\"y\":[210,179],\"z\":[1,0],\"type\":\"scatter3d\"}],                        {\"template\":{\"data\":{\"histogram2dcontour\":[{\"type\":\"histogram2dcontour\",\"colorbar\":{\"outlinewidth\":0,\"ticks\":\"\"},\"colorscale\":[[0.0,\"#0d0887\"],[0.1111111111111111,\"#46039f\"],[0.2222222222222222,\"#7201a8\"],[0.3333333333333333,\"#9c179e\"],[0.4444444444444444,\"#bd3786\"],[0.5555555555555556,\"#d8576b\"],[0.6666666666666666,\"#ed7953\"],[0.7777777777777778,\"#fb9f3a\"],[0.8888888888888888,\"#fdca26\"],[1.0,\"#f0f921\"]]}],\"choropleth\":[{\"type\":\"choropleth\",\"colorbar\":{\"outlinewidth\":0,\"ticks\":\"\"}}],\"histogram2d\":[{\"type\":\"histogram2d\",\"colorbar\":{\"outlinewidth\":0,\"ticks\":\"\"},\"colorscale\":[[0.0,\"#0d0887\"],[0.1111111111111111,\"#46039f\"],[0.2222222222222222,\"#7201a8\"],[0.3333333333333333,\"#9c179e\"],[0.4444444444444444,\"#bd3786\"],[0.5555555555555556,\"#d8576b\"],[0.6666666666666666,\"#ed7953\"],[0.7777777777777778,\"#fb9f3a\"],[0.8888888888888888,\"#fdca26\"],[1.0,\"#f0f921\"]]}],\"heatmap\":[{\"type\":\"heatmap\",\"colorbar\":{\"outlinewidth\":0,\"ticks\":\"\"},\"colorscale\":[[0.0,\"#0d0887\"],[0.1111111111111111,\"#46039f\"],[0.2222222222222222,\"#7201a8\"],[0.3333333333333333,\"#9c179e\"],[0.4444444444444444,\"#bd3786\"],[0.5555555555555556,\"#d8576b\"],[0.6666666666666666,\"#ed7953\"],[0.7777777777777778,\"#fb9f3a\"],[0.8888888888888888,\"#fdca26\"],[1.0,\"#f0f921\"]]}],\"heatmapgl\":[{\"type\":\"heatmapgl\",\"colorbar\":{\"outlinewidth\":0,\"ticks\":\"\"},\"colorscale\":[[0.0,\"#0d0887\"],[0.1111111111111111,\"#46039f\"],[0.2222222222222222,\"#7201a8\"],[0.3333333333333333,\"#9c179e\"],[0.4444444444444444,\"#bd3786\"],[0.5555555555555556,\"#d8576b\"],[0.6666666666666666,\"#ed7953\"],[0.7777777777777778,\"#fb9f3a\"],[0.8888888888888888,\"#fdca26\"],[1.0,\"#f0f921\"]]}],\"contourcarpet\":[{\"type\":\"contourcarpet\",\"colorbar\":{\"outlinewidth\":0,\"ticks\":\"\"}}],\"contour\":[{\"type\":\"contour\",\"colorbar\":{\"outlinewidth\":0,\"ticks\":\"\"},\"colorscale\":[[0.0,\"#0d0887\"],[0.1111111111111111,\"#46039f\"],[0.2222222222222222,\"#7201a8\"],[0.3333333333333333,\"#9c179e\"],[0.4444444444444444,\"#bd3786\"],[0.5555555555555556,\"#d8576b\"],[0.6666666666666666,\"#ed7953\"],[0.7777777777777778,\"#fb9f3a\"],[0.8888888888888888,\"#fdca26\"],[1.0,\"#f0f921\"]]}],\"surface\":[{\"type\":\"surface\",\"colorbar\":{\"outlinewidth\":0,\"ticks\":\"\"},\"colorscale\":[[0.0,\"#0d0887\"],[0.1111111111111111,\"#46039f\"],[0.2222222222222222,\"#7201a8\"],[0.3333333333333333,\"#9c179e\"],[0.4444444444444444,\"#bd3786\"],[0.5555555555555556,\"#d8576b\"],[0.6666666666666666,\"#ed7953\"],[0.7777777777777778,\"#fb9f3a\"],[0.8888888888888888,\"#fdca26\"],[1.0,\"#f0f921\"]]}],\"mesh3d\":[{\"type\":\"mesh3d\",\"colorbar\":{\"outlinewidth\":0,\"ticks\":\"\"}}],\"scatter\":[{\"fillpattern\":{\"fillmode\":\"overlay\",\"size\":10,\"solidity\":0.2},\"type\":\"scatter\"}],\"parcoords\":[{\"type\":\"parcoords\",\"line\":{\"colorbar\":{\"outlinewidth\":0,\"ticks\":\"\"}}}],\"scatterpolargl\":[{\"type\":\"scatterpolargl\",\"marker\":{\"colorbar\":{\"outlinewidth\":0,\"ticks\":\"\"}}}],\"bar\":[{\"error_x\":{\"color\":\"#2a3f5f\"},\"error_y\":{\"color\":\"#2a3f5f\"},\"marker\":{\"line\":{\"color\":\"#E5ECF6\",\"width\":0.5},\"pattern\":{\"fillmode\":\"overlay\",\"size\":10,\"solidity\":0.2}},\"type\":\"bar\"}],\"scattergeo\":[{\"type\":\"scattergeo\",\"marker\":{\"colorbar\":{\"outlinewidth\":0,\"ticks\":\"\"}}}],\"scatterpolar\":[{\"type\":\"scatterpolar\",\"marker\":{\"colorbar\":{\"outlinewidth\":0,\"ticks\":\"\"}}}],\"histogram\":[{\"marker\":{\"pattern\":{\"fillmode\":\"overlay\",\"size\":10,\"solidity\":0.2}},\"type\":\"histogram\"}],\"scattergl\":[{\"type\":\"scattergl\",\"marker\":{\"colorbar\":{\"outlinewidth\":0,\"ticks\":\"\"}}}],\"scatter3d\":[{\"type\":\"scatter3d\",\"line\":{\"colorbar\":{\"outlinewidth\":0,\"ticks\":\"\"}},\"marker\":{\"colorbar\":{\"outlinewidth\":0,\"ticks\":\"\"}}}],\"scattermapbox\":[{\"type\":\"scattermapbox\",\"marker\":{\"colorbar\":{\"outlinewidth\":0,\"ticks\":\"\"}}}],\"scatterternary\":[{\"type\":\"scatterternary\",\"marker\":{\"colorbar\":{\"outlinewidth\":0,\"ticks\":\"\"}}}],\"scattercarpet\":[{\"type\":\"scattercarpet\",\"marker\":{\"colorbar\":{\"outlinewidth\":0,\"ticks\":\"\"}}}],\"carpet\":[{\"aaxis\":{\"endlinecolor\":\"#2a3f5f\",\"gridcolor\":\"white\",\"linecolor\":\"white\",\"minorgridcolor\":\"white\",\"startlinecolor\":\"#2a3f5f\"},\"baxis\":{\"endlinecolor\":\"#2a3f5f\",\"gridcolor\":\"white\",\"linecolor\":\"white\",\"minorgridcolor\":\"white\",\"startlinecolor\":\"#2a3f5f\"},\"type\":\"carpet\"}],\"table\":[{\"cells\":{\"fill\":{\"color\":\"#EBF0F8\"},\"line\":{\"color\":\"white\"}},\"header\":{\"fill\":{\"color\":\"#C8D4E3\"},\"line\":{\"color\":\"white\"}},\"type\":\"table\"}],\"barpolar\":[{\"marker\":{\"line\":{\"color\":\"#E5ECF6\",\"width\":0.5},\"pattern\":{\"fillmode\":\"overlay\",\"size\":10,\"solidity\":0.2}},\"type\":\"barpolar\"}],\"pie\":[{\"automargin\":true,\"type\":\"pie\"}]},\"layout\":{\"autotypenumbers\":\"strict\",\"colorway\":[\"#636efa\",\"#EF553B\",\"#00cc96\",\"#ab63fa\",\"#FFA15A\",\"#19d3f3\",\"#FF6692\",\"#B6E880\",\"#FF97FF\",\"#FECB52\"],\"font\":{\"color\":\"#2a3f5f\"},\"hovermode\":\"closest\",\"hoverlabel\":{\"align\":\"left\"},\"paper_bgcolor\":\"white\",\"plot_bgcolor\":\"#E5ECF6\",\"polar\":{\"bgcolor\":\"#E5ECF6\",\"angularaxis\":{\"gridcolor\":\"white\",\"linecolor\":\"white\",\"ticks\":\"\"},\"radialaxis\":{\"gridcolor\":\"white\",\"linecolor\":\"white\",\"ticks\":\"\"}},\"ternary\":{\"bgcolor\":\"#E5ECF6\",\"aaxis\":{\"gridcolor\":\"white\",\"linecolor\":\"white\",\"ticks\":\"\"},\"baxis\":{\"gridcolor\":\"white\",\"linecolor\":\"white\",\"ticks\":\"\"},\"caxis\":{\"gridcolor\":\"white\",\"linecolor\":\"white\",\"ticks\":\"\"}},\"coloraxis\":{\"colorbar\":{\"outlinewidth\":0,\"ticks\":\"\"}},\"colorscale\":{\"sequential\":[[0.0,\"#0d0887\"],[0.1111111111111111,\"#46039f\"],[0.2222222222222222,\"#7201a8\"],[0.3333333333333333,\"#9c179e\"],[0.4444444444444444,\"#bd3786\"],[0.5555555555555556,\"#d8576b\"],[0.6666666666666666,\"#ed7953\"],[0.7777777777777778,\"#fb9f3a\"],[0.8888888888888888,\"#fdca26\"],[1.0,\"#f0f921\"]],\"sequentialminus\":[[0.0,\"#0d0887\"],[0.1111111111111111,\"#46039f\"],[0.2222222222222222,\"#7201a8\"],[0.3333333333333333,\"#9c179e\"],[0.4444444444444444,\"#bd3786\"],[0.5555555555555556,\"#d8576b\"],[0.6666666666666666,\"#ed7953\"],[0.7777777777777778,\"#fb9f3a\"],[0.8888888888888888,\"#fdca26\"],[1.0,\"#f0f921\"]],\"diverging\":[[0,\"#8e0152\"],[0.1,\"#c51b7d\"],[0.2,\"#de77ae\"],[0.3,\"#f1b6da\"],[0.4,\"#fde0ef\"],[0.5,\"#f7f7f7\"],[0.6,\"#e6f5d0\"],[0.7,\"#b8e186\"],[0.8,\"#7fbc41\"],[0.9,\"#4d9221\"],[1,\"#276419\"]]},\"xaxis\":{\"gridcolor\":\"white\",\"linecolor\":\"white\",\"ticks\":\"\",\"title\":{\"standoff\":15},\"zerolinecolor\":\"white\",\"automargin\":true,\"zerolinewidth\":2},\"yaxis\":{\"gridcolor\":\"white\",\"linecolor\":\"white\",\"ticks\":\"\",\"title\":{\"standoff\":15},\"zerolinecolor\":\"white\",\"automargin\":true,\"zerolinewidth\":2},\"scene\":{\"xaxis\":{\"backgroundcolor\":\"#E5ECF6\",\"gridcolor\":\"white\",\"linecolor\":\"white\",\"showbackground\":true,\"ticks\":\"\",\"zerolinecolor\":\"white\",\"gridwidth\":2},\"yaxis\":{\"backgroundcolor\":\"#E5ECF6\",\"gridcolor\":\"white\",\"linecolor\":\"white\",\"showbackground\":true,\"ticks\":\"\",\"zerolinecolor\":\"white\",\"gridwidth\":2},\"zaxis\":{\"backgroundcolor\":\"#E5ECF6\",\"gridcolor\":\"white\",\"linecolor\":\"white\",\"showbackground\":true,\"ticks\":\"\",\"zerolinecolor\":\"white\",\"gridwidth\":2}},\"shapedefaults\":{\"line\":{\"color\":\"#2a3f5f\"}},\"annotationdefaults\":{\"arrowcolor\":\"#2a3f5f\",\"arrowhead\":0,\"arrowwidth\":1},\"geo\":{\"bgcolor\":\"white\",\"landcolor\":\"#E5ECF6\",\"subunitcolor\":\"white\",\"showland\":true,\"showlakes\":true,\"lakecolor\":\"white\"},\"title\":{\"x\":0.05},\"mapbox\":{\"style\":\"light\"}}},\"scene\":{\"domain\":{\"x\":[0.0,1.0],\"y\":[0.0,1.0]},\"xaxis\":{\"title\":{\"text\":\"order_total\"}},\"yaxis\":{\"title\":{\"text\":\"frequency\"}},\"zaxis\":{\"title\":{\"text\":\"recency\"}}},\"coloraxis\":{\"colorbar\":{\"title\":{\"text\":\"class\"}},\"colorscale\":[[0.0,\"#0d0887\"],[0.1111111111111111,\"#46039f\"],[0.2222222222222222,\"#7201a8\"],[0.3333333333333333,\"#9c179e\"],[0.4444444444444444,\"#bd3786\"],[0.5555555555555556,\"#d8576b\"],[0.6666666666666666,\"#ed7953\"],[0.7777777777777778,\"#fb9f3a\"],[0.8888888888888888,\"#fdca26\"],[1.0,\"#f0f921\"]]},\"legend\":{\"title\":{\"text\":\"class\"},\"tracegroupgap\":0,\"x\":0,\"y\":1},\"margin\":{\"t\":60},\"width\":800},                        {\"responsive\": true}                    ).then(function(){\n",
       "                            \n",
       "var gd = document.getElementById('d11d95cf-2615-4ee3-ac01-3a1e9ab4ad3b');\n",
       "var x = new MutationObserver(function (mutations, observer) {{\n",
       "        var display = window.getComputedStyle(gd).display;\n",
       "        if (!display || display === 'none') {{\n",
       "            console.log([gd, 'removed!']);\n",
       "            Plotly.purge(gd);\n",
       "            observer.disconnect();\n",
       "        }}\n",
       "}});\n",
       "\n",
       "// Listen for the removal of the full notebook cells\n",
       "var notebookContainer = gd.closest('#notebook-container');\n",
       "if (notebookContainer) {{\n",
       "    x.observe(notebookContainer, {childList: true});\n",
       "}}\n",
       "\n",
       "// Listen for the clearing of the current output cell\n",
       "var outputEl = gd.closest('.output');\n",
       "if (outputEl) {{\n",
       "    x.observe(outputEl, {childList: true});\n",
       "}}\n",
       "\n",
       "                        })                };                });            </script>        </div>"
      ]
     },
     "metadata": {},
     "output_type": "display_data"
    }
   ],
   "source": [
    "# Plot a 3D graph for K = 5:\n",
    "# Plot the 3D-scatter with x=\"order_total\", y=\"frequency\" and z=\"recency\"\n",
    "fig = px.scatter_3d(\n",
    "    five_clusters,\n",
    "    x=\"order_total\",\n",
    "    y=\"frequency\",\n",
    "    z=\"recency\",\n",
    "    color=\"class\",\n",
    "    symbol=\"class\",\n",
    "    width=800,\n",
    ")\n",
    "fig.update_layout(legend=dict(x=0, y=1))\n",
    "fig.show()\n"
   ]
  },
  {
   "cell_type": "code",
   "execution_count": 66,
   "id": "c0c9b88c",
   "metadata": {},
   "outputs": [
    {
     "data": {},
     "metadata": {},
     "output_type": "display_data"
    },
    {
     "data": {
      "application/vnd.holoviews_exec.v0+json": "",
      "text/html": [
       "<div id='4416'>\n",
       "\n",
       "\n",
       "\n",
       "\n",
       "\n",
       "  <div class=\"bk-root\" id=\"adeb9dbd-418b-465c-87e4-16e54c27d6fc\" data-root-id=\"4416\"></div>\n",
       "</div>\n",
       "<script type=\"application/javascript\">(function(root) {\n",
       "  function embed_document(root) {\n",
       "    var docs_json = {\"6ec803ca-9c68-48af-89dd-ddf052ecf7dd\":{\"defs\":[{\"extends\":null,\"module\":null,\"name\":\"ReactiveHTML1\",\"overrides\":[],\"properties\":[]},{\"extends\":null,\"module\":null,\"name\":\"FlexBox1\",\"overrides\":[],\"properties\":[{\"default\":\"flex-start\",\"kind\":null,\"name\":\"align_content\"},{\"default\":\"flex-start\",\"kind\":null,\"name\":\"align_items\"},{\"default\":\"row\",\"kind\":null,\"name\":\"flex_direction\"},{\"default\":\"wrap\",\"kind\":null,\"name\":\"flex_wrap\"},{\"default\":\"flex-start\",\"kind\":null,\"name\":\"justify_content\"}]},{\"extends\":null,\"module\":null,\"name\":\"GridStack1\",\"overrides\":[],\"properties\":[{\"default\":\"warn\",\"kind\":null,\"name\":\"mode\"},{\"default\":null,\"kind\":null,\"name\":\"ncols\"},{\"default\":null,\"kind\":null,\"name\":\"nrows\"},{\"default\":true,\"kind\":null,\"name\":\"allow_resize\"},{\"default\":true,\"kind\":null,\"name\":\"allow_drag\"},{\"default\":[],\"kind\":null,\"name\":\"state\"}]},{\"extends\":null,\"module\":null,\"name\":\"click1\",\"overrides\":[],\"properties\":[{\"default\":\"\",\"kind\":null,\"name\":\"terminal_output\"},{\"default\":\"\",\"kind\":null,\"name\":\"debug_name\"},{\"default\":0,\"kind\":null,\"name\":\"clears\"}]},{\"extends\":null,\"module\":null,\"name\":\"TemplateActions1\",\"overrides\":[],\"properties\":[{\"default\":0,\"kind\":null,\"name\":\"open_modal\"},{\"default\":0,\"kind\":null,\"name\":\"close_modal\"}]},{\"extends\":null,\"module\":null,\"name\":\"MaterialTemplateActions1\",\"overrides\":[],\"properties\":[{\"default\":0,\"kind\":null,\"name\":\"open_modal\"},{\"default\":0,\"kind\":null,\"name\":\"close_modal\"}]}],\"roots\":{\"references\":[{\"attributes\":{\"source\":{\"id\":\"4555\"}},\"id\":\"4562\",\"type\":\"CDSView\"},{\"attributes\":{\"coordinates\":null,\"group\":null,\"text_color\":\"black\",\"text_font_size\":\"12pt\"},\"id\":\"4427\",\"type\":\"Title\"},{\"attributes\":{\"source\":{\"id\":\"4483\"}},\"id\":\"4490\",\"type\":\"CDSView\"},{\"attributes\":{},\"id\":\"4458\",\"type\":\"AllLabels\"},{\"attributes\":{\"data\":{\"class\":[4,4,4,4,4,4,4,4,4],\"frequency\":[152,135,142,157,151,144,145,152,150],\"order_total\":{\"__ndarray__\":\"AAAAgCYtNEEAAACA2Io0QQAAAIDCiTVBAAAAAMEoNkFmZmbmyNE1QZqZmZn4VDVBZmZmZm1+NUFmZmbmTCA2QZqZmRlkkzVB\",\"dtype\":\"float64\",\"order\":\"little\",\"shape\":[9]}},\"selected\":{\"id\":\"4556\"},\"selection_policy\":{\"id\":\"4578\"}},\"id\":\"4555\",\"type\":\"ColumnDataSource\"},{\"attributes\":{},\"id\":\"4457\",\"type\":\"BasicTickFormatter\"},{\"attributes\":{\"label\":{\"value\":\"1\"},\"renderers\":[{\"id\":\"4489\"}]},\"id\":\"4503\",\"type\":\"LegendItem\"},{\"attributes\":{},\"id\":\"4447\",\"type\":\"ResetTool\"},{\"attributes\":{\"label\":{\"value\":\"3\"},\"renderers\":[{\"id\":\"4535\"}]},\"id\":\"4553\",\"type\":\"LegendItem\"},{\"attributes\":{},\"id\":\"4436\",\"type\":\"BasicTicker\"},{\"attributes\":{},\"id\":\"4484\",\"type\":\"Selection\"},{\"attributes\":{},\"id\":\"4440\",\"type\":\"BasicTicker\"},{\"attributes\":{\"below\":[{\"id\":\"4435\"}],\"center\":[{\"id\":\"4438\"},{\"id\":\"4442\"}],\"height\":300,\"left\":[{\"id\":\"4439\"}],\"margin\":[5,5,5,5],\"min_border_bottom\":10,\"min_border_left\":10,\"min_border_right\":10,\"min_border_top\":10,\"renderers\":[{\"id\":\"4468\"},{\"id\":\"4489\"},{\"id\":\"4511\"},{\"id\":\"4535\"},{\"id\":\"4561\"},{\"id\":\"4589\"}],\"right\":[{\"id\":\"4480\"}],\"sizing_mode\":\"fixed\",\"title\":{\"id\":\"4427\"},\"toolbar\":{\"id\":\"4449\"},\"width\":700,\"x_range\":{\"id\":\"4418\"},\"x_scale\":{\"id\":\"4431\"},\"y_range\":{\"id\":\"4419\"},\"y_scale\":{\"id\":\"4433\"}},\"id\":\"4426\",\"subtype\":\"Figure\",\"type\":\"Plot\"},{\"attributes\":{},\"id\":\"4608\",\"type\":\"UnionRenderers\"},{\"attributes\":{\"margin\":[5,5,5,5],\"name\":\"HSpacer09125\",\"sizing_mode\":\"stretch_width\"},\"id\":\"4417\",\"type\":\"Spacer\"},{\"attributes\":{\"label\":{\"value\":\"4\"},\"renderers\":[{\"id\":\"4561\"}]},\"id\":\"4581\",\"type\":\"LegendItem\"},{\"attributes\":{\"fill_alpha\":{\"value\":0.2},\"fill_color\":{\"value\":\"#6d904f\"},\"hatch_alpha\":{\"value\":0.2},\"hatch_color\":{\"value\":\"#6d904f\"},\"line_alpha\":{\"value\":0.2},\"line_color\":{\"value\":\"#6d904f\"},\"size\":{\"value\":5.477225575051661},\"x\":{\"field\":\"order_total\"},\"y\":{\"field\":\"frequency\"}},\"id\":\"4534\",\"type\":\"Scatter\"},{\"attributes\":{\"fill_alpha\":{\"value\":0.1},\"fill_color\":{\"value\":\"#30a2da\"},\"hatch_alpha\":{\"value\":0.1},\"hatch_color\":{\"value\":\"#30a2da\"},\"line_alpha\":{\"value\":0.1},\"line_color\":{\"value\":\"#30a2da\"},\"size\":{\"value\":5.477225575051661},\"x\":{\"field\":\"order_total\"},\"y\":{\"field\":\"frequency\"}},\"id\":\"4466\",\"type\":\"Scatter\"},{\"attributes\":{\"axis\":{\"id\":\"4435\"},\"coordinates\":null,\"grid_line_color\":null,\"group\":null,\"ticker\":null},\"id\":\"4438\",\"type\":\"Grid\"},{\"attributes\":{\"fill_alpha\":{\"value\":0.1},\"fill_color\":{\"value\":\"#6d904f\"},\"hatch_alpha\":{\"value\":0.1},\"hatch_color\":{\"value\":\"#6d904f\"},\"line_alpha\":{\"value\":0.1},\"line_color\":{\"value\":\"#6d904f\"},\"size\":{\"value\":5.477225575051661},\"x\":{\"field\":\"order_total\"},\"y\":{\"field\":\"frequency\"}},\"id\":\"4533\",\"type\":\"Scatter\"},{\"attributes\":{\"fill_color\":{\"value\":\"#17becf\"},\"hatch_color\":{\"value\":\"#17becf\"},\"line_color\":{\"value\":\"#17becf\"},\"size\":{\"value\":5.477225575051661},\"x\":{\"field\":\"order_total\"},\"y\":{\"field\":\"frequency\"}},\"id\":\"4586\",\"type\":\"Scatter\"},{\"attributes\":{\"fill_color\":{\"value\":\"#30a2da\"},\"hatch_color\":{\"value\":\"#30a2da\"},\"line_color\":{\"value\":\"#30a2da\"},\"size\":{\"value\":5.477225575051661},\"x\":{\"field\":\"order_total\"},\"y\":{\"field\":\"frequency\"}},\"id\":\"4465\",\"type\":\"Scatter\"},{\"attributes\":{\"coordinates\":null,\"data_source\":{\"id\":\"4462\"},\"glyph\":{\"id\":\"4465\"},\"group\":null,\"hover_glyph\":null,\"muted_glyph\":{\"id\":\"4467\"},\"nonselection_glyph\":{\"id\":\"4466\"},\"selection_glyph\":{\"id\":\"4482\"},\"view\":{\"id\":\"4469\"}},\"id\":\"4468\",\"type\":\"GlyphRenderer\"},{\"attributes\":{\"fill_alpha\":{\"value\":0.2},\"fill_color\":{\"value\":\"#fc4f30\"},\"hatch_alpha\":{\"value\":0.2},\"hatch_color\":{\"value\":\"#fc4f30\"},\"line_alpha\":{\"value\":0.2},\"line_color\":{\"value\":\"#fc4f30\"},\"size\":{\"value\":5.477225575051661},\"x\":{\"field\":\"order_total\"},\"y\":{\"field\":\"frequency\"}},\"id\":\"4488\",\"type\":\"Scatter\"},{\"attributes\":{},\"id\":\"4530\",\"type\":\"Selection\"},{\"attributes\":{},\"id\":\"4500\",\"type\":\"UnionRenderers\"},{\"attributes\":{\"fill_color\":{\"value\":\"#e5ae38\"},\"hatch_color\":{\"value\":\"#e5ae38\"},\"line_color\":{\"value\":\"#e5ae38\"},\"size\":{\"value\":5.477225575051661},\"x\":{\"field\":\"order_total\"},\"y\":{\"field\":\"frequency\"}},\"id\":\"4508\",\"type\":\"Scatter\"},{\"attributes\":{\"axis\":{\"id\":\"4439\"},\"coordinates\":null,\"dimension\":1,\"grid_line_color\":null,\"group\":null,\"ticker\":null},\"id\":\"4442\",\"type\":\"Grid\"},{\"attributes\":{\"fill_alpha\":{\"value\":0.2},\"fill_color\":{\"value\":\"#30a2da\"},\"hatch_alpha\":{\"value\":0.2},\"hatch_color\":{\"value\":\"#30a2da\"},\"line_alpha\":{\"value\":0.2},\"line_color\":{\"value\":\"#30a2da\"},\"size\":{\"value\":5.477225575051661},\"x\":{\"field\":\"order_total\"},\"y\":{\"field\":\"frequency\"}},\"id\":\"4467\",\"type\":\"Scatter\"},{\"attributes\":{\"tools\":[{\"id\":\"4420\"},{\"id\":\"4443\"},{\"id\":\"4444\"},{\"id\":\"4445\"},{\"id\":\"4446\"},{\"id\":\"4447\"}]},\"id\":\"4449\",\"type\":\"Toolbar\"},{\"attributes\":{\"end\":2288020.424285714,\"reset_end\":2288020.424285714,\"reset_start\":1282590.4757142856,\"start\":1282590.4757142856,\"tags\":[[[\"order_total\",\"order_total\",null]]]},\"id\":\"4418\",\"type\":\"Range1d\"},{\"attributes\":{\"angle\":{\"value\":0.0},\"fill_alpha\":{\"value\":1.0},\"fill_color\":{\"value\":\"#6d904f\"},\"hatch_alpha\":{\"value\":1.0},\"hatch_color\":{\"value\":\"#6d904f\"},\"hatch_scale\":{\"value\":12.0},\"hatch_weight\":{\"value\":1.0},\"line_alpha\":{\"value\":1.0},\"line_cap\":{\"value\":\"butt\"},\"line_color\":{\"value\":\"#6d904f\"},\"line_dash\":{\"value\":[]},\"line_dash_offset\":{\"value\":0},\"line_join\":{\"value\":\"bevel\"},\"line_width\":{\"value\":1},\"marker\":{\"value\":\"circle\"},\"size\":{\"value\":5.477225575051661},\"x\":{\"field\":\"order_total\"},\"y\":{\"field\":\"frequency\"}},\"id\":\"4554\",\"type\":\"Scatter\"},{\"attributes\":{\"fill_color\":{\"value\":\"#fc4f30\"},\"hatch_color\":{\"value\":\"#fc4f30\"},\"line_color\":{\"value\":\"#fc4f30\"},\"size\":{\"value\":5.477225575051661},\"x\":{\"field\":\"order_total\"},\"y\":{\"field\":\"frequency\"}},\"id\":\"4486\",\"type\":\"Scatter\"},{\"attributes\":{\"angle\":{\"value\":0.0},\"fill_alpha\":{\"value\":1.0},\"fill_color\":{\"value\":\"#8b8b8b\"},\"hatch_alpha\":{\"value\":1.0},\"hatch_color\":{\"value\":\"#8b8b8b\"},\"hatch_scale\":{\"value\":12.0},\"hatch_weight\":{\"value\":1.0},\"line_alpha\":{\"value\":1.0},\"line_cap\":{\"value\":\"butt\"},\"line_color\":{\"value\":\"#8b8b8b\"},\"line_dash\":{\"value\":[]},\"line_dash_offset\":{\"value\":0},\"line_join\":{\"value\":\"bevel\"},\"line_width\":{\"value\":1},\"marker\":{\"value\":\"circle\"},\"size\":{\"value\":5.477225575051661},\"x\":{\"field\":\"order_total\"},\"y\":{\"field\":\"frequency\"}},\"id\":\"4582\",\"type\":\"Scatter\"},{\"attributes\":{\"fill_alpha\":{\"value\":0.1},\"fill_color\":{\"value\":\"#e5ae38\"},\"hatch_alpha\":{\"value\":0.1},\"hatch_color\":{\"value\":\"#e5ae38\"},\"line_alpha\":{\"value\":0.1},\"line_color\":{\"value\":\"#e5ae38\"},\"size\":{\"value\":5.477225575051661},\"x\":{\"field\":\"order_total\"},\"y\":{\"field\":\"frequency\"}},\"id\":\"4509\",\"type\":\"Scatter\"},{\"attributes\":{\"callback\":null,\"renderers\":[{\"id\":\"4468\"},{\"id\":\"4489\"},{\"id\":\"4511\"},{\"id\":\"4535\"},{\"id\":\"4561\"},{\"id\":\"4589\"}],\"tags\":[\"hv_created\"],\"tooltips\":[[\"class\",\"@{class}\"],[\"order_total\",\"@{order_total}\"],[\"frequency\",\"@{frequency}\"]]},\"id\":\"4420\",\"type\":\"HoverTool\"},{\"attributes\":{\"bottom_units\":\"screen\",\"coordinates\":null,\"fill_alpha\":0.5,\"fill_color\":\"lightgrey\",\"group\":null,\"left_units\":\"screen\",\"level\":\"overlay\",\"line_alpha\":1.0,\"line_color\":\"black\",\"line_dash\":[4,4],\"line_width\":2,\"right_units\":\"screen\",\"syncable\":false,\"top_units\":\"screen\"},\"id\":\"4448\",\"type\":\"BoxAnnotation\"},{\"attributes\":{\"source\":{\"id\":\"4462\"}},\"id\":\"4469\",\"type\":\"CDSView\"},{\"attributes\":{},\"id\":\"4443\",\"type\":\"SaveTool\"},{\"attributes\":{},\"id\":\"4444\",\"type\":\"PanTool\"},{\"attributes\":{\"margin\":[5,5,5,5],\"name\":\"HSpacer09126\",\"sizing_mode\":\"stretch_width\"},\"id\":\"4793\",\"type\":\"Spacer\"},{\"attributes\":{\"end\":217.5,\"reset_end\":217.5,\"reset_start\":127.5,\"start\":127.5,\"tags\":[[[\"frequency\",\"frequency\",null]]]},\"id\":\"4419\",\"type\":\"Range1d\"},{\"attributes\":{\"axis_label\":\"frequency\",\"coordinates\":null,\"formatter\":{\"id\":\"4460\"},\"group\":null,\"major_label_policy\":{\"id\":\"4461\"},\"ticker\":{\"id\":\"4440\"}},\"id\":\"4439\",\"type\":\"LinearAxis\"},{\"attributes\":{\"fill_alpha\":{\"value\":0.1},\"fill_color\":{\"value\":\"#8b8b8b\"},\"hatch_alpha\":{\"value\":0.1},\"hatch_color\":{\"value\":\"#8b8b8b\"},\"line_alpha\":{\"value\":0.1},\"line_color\":{\"value\":\"#8b8b8b\"},\"size\":{\"value\":5.477225575051661},\"x\":{\"field\":\"order_total\"},\"y\":{\"field\":\"frequency\"}},\"id\":\"4559\",\"type\":\"Scatter\"},{\"attributes\":{\"data\":{\"class\":[5,5,5,5,5],\"frequency\":[167,158,165,164,162],\"order_total\":{\"__ndarray__\":\"MzMzM1YEO0EAAACAZuo6Qc3MzMyOTDpBAAAAAPNdO0FmZmZm3+U6QQ==\",\"dtype\":\"float64\",\"order\":\"little\",\"shape\":[5]}},\"selected\":{\"id\":\"4584\"},\"selection_policy\":{\"id\":\"4608\"}},\"id\":\"4583\",\"type\":\"ColumnDataSource\"},{\"attributes\":{\"overlay\":{\"id\":\"4448\"}},\"id\":\"4446\",\"type\":\"BoxZoomTool\"},{\"attributes\":{\"data\":{\"class\":[0,0,0,0,0,0,0,0,0,0,0,0,0,0],\"frequency\":[143,153,142,135,167,140,153,145,161,151,156,157,168,152],\"order_total\":{\"__ndarray__\":\"MzMzs4NbN0FmZmbmfY83QQAAAAAWFTdBMzMzs/2dN0EzMzMzsEA3QQAAAAARzDZBZ2ZmZrfUN0EAAAAAfro3QZqZmRl3ZDdBzczMzHPeN0FmZmbmh1g3QWZmZubyAjdBAAAAgGkaOEGamZmZ6vA2QQ==\",\"dtype\":\"float64\",\"order\":\"little\",\"shape\":[14]}},\"selected\":{\"id\":\"4463\"},\"selection_policy\":{\"id\":\"4477\"}},\"id\":\"4462\",\"type\":\"ColumnDataSource\"},{\"attributes\":{\"data\":{\"class\":[1,1,1,1,1,1,1,1,1,1,1],\"frequency\":[181,171,178,171,175,186,164,173,156,176,176],\"order_total\":{\"__ndarray__\":\"AAAAgAv0O0EAAAAAluw7QTMzMzMSvTxBzczMzCGCPEGamZmZHvA9QQAAAAAXKjxBAAAAABy2PEGamZmZY1M8Qc3MzMwU6zxBmpmZmaORPUEAAAAAxdQ7QQ==\",\"dtype\":\"float64\",\"order\":\"little\",\"shape\":[11]}},\"selected\":{\"id\":\"4484\"},\"selection_policy\":{\"id\":\"4500\"}},\"id\":\"4483\",\"type\":\"ColumnDataSource\"},{\"attributes\":{\"fill_alpha\":{\"value\":0.2},\"fill_color\":{\"value\":\"#17becf\"},\"hatch_alpha\":{\"value\":0.2},\"hatch_color\":{\"value\":\"#17becf\"},\"line_alpha\":{\"value\":0.2},\"line_color\":{\"value\":\"#17becf\"},\"size\":{\"value\":5.477225575051661},\"x\":{\"field\":\"order_total\"},\"y\":{\"field\":\"frequency\"}},\"id\":\"4588\",\"type\":\"Scatter\"},{\"attributes\":{\"label\":{\"value\":\"0\"},\"renderers\":[{\"id\":\"4468\"}]},\"id\":\"4481\",\"type\":\"LegendItem\"},{\"attributes\":{},\"id\":\"4524\",\"type\":\"UnionRenderers\"},{\"attributes\":{\"click_policy\":\"mute\",\"coordinates\":null,\"group\":null,\"items\":[{\"id\":\"4481\"},{\"id\":\"4503\"},{\"id\":\"4527\"},{\"id\":\"4553\"},{\"id\":\"4581\"},{\"id\":\"4611\"}],\"location\":[0,0],\"title\":\"class\"},\"id\":\"4480\",\"type\":\"Legend\"},{\"attributes\":{},\"id\":\"4584\",\"type\":\"Selection\"},{\"attributes\":{\"source\":{\"id\":\"4529\"}},\"id\":\"4536\",\"type\":\"CDSView\"},{\"attributes\":{\"fill_color\":{\"value\":\"#6d904f\"},\"hatch_color\":{\"value\":\"#6d904f\"},\"line_color\":{\"value\":\"#6d904f\"},\"size\":{\"value\":5.477225575051661},\"x\":{\"field\":\"order_total\"},\"y\":{\"field\":\"frequency\"}},\"id\":\"4532\",\"type\":\"Scatter\"},{\"attributes\":{},\"id\":\"4477\",\"type\":\"UnionRenderers\"},{\"attributes\":{},\"id\":\"4463\",\"type\":\"Selection\"},{\"attributes\":{\"data\":{\"class\":[2,2],\"frequency\":[210,179],\"order_total\":{\"__ndarray__\":\"MzMzM0YnQUEzMzPzbh1AQQ==\",\"dtype\":\"float64\",\"order\":\"little\",\"shape\":[2]}},\"selected\":{\"id\":\"4506\"},\"selection_policy\":{\"id\":\"4524\"}},\"id\":\"4505\",\"type\":\"ColumnDataSource\"},{\"attributes\":{\"coordinates\":null,\"data_source\":{\"id\":\"4505\"},\"glyph\":{\"id\":\"4508\"},\"group\":null,\"hover_glyph\":null,\"muted_glyph\":{\"id\":\"4510\"},\"nonselection_glyph\":{\"id\":\"4509\"},\"selection_glyph\":{\"id\":\"4528\"},\"view\":{\"id\":\"4512\"}},\"id\":\"4511\",\"type\":\"GlyphRenderer\"},{\"attributes\":{},\"id\":\"4550\",\"type\":\"UnionRenderers\"},{\"attributes\":{},\"id\":\"4431\",\"type\":\"LinearScale\"},{\"attributes\":{},\"id\":\"4461\",\"type\":\"AllLabels\"},{\"attributes\":{\"angle\":{\"value\":0.0},\"fill_alpha\":{\"value\":1.0},\"fill_color\":{\"value\":\"#e5ae38\"},\"hatch_alpha\":{\"value\":1.0},\"hatch_color\":{\"value\":\"#e5ae38\"},\"hatch_scale\":{\"value\":12.0},\"hatch_weight\":{\"value\":1.0},\"line_alpha\":{\"value\":1.0},\"line_cap\":{\"value\":\"butt\"},\"line_color\":{\"value\":\"#e5ae38\"},\"line_dash\":{\"value\":[]},\"line_dash_offset\":{\"value\":0},\"line_join\":{\"value\":\"bevel\"},\"line_width\":{\"value\":1},\"marker\":{\"value\":\"circle\"},\"size\":{\"value\":5.477225575051661},\"x\":{\"field\":\"order_total\"},\"y\":{\"field\":\"frequency\"}},\"id\":\"4528\",\"type\":\"Scatter\"},{\"attributes\":{\"children\":[{\"id\":\"4417\"},{\"id\":\"4426\"},{\"id\":\"4793\"}],\"margin\":[0,0,0,0],\"name\":\"Row09121\",\"tags\":[\"embedded\"]},\"id\":\"4416\",\"type\":\"Row\"},{\"attributes\":{},\"id\":\"4433\",\"type\":\"LinearScale\"},{\"attributes\":{},\"id\":\"4578\",\"type\":\"UnionRenderers\"},{\"attributes\":{\"label\":{\"value\":\"5\"},\"renderers\":[{\"id\":\"4589\"}]},\"id\":\"4611\",\"type\":\"LegendItem\"},{\"attributes\":{\"coordinates\":null,\"data_source\":{\"id\":\"4583\"},\"glyph\":{\"id\":\"4586\"},\"group\":null,\"hover_glyph\":null,\"muted_glyph\":{\"id\":\"4588\"},\"nonselection_glyph\":{\"id\":\"4587\"},\"selection_glyph\":{\"id\":\"4612\"},\"view\":{\"id\":\"4590\"}},\"id\":\"4589\",\"type\":\"GlyphRenderer\"},{\"attributes\":{\"angle\":{\"value\":0.0},\"fill_alpha\":{\"value\":1.0},\"fill_color\":{\"value\":\"#17becf\"},\"hatch_alpha\":{\"value\":1.0},\"hatch_color\":{\"value\":\"#17becf\"},\"hatch_scale\":{\"value\":12.0},\"hatch_weight\":{\"value\":1.0},\"line_alpha\":{\"value\":1.0},\"line_cap\":{\"value\":\"butt\"},\"line_color\":{\"value\":\"#17becf\"},\"line_dash\":{\"value\":[]},\"line_dash_offset\":{\"value\":0},\"line_join\":{\"value\":\"bevel\"},\"line_width\":{\"value\":1},\"marker\":{\"value\":\"circle\"},\"size\":{\"value\":5.477225575051661},\"x\":{\"field\":\"order_total\"},\"y\":{\"field\":\"frequency\"}},\"id\":\"4612\",\"type\":\"Scatter\"},{\"attributes\":{\"angle\":{\"value\":0.0},\"fill_alpha\":{\"value\":1.0},\"fill_color\":{\"value\":\"#30a2da\"},\"hatch_alpha\":{\"value\":1.0},\"hatch_color\":{\"value\":\"#30a2da\"},\"hatch_scale\":{\"value\":12.0},\"hatch_weight\":{\"value\":1.0},\"line_alpha\":{\"value\":1.0},\"line_cap\":{\"value\":\"butt\"},\"line_color\":{\"value\":\"#30a2da\"},\"line_dash\":{\"value\":[]},\"line_dash_offset\":{\"value\":0},\"line_join\":{\"value\":\"bevel\"},\"line_width\":{\"value\":1},\"marker\":{\"value\":\"circle\"},\"size\":{\"value\":5.477225575051661},\"x\":{\"field\":\"order_total\"},\"y\":{\"field\":\"frequency\"}},\"id\":\"4482\",\"type\":\"Scatter\"},{\"attributes\":{\"fill_color\":{\"value\":\"#8b8b8b\"},\"hatch_color\":{\"value\":\"#8b8b8b\"},\"line_color\":{\"value\":\"#8b8b8b\"},\"size\":{\"value\":5.477225575051661},\"x\":{\"field\":\"order_total\"},\"y\":{\"field\":\"frequency\"}},\"id\":\"4558\",\"type\":\"Scatter\"},{\"attributes\":{\"label\":{\"value\":\"2\"},\"renderers\":[{\"id\":\"4511\"}]},\"id\":\"4527\",\"type\":\"LegendItem\"},{\"attributes\":{\"data\":{\"class\":[3,3,3,3,3,3,3,3,3],\"frequency\":[159,159,156,152,150,161,156,172,163],\"order_total\":{\"__ndarray__\":\"zczMzBCOOEEzMzOzrwc5QTMzMzOouzhBmpmZmfHAOEGamZkZIfo4QZqZmZk2PDlBmpmZmU3fOEEAAAAA3Xs5QZqZmZnh4TlB\",\"dtype\":\"float64\",\"order\":\"little\",\"shape\":[9]}},\"selected\":{\"id\":\"4530\"},\"selection_policy\":{\"id\":\"4550\"}},\"id\":\"4529\",\"type\":\"ColumnDataSource\"},{\"attributes\":{},\"id\":\"4556\",\"type\":\"Selection\"},{\"attributes\":{\"coordinates\":null,\"data_source\":{\"id\":\"4555\"},\"glyph\":{\"id\":\"4558\"},\"group\":null,\"hover_glyph\":null,\"muted_glyph\":{\"id\":\"4560\"},\"nonselection_glyph\":{\"id\":\"4559\"},\"selection_glyph\":{\"id\":\"4582\"},\"view\":{\"id\":\"4562\"}},\"id\":\"4561\",\"type\":\"GlyphRenderer\"},{\"attributes\":{},\"id\":\"4445\",\"type\":\"WheelZoomTool\"},{\"attributes\":{\"coordinates\":null,\"data_source\":{\"id\":\"4483\"},\"glyph\":{\"id\":\"4486\"},\"group\":null,\"hover_glyph\":null,\"muted_glyph\":{\"id\":\"4488\"},\"nonselection_glyph\":{\"id\":\"4487\"},\"selection_glyph\":{\"id\":\"4504\"},\"view\":{\"id\":\"4490\"}},\"id\":\"4489\",\"type\":\"GlyphRenderer\"},{\"attributes\":{\"angle\":{\"value\":0.0},\"fill_alpha\":{\"value\":1.0},\"fill_color\":{\"value\":\"#fc4f30\"},\"hatch_alpha\":{\"value\":1.0},\"hatch_color\":{\"value\":\"#fc4f30\"},\"hatch_scale\":{\"value\":12.0},\"hatch_weight\":{\"value\":1.0},\"line_alpha\":{\"value\":1.0},\"line_cap\":{\"value\":\"butt\"},\"line_color\":{\"value\":\"#fc4f30\"},\"line_dash\":{\"value\":[]},\"line_dash_offset\":{\"value\":0},\"line_join\":{\"value\":\"bevel\"},\"line_width\":{\"value\":1},\"marker\":{\"value\":\"circle\"},\"size\":{\"value\":5.477225575051661},\"x\":{\"field\":\"order_total\"},\"y\":{\"field\":\"frequency\"}},\"id\":\"4504\",\"type\":\"Scatter\"},{\"attributes\":{},\"id\":\"4506\",\"type\":\"Selection\"},{\"attributes\":{\"axis_label\":\"order_total\",\"coordinates\":null,\"formatter\":{\"id\":\"4457\"},\"group\":null,\"major_label_policy\":{\"id\":\"4458\"},\"ticker\":{\"id\":\"4436\"}},\"id\":\"4435\",\"type\":\"LinearAxis\"},{\"attributes\":{\"fill_alpha\":{\"value\":0.1},\"fill_color\":{\"value\":\"#17becf\"},\"hatch_alpha\":{\"value\":0.1},\"hatch_color\":{\"value\":\"#17becf\"},\"line_alpha\":{\"value\":0.1},\"line_color\":{\"value\":\"#17becf\"},\"size\":{\"value\":5.477225575051661},\"x\":{\"field\":\"order_total\"},\"y\":{\"field\":\"frequency\"}},\"id\":\"4587\",\"type\":\"Scatter\"},{\"attributes\":{\"coordinates\":null,\"data_source\":{\"id\":\"4529\"},\"glyph\":{\"id\":\"4532\"},\"group\":null,\"hover_glyph\":null,\"muted_glyph\":{\"id\":\"4534\"},\"nonselection_glyph\":{\"id\":\"4533\"},\"selection_glyph\":{\"id\":\"4554\"},\"view\":{\"id\":\"4536\"}},\"id\":\"4535\",\"type\":\"GlyphRenderer\"},{\"attributes\":{\"source\":{\"id\":\"4505\"}},\"id\":\"4512\",\"type\":\"CDSView\"},{\"attributes\":{\"fill_alpha\":{\"value\":0.2},\"fill_color\":{\"value\":\"#8b8b8b\"},\"hatch_alpha\":{\"value\":0.2},\"hatch_color\":{\"value\":\"#8b8b8b\"},\"line_alpha\":{\"value\":0.2},\"line_color\":{\"value\":\"#8b8b8b\"},\"size\":{\"value\":5.477225575051661},\"x\":{\"field\":\"order_total\"},\"y\":{\"field\":\"frequency\"}},\"id\":\"4560\",\"type\":\"Scatter\"},{\"attributes\":{},\"id\":\"4460\",\"type\":\"BasicTickFormatter\"},{\"attributes\":{\"fill_alpha\":{\"value\":0.1},\"fill_color\":{\"value\":\"#fc4f30\"},\"hatch_alpha\":{\"value\":0.1},\"hatch_color\":{\"value\":\"#fc4f30\"},\"line_alpha\":{\"value\":0.1},\"line_color\":{\"value\":\"#fc4f30\"},\"size\":{\"value\":5.477225575051661},\"x\":{\"field\":\"order_total\"},\"y\":{\"field\":\"frequency\"}},\"id\":\"4487\",\"type\":\"Scatter\"},{\"attributes\":{\"source\":{\"id\":\"4583\"}},\"id\":\"4590\",\"type\":\"CDSView\"},{\"attributes\":{\"fill_alpha\":{\"value\":0.2},\"fill_color\":{\"value\":\"#e5ae38\"},\"hatch_alpha\":{\"value\":0.2},\"hatch_color\":{\"value\":\"#e5ae38\"},\"line_alpha\":{\"value\":0.2},\"line_color\":{\"value\":\"#e5ae38\"},\"size\":{\"value\":5.477225575051661},\"x\":{\"field\":\"order_total\"},\"y\":{\"field\":\"frequency\"}},\"id\":\"4510\",\"type\":\"Scatter\"}],\"root_ids\":[\"4416\"]},\"title\":\"Bokeh Application\",\"version\":\"2.4.1\"}};\n",
       "    var render_items = [{\"docid\":\"6ec803ca-9c68-48af-89dd-ddf052ecf7dd\",\"root_ids\":[\"4416\"],\"roots\":{\"4416\":\"adeb9dbd-418b-465c-87e4-16e54c27d6fc\"}}];\n",
       "    root.Bokeh.embed.embed_items_notebook(docs_json, render_items);\n",
       "  }\n",
       "  if (root.Bokeh !== undefined && root.Bokeh.Panel !== undefined) {\n",
       "    embed_document(root);\n",
       "  } else {\n",
       "    var attempts = 0;\n",
       "    var timer = setInterval(function(root) {\n",
       "      if (root.Bokeh !== undefined && root.Bokeh.Panel !== undefined) {\n",
       "        clearInterval(timer);\n",
       "        embed_document(root);\n",
       "      } else if (document.readyState == \"complete\") {\n",
       "        attempts++;\n",
       "        if (attempts > 200) {\n",
       "          clearInterval(timer);\n",
       "          console.log(\"Bokeh: ERROR: Unable to run BokehJS code because BokehJS library is missing\");\n",
       "        }\n",
       "      }\n",
       "    }, 25, root)\n",
       "  }\n",
       "})(window);</script>"
      ],
      "text/plain": [
       ":NdOverlay   [class]\n",
       "   :Scatter   [order_total]   (frequency)"
      ]
     },
     "execution_count": 66,
     "metadata": {
      "application/vnd.holoviews_exec.v0+json": {
       "id": "4416"
      }
     },
     "output_type": "execute_result"
    }
   ],
   "source": [
    "six_clusters.hvplot.scatter(x=\"order_total\",y=\"frequency\",by=\"class\")"
   ]
  },
  {
   "cell_type": "code",
   "execution_count": 67,
   "id": "6e3f9902",
   "metadata": {},
   "outputs": [
    {
     "data": {},
     "metadata": {},
     "output_type": "display_data"
    },
    {
     "data": {
      "application/vnd.holoviews_exec.v0+json": "",
      "text/html": [
       "<div id='4895'>\n",
       "\n",
       "\n",
       "\n",
       "\n",
       "\n",
       "  <div class=\"bk-root\" id=\"743ea91b-cde8-4cc0-befd-f402c5813535\" data-root-id=\"4895\"></div>\n",
       "</div>\n",
       "<script type=\"application/javascript\">(function(root) {\n",
       "  function embed_document(root) {\n",
       "    var docs_json = {\"fcdc2d25-b29f-40ac-b8e9-bb3405c5a97c\":{\"defs\":[{\"extends\":null,\"module\":null,\"name\":\"ReactiveHTML1\",\"overrides\":[],\"properties\":[]},{\"extends\":null,\"module\":null,\"name\":\"FlexBox1\",\"overrides\":[],\"properties\":[{\"default\":\"flex-start\",\"kind\":null,\"name\":\"align_content\"},{\"default\":\"flex-start\",\"kind\":null,\"name\":\"align_items\"},{\"default\":\"row\",\"kind\":null,\"name\":\"flex_direction\"},{\"default\":\"wrap\",\"kind\":null,\"name\":\"flex_wrap\"},{\"default\":\"flex-start\",\"kind\":null,\"name\":\"justify_content\"}]},{\"extends\":null,\"module\":null,\"name\":\"GridStack1\",\"overrides\":[],\"properties\":[{\"default\":\"warn\",\"kind\":null,\"name\":\"mode\"},{\"default\":null,\"kind\":null,\"name\":\"ncols\"},{\"default\":null,\"kind\":null,\"name\":\"nrows\"},{\"default\":true,\"kind\":null,\"name\":\"allow_resize\"},{\"default\":true,\"kind\":null,\"name\":\"allow_drag\"},{\"default\":[],\"kind\":null,\"name\":\"state\"}]},{\"extends\":null,\"module\":null,\"name\":\"click1\",\"overrides\":[],\"properties\":[{\"default\":\"\",\"kind\":null,\"name\":\"terminal_output\"},{\"default\":\"\",\"kind\":null,\"name\":\"debug_name\"},{\"default\":0,\"kind\":null,\"name\":\"clears\"}]},{\"extends\":null,\"module\":null,\"name\":\"TemplateActions1\",\"overrides\":[],\"properties\":[{\"default\":0,\"kind\":null,\"name\":\"open_modal\"},{\"default\":0,\"kind\":null,\"name\":\"close_modal\"}]},{\"extends\":null,\"module\":null,\"name\":\"MaterialTemplateActions1\",\"overrides\":[],\"properties\":[{\"default\":0,\"kind\":null,\"name\":\"open_modal\"},{\"default\":0,\"kind\":null,\"name\":\"close_modal\"}]}],\"roots\":{\"references\":[{\"attributes\":{},\"id\":\"4922\",\"type\":\"SaveTool\"},{\"attributes\":{},\"id\":\"4923\",\"type\":\"PanTool\"},{\"attributes\":{},\"id\":\"4926\",\"type\":\"ResetTool\"},{\"attributes\":{\"fill_color\":{\"value\":\"#fc4f30\"},\"hatch_color\":{\"value\":\"#fc4f30\"},\"line_color\":{\"value\":\"#fc4f30\"},\"size\":{\"value\":5.477225575051661},\"x\":{\"field\":\"order_total\"},\"y\":{\"field\":\"recency\"}},\"id\":\"4965\",\"type\":\"Scatter\"},{\"attributes\":{\"coordinates\":null,\"data_source\":{\"id\":\"5008\"},\"glyph\":{\"id\":\"5011\"},\"group\":null,\"hover_glyph\":null,\"muted_glyph\":{\"id\":\"5013\"},\"nonselection_glyph\":{\"id\":\"5012\"},\"selection_glyph\":{\"id\":\"5033\"},\"view\":{\"id\":\"5015\"}},\"id\":\"5014\",\"type\":\"GlyphRenderer\"},{\"attributes\":{\"fill_color\":{\"value\":\"#e5ae38\"},\"hatch_color\":{\"value\":\"#e5ae38\"},\"line_color\":{\"value\":\"#e5ae38\"},\"size\":{\"value\":5.477225575051661},\"x\":{\"field\":\"order_total\"},\"y\":{\"field\":\"recency\"}},\"id\":\"4987\",\"type\":\"Scatter\"},{\"attributes\":{},\"id\":\"4924\",\"type\":\"WheelZoomTool\"},{\"attributes\":{},\"id\":\"5035\",\"type\":\"Selection\"},{\"attributes\":{\"margin\":[5,5,5,5],\"name\":\"HSpacer10192\",\"sizing_mode\":\"stretch_width\"},\"id\":\"5272\",\"type\":\"Spacer\"},{\"attributes\":{\"overlay\":{\"id\":\"4927\"}},\"id\":\"4925\",\"type\":\"BoxZoomTool\"},{\"attributes\":{\"coordinates\":null,\"data_source\":{\"id\":\"4984\"},\"glyph\":{\"id\":\"4987\"},\"group\":null,\"hover_glyph\":null,\"muted_glyph\":{\"id\":\"4989\"},\"nonselection_glyph\":{\"id\":\"4988\"},\"selection_glyph\":{\"id\":\"5007\"},\"view\":{\"id\":\"4991\"}},\"id\":\"4990\",\"type\":\"GlyphRenderer\"},{\"attributes\":{\"label\":{\"value\":\"3\"},\"renderers\":[{\"id\":\"5014\"}]},\"id\":\"5032\",\"type\":\"LegendItem\"},{\"attributes\":{\"axis\":{\"id\":\"4914\"},\"coordinates\":null,\"grid_line_color\":null,\"group\":null,\"ticker\":null},\"id\":\"4917\",\"type\":\"Grid\"},{\"attributes\":{},\"id\":\"4936\",\"type\":\"BasicTickFormatter\"},{\"attributes\":{\"source\":{\"id\":\"4941\"}},\"id\":\"4948\",\"type\":\"CDSView\"},{\"attributes\":{\"children\":[{\"id\":\"4896\"},{\"id\":\"4905\"},{\"id\":\"5272\"}],\"margin\":[0,0,0,0],\"name\":\"Row10187\",\"tags\":[\"embedded\"]},\"id\":\"4895\",\"type\":\"Row\"},{\"attributes\":{},\"id\":\"5063\",\"type\":\"Selection\"},{\"attributes\":{\"tools\":[{\"id\":\"4899\"},{\"id\":\"4922\"},{\"id\":\"4923\"},{\"id\":\"4924\"},{\"id\":\"4925\"},{\"id\":\"4926\"}]},\"id\":\"4928\",\"type\":\"Toolbar\"},{\"attributes\":{\"source\":{\"id\":\"4962\"}},\"id\":\"4969\",\"type\":\"CDSView\"},{\"attributes\":{\"below\":[{\"id\":\"4914\"}],\"center\":[{\"id\":\"4917\"},{\"id\":\"4921\"}],\"height\":300,\"left\":[{\"id\":\"4918\"}],\"margin\":[5,5,5,5],\"min_border_bottom\":10,\"min_border_left\":10,\"min_border_right\":10,\"min_border_top\":10,\"renderers\":[{\"id\":\"4947\"},{\"id\":\"4968\"},{\"id\":\"4990\"},{\"id\":\"5014\"},{\"id\":\"5040\"},{\"id\":\"5068\"}],\"right\":[{\"id\":\"4959\"}],\"sizing_mode\":\"fixed\",\"title\":{\"id\":\"4906\"},\"toolbar\":{\"id\":\"4928\"},\"width\":700,\"x_range\":{\"id\":\"4897\"},\"x_scale\":{\"id\":\"4910\"},\"y_range\":{\"id\":\"4898\"},\"y_scale\":{\"id\":\"4912\"}},\"id\":\"4905\",\"subtype\":\"Figure\",\"type\":\"Plot\"},{\"attributes\":{\"bottom_units\":\"screen\",\"coordinates\":null,\"fill_alpha\":0.5,\"fill_color\":\"lightgrey\",\"group\":null,\"left_units\":\"screen\",\"level\":\"overlay\",\"line_alpha\":1.0,\"line_color\":\"black\",\"line_dash\":[4,4],\"line_width\":2,\"right_units\":\"screen\",\"syncable\":false,\"top_units\":\"screen\"},\"id\":\"4927\",\"type\":\"BoxAnnotation\"},{\"attributes\":{\"data\":{\"class\":[2,2],\"order_total\":{\"__ndarray__\":\"MzMzM0YnQUEzMzPzbh1AQQ==\",\"dtype\":\"float64\",\"order\":\"little\",\"shape\":[2]},\"recency\":[1,0]},\"selected\":{\"id\":\"4985\"},\"selection_policy\":{\"id\":\"5003\"}},\"id\":\"4984\",\"type\":\"ColumnDataSource\"},{\"attributes\":{},\"id\":\"4942\",\"type\":\"Selection\"},{\"attributes\":{\"label\":{\"value\":\"1\"},\"renderers\":[{\"id\":\"4968\"}]},\"id\":\"4982\",\"type\":\"LegendItem\"},{\"attributes\":{},\"id\":\"5009\",\"type\":\"Selection\"},{\"attributes\":{\"angle\":{\"value\":0.0},\"fill_alpha\":{\"value\":1.0},\"fill_color\":{\"value\":\"#17becf\"},\"hatch_alpha\":{\"value\":1.0},\"hatch_color\":{\"value\":\"#17becf\"},\"hatch_scale\":{\"value\":12.0},\"hatch_weight\":{\"value\":1.0},\"line_alpha\":{\"value\":1.0},\"line_cap\":{\"value\":\"butt\"},\"line_color\":{\"value\":\"#17becf\"},\"line_dash\":{\"value\":[]},\"line_dash_offset\":{\"value\":0},\"line_join\":{\"value\":\"bevel\"},\"line_width\":{\"value\":1},\"marker\":{\"value\":\"circle\"},\"size\":{\"value\":5.477225575051661},\"x\":{\"field\":\"order_total\"},\"y\":{\"field\":\"recency\"}},\"id\":\"5091\",\"type\":\"Scatter\"},{\"attributes\":{\"coordinates\":null,\"data_source\":{\"id\":\"4941\"},\"glyph\":{\"id\":\"4944\"},\"group\":null,\"hover_glyph\":null,\"muted_glyph\":{\"id\":\"4946\"},\"nonselection_glyph\":{\"id\":\"4945\"},\"selection_glyph\":{\"id\":\"4961\"},\"view\":{\"id\":\"4948\"}},\"id\":\"4947\",\"type\":\"GlyphRenderer\"},{\"attributes\":{\"label\":{\"value\":\"5\"},\"renderers\":[{\"id\":\"5068\"}]},\"id\":\"5090\",\"type\":\"LegendItem\"},{\"attributes\":{\"angle\":{\"value\":0.0},\"fill_alpha\":{\"value\":1.0},\"fill_color\":{\"value\":\"#30a2da\"},\"hatch_alpha\":{\"value\":1.0},\"hatch_color\":{\"value\":\"#30a2da\"},\"hatch_scale\":{\"value\":12.0},\"hatch_weight\":{\"value\":1.0},\"line_alpha\":{\"value\":1.0},\"line_cap\":{\"value\":\"butt\"},\"line_color\":{\"value\":\"#30a2da\"},\"line_dash\":{\"value\":[]},\"line_dash_offset\":{\"value\":0},\"line_join\":{\"value\":\"bevel\"},\"line_width\":{\"value\":1},\"marker\":{\"value\":\"circle\"},\"size\":{\"value\":5.477225575051661},\"x\":{\"field\":\"order_total\"},\"y\":{\"field\":\"recency\"}},\"id\":\"4961\",\"type\":\"Scatter\"},{\"attributes\":{\"source\":{\"id\":\"5062\"}},\"id\":\"5069\",\"type\":\"CDSView\"},{\"attributes\":{\"fill_alpha\":{\"value\":0.2},\"fill_color\":{\"value\":\"#e5ae38\"},\"hatch_alpha\":{\"value\":0.2},\"hatch_color\":{\"value\":\"#e5ae38\"},\"line_alpha\":{\"value\":0.2},\"line_color\":{\"value\":\"#e5ae38\"},\"size\":{\"value\":5.477225575051661},\"x\":{\"field\":\"order_total\"},\"y\":{\"field\":\"recency\"}},\"id\":\"4989\",\"type\":\"Scatter\"},{\"attributes\":{\"fill_color\":{\"value\":\"#17becf\"},\"hatch_color\":{\"value\":\"#17becf\"},\"line_color\":{\"value\":\"#17becf\"},\"size\":{\"value\":5.477225575051661},\"x\":{\"field\":\"order_total\"},\"y\":{\"field\":\"recency\"}},\"id\":\"5065\",\"type\":\"Scatter\"},{\"attributes\":{\"coordinates\":null,\"data_source\":{\"id\":\"4962\"},\"glyph\":{\"id\":\"4965\"},\"group\":null,\"hover_glyph\":null,\"muted_glyph\":{\"id\":\"4967\"},\"nonselection_glyph\":{\"id\":\"4966\"},\"selection_glyph\":{\"id\":\"4983\"},\"view\":{\"id\":\"4969\"}},\"id\":\"4968\",\"type\":\"GlyphRenderer\"},{\"attributes\":{},\"id\":\"5087\",\"type\":\"UnionRenderers\"},{\"attributes\":{\"data\":{\"class\":[3,3,3,3,3,3,3,3,3],\"order_total\":{\"__ndarray__\":\"zczMzBCOOEEzMzOzrwc5QTMzMzOouzhBmpmZmfHAOEGamZkZIfo4QZqZmZk2PDlBmpmZmU3fOEEAAAAA3Xs5QZqZmZnh4TlB\",\"dtype\":\"float64\",\"order\":\"little\",\"shape\":[9]},\"recency\":[28,2,2,9,7,0,3,8,14]},\"selected\":{\"id\":\"5009\"},\"selection_policy\":{\"id\":\"5029\"}},\"id\":\"5008\",\"type\":\"ColumnDataSource\"},{\"attributes\":{\"coordinates\":null,\"group\":null,\"text_color\":\"black\",\"text_font_size\":\"12pt\"},\"id\":\"4906\",\"type\":\"Title\"},{\"attributes\":{\"coordinates\":null,\"data_source\":{\"id\":\"5034\"},\"glyph\":{\"id\":\"5037\"},\"group\":null,\"hover_glyph\":null,\"muted_glyph\":{\"id\":\"5039\"},\"nonselection_glyph\":{\"id\":\"5038\"},\"selection_glyph\":{\"id\":\"5061\"},\"view\":{\"id\":\"5041\"}},\"id\":\"5040\",\"type\":\"GlyphRenderer\"},{\"attributes\":{},\"id\":\"5029\",\"type\":\"UnionRenderers\"},{\"attributes\":{\"margin\":[5,5,5,5],\"name\":\"HSpacer10191\",\"sizing_mode\":\"stretch_width\"},\"id\":\"4896\",\"type\":\"Spacer\"},{\"attributes\":{\"angle\":{\"value\":0.0},\"fill_alpha\":{\"value\":1.0},\"fill_color\":{\"value\":\"#6d904f\"},\"hatch_alpha\":{\"value\":1.0},\"hatch_color\":{\"value\":\"#6d904f\"},\"hatch_scale\":{\"value\":12.0},\"hatch_weight\":{\"value\":1.0},\"line_alpha\":{\"value\":1.0},\"line_cap\":{\"value\":\"butt\"},\"line_color\":{\"value\":\"#6d904f\"},\"line_dash\":{\"value\":[]},\"line_dash_offset\":{\"value\":0},\"line_join\":{\"value\":\"bevel\"},\"line_width\":{\"value\":1},\"marker\":{\"value\":\"circle\"},\"size\":{\"value\":5.477225575051661},\"x\":{\"field\":\"order_total\"},\"y\":{\"field\":\"recency\"}},\"id\":\"5033\",\"type\":\"Scatter\"},{\"attributes\":{\"angle\":{\"value\":0.0},\"fill_alpha\":{\"value\":1.0},\"fill_color\":{\"value\":\"#8b8b8b\"},\"hatch_alpha\":{\"value\":1.0},\"hatch_color\":{\"value\":\"#8b8b8b\"},\"hatch_scale\":{\"value\":12.0},\"hatch_weight\":{\"value\":1.0},\"line_alpha\":{\"value\":1.0},\"line_cap\":{\"value\":\"butt\"},\"line_color\":{\"value\":\"#8b8b8b\"},\"line_dash\":{\"value\":[]},\"line_dash_offset\":{\"value\":0},\"line_join\":{\"value\":\"bevel\"},\"line_width\":{\"value\":1},\"marker\":{\"value\":\"circle\"},\"size\":{\"value\":5.477225575051661},\"x\":{\"field\":\"order_total\"},\"y\":{\"field\":\"recency\"}},\"id\":\"5061\",\"type\":\"Scatter\"},{\"attributes\":{\"label\":{\"value\":\"0\"},\"renderers\":[{\"id\":\"4947\"}]},\"id\":\"4960\",\"type\":\"LegendItem\"},{\"attributes\":{\"fill_color\":{\"value\":\"#30a2da\"},\"hatch_color\":{\"value\":\"#30a2da\"},\"line_color\":{\"value\":\"#30a2da\"},\"size\":{\"value\":5.477225575051661},\"x\":{\"field\":\"order_total\"},\"y\":{\"field\":\"recency\"}},\"id\":\"4944\",\"type\":\"Scatter\"},{\"attributes\":{},\"id\":\"4915\",\"type\":\"BasicTicker\"},{\"attributes\":{\"fill_alpha\":{\"value\":0.1},\"fill_color\":{\"value\":\"#8b8b8b\"},\"hatch_alpha\":{\"value\":0.1},\"hatch_color\":{\"value\":\"#8b8b8b\"},\"line_alpha\":{\"value\":0.1},\"line_color\":{\"value\":\"#8b8b8b\"},\"size\":{\"value\":5.477225575051661},\"x\":{\"field\":\"order_total\"},\"y\":{\"field\":\"recency\"}},\"id\":\"5038\",\"type\":\"Scatter\"},{\"attributes\":{\"angle\":{\"value\":0.0},\"fill_alpha\":{\"value\":1.0},\"fill_color\":{\"value\":\"#e5ae38\"},\"hatch_alpha\":{\"value\":1.0},\"hatch_color\":{\"value\":\"#e5ae38\"},\"hatch_scale\":{\"value\":12.0},\"hatch_weight\":{\"value\":1.0},\"line_alpha\":{\"value\":1.0},\"line_cap\":{\"value\":\"butt\"},\"line_color\":{\"value\":\"#e5ae38\"},\"line_dash\":{\"value\":[]},\"line_dash_offset\":{\"value\":0},\"line_join\":{\"value\":\"bevel\"},\"line_width\":{\"value\":1},\"marker\":{\"value\":\"circle\"},\"size\":{\"value\":5.477225575051661},\"x\":{\"field\":\"order_total\"},\"y\":{\"field\":\"recency\"}},\"id\":\"5007\",\"type\":\"Scatter\"},{\"attributes\":{\"data\":{\"class\":[5,5,5,5,5],\"order_total\":{\"__ndarray__\":\"MzMzM1YEO0EAAACAZuo6Qc3MzMyOTDpBAAAAAPNdO0FmZmZm3+U6QQ==\",\"dtype\":\"float64\",\"order\":\"little\",\"shape\":[5]},\"recency\":[3,13,1,10,3]},\"selected\":{\"id\":\"5063\"},\"selection_policy\":{\"id\":\"5087\"}},\"id\":\"5062\",\"type\":\"ColumnDataSource\"},{\"attributes\":{\"fill_color\":{\"value\":\"#6d904f\"},\"hatch_color\":{\"value\":\"#6d904f\"},\"line_color\":{\"value\":\"#6d904f\"},\"size\":{\"value\":5.477225575051661},\"x\":{\"field\":\"order_total\"},\"y\":{\"field\":\"recency\"}},\"id\":\"5011\",\"type\":\"Scatter\"},{\"attributes\":{\"fill_color\":{\"value\":\"#8b8b8b\"},\"hatch_color\":{\"value\":\"#8b8b8b\"},\"line_color\":{\"value\":\"#8b8b8b\"},\"size\":{\"value\":5.477225575051661},\"x\":{\"field\":\"order_total\"},\"y\":{\"field\":\"recency\"}},\"id\":\"5037\",\"type\":\"Scatter\"},{\"attributes\":{},\"id\":\"4985\",\"type\":\"Selection\"},{\"attributes\":{\"label\":{\"value\":\"2\"},\"renderers\":[{\"id\":\"4990\"}]},\"id\":\"5006\",\"type\":\"LegendItem\"},{\"attributes\":{\"source\":{\"id\":\"5034\"}},\"id\":\"5041\",\"type\":\"CDSView\"},{\"attributes\":{\"label\":{\"value\":\"4\"},\"renderers\":[{\"id\":\"5040\"}]},\"id\":\"5060\",\"type\":\"LegendItem\"},{\"attributes\":{\"end\":30.8,\"reset_end\":30.8,\"reset_start\":-2.8000000000000003,\"start\":-2.8000000000000003,\"tags\":[[[\"recency\",\"recency\",null]]]},\"id\":\"4898\",\"type\":\"Range1d\"},{\"attributes\":{},\"id\":\"4910\",\"type\":\"LinearScale\"},{\"attributes\":{\"fill_alpha\":{\"value\":0.2},\"fill_color\":{\"value\":\"#fc4f30\"},\"hatch_alpha\":{\"value\":0.2},\"hatch_color\":{\"value\":\"#fc4f30\"},\"line_alpha\":{\"value\":0.2},\"line_color\":{\"value\":\"#fc4f30\"},\"size\":{\"value\":5.477225575051661},\"x\":{\"field\":\"order_total\"},\"y\":{\"field\":\"recency\"}},\"id\":\"4967\",\"type\":\"Scatter\"},{\"attributes\":{\"fill_alpha\":{\"value\":0.2},\"fill_color\":{\"value\":\"#8b8b8b\"},\"hatch_alpha\":{\"value\":0.2},\"hatch_color\":{\"value\":\"#8b8b8b\"},\"line_alpha\":{\"value\":0.2},\"line_color\":{\"value\":\"#8b8b8b\"},\"size\":{\"value\":5.477225575051661},\"x\":{\"field\":\"order_total\"},\"y\":{\"field\":\"recency\"}},\"id\":\"5039\",\"type\":\"Scatter\"},{\"attributes\":{},\"id\":\"5003\",\"type\":\"UnionRenderers\"},{\"attributes\":{},\"id\":\"4919\",\"type\":\"BasicTicker\"},{\"attributes\":{\"end\":2288020.424285714,\"reset_end\":2288020.424285714,\"reset_start\":1282590.4757142856,\"start\":1282590.4757142856,\"tags\":[[[\"order_total\",\"order_total\",null]]]},\"id\":\"4897\",\"type\":\"Range1d\"},{\"attributes\":{\"source\":{\"id\":\"5008\"}},\"id\":\"5015\",\"type\":\"CDSView\"},{\"attributes\":{},\"id\":\"4979\",\"type\":\"UnionRenderers\"},{\"attributes\":{},\"id\":\"4912\",\"type\":\"LinearScale\"},{\"attributes\":{\"fill_alpha\":{\"value\":0.1},\"fill_color\":{\"value\":\"#6d904f\"},\"hatch_alpha\":{\"value\":0.1},\"hatch_color\":{\"value\":\"#6d904f\"},\"line_alpha\":{\"value\":0.1},\"line_color\":{\"value\":\"#6d904f\"},\"size\":{\"value\":5.477225575051661},\"x\":{\"field\":\"order_total\"},\"y\":{\"field\":\"recency\"}},\"id\":\"5012\",\"type\":\"Scatter\"},{\"attributes\":{\"data\":{\"class\":[1,1,1,1,1,1,1,1,1,1,1],\"order_total\":{\"__ndarray__\":\"AAAAgAv0O0EAAAAAluw7QTMzMzMSvTxBzczMzCGCPEGamZmZHvA9QQAAAAAXKjxBAAAAABy2PEGamZmZY1M8Qc3MzMwU6zxBmpmZmaORPUEAAAAAxdQ7QQ==\",\"dtype\":\"float64\",\"order\":\"little\",\"shape\":[11]},\"recency\":[8,6,4,2,4,4,1,0,2,13,2]},\"selected\":{\"id\":\"4963\"},\"selection_policy\":{\"id\":\"4979\"}},\"id\":\"4962\",\"type\":\"ColumnDataSource\"},{\"attributes\":{\"axis_label\":\"recency\",\"coordinates\":null,\"formatter\":{\"id\":\"4939\"},\"group\":null,\"major_label_policy\":{\"id\":\"4940\"},\"ticker\":{\"id\":\"4919\"}},\"id\":\"4918\",\"type\":\"LinearAxis\"},{\"attributes\":{\"fill_alpha\":{\"value\":0.1},\"fill_color\":{\"value\":\"#17becf\"},\"hatch_alpha\":{\"value\":0.1},\"hatch_color\":{\"value\":\"#17becf\"},\"line_alpha\":{\"value\":0.1},\"line_color\":{\"value\":\"#17becf\"},\"size\":{\"value\":5.477225575051661},\"x\":{\"field\":\"order_total\"},\"y\":{\"field\":\"recency\"}},\"id\":\"5066\",\"type\":\"Scatter\"},{\"attributes\":{\"axis_label\":\"order_total\",\"coordinates\":null,\"formatter\":{\"id\":\"4936\"},\"group\":null,\"major_label_policy\":{\"id\":\"4937\"},\"ticker\":{\"id\":\"4915\"}},\"id\":\"4914\",\"type\":\"LinearAxis\"},{\"attributes\":{\"fill_alpha\":{\"value\":0.1},\"fill_color\":{\"value\":\"#fc4f30\"},\"hatch_alpha\":{\"value\":0.1},\"hatch_color\":{\"value\":\"#fc4f30\"},\"line_alpha\":{\"value\":0.1},\"line_color\":{\"value\":\"#fc4f30\"},\"size\":{\"value\":5.477225575051661},\"x\":{\"field\":\"order_total\"},\"y\":{\"field\":\"recency\"}},\"id\":\"4966\",\"type\":\"Scatter\"},{\"attributes\":{\"fill_alpha\":{\"value\":0.2},\"fill_color\":{\"value\":\"#6d904f\"},\"hatch_alpha\":{\"value\":0.2},\"hatch_color\":{\"value\":\"#6d904f\"},\"line_alpha\":{\"value\":0.2},\"line_color\":{\"value\":\"#6d904f\"},\"size\":{\"value\":5.477225575051661},\"x\":{\"field\":\"order_total\"},\"y\":{\"field\":\"recency\"}},\"id\":\"5013\",\"type\":\"Scatter\"},{\"attributes\":{\"source\":{\"id\":\"4984\"}},\"id\":\"4991\",\"type\":\"CDSView\"},{\"attributes\":{},\"id\":\"5057\",\"type\":\"UnionRenderers\"},{\"attributes\":{\"coordinates\":null,\"data_source\":{\"id\":\"5062\"},\"glyph\":{\"id\":\"5065\"},\"group\":null,\"hover_glyph\":null,\"muted_glyph\":{\"id\":\"5067\"},\"nonselection_glyph\":{\"id\":\"5066\"},\"selection_glyph\":{\"id\":\"5091\"},\"view\":{\"id\":\"5069\"}},\"id\":\"5068\",\"type\":\"GlyphRenderer\"},{\"attributes\":{\"data\":{\"class\":[4,4,4,4,4,4,4,4,4],\"order_total\":{\"__ndarray__\":\"AAAAgCYtNEEAAACA2Io0QQAAAIDCiTVBAAAAAMEoNkFmZmbmyNE1QZqZmZn4VDVBZmZmZm1+NUFmZmbmTCA2QZqZmRlkkzVB\",\"dtype\":\"float64\",\"order\":\"little\",\"shape\":[9]},\"recency\":[7,7,3,3,21,1,6,2,6]},\"selected\":{\"id\":\"5035\"},\"selection_policy\":{\"id\":\"5057\"}},\"id\":\"5034\",\"type\":\"ColumnDataSource\"},{\"attributes\":{\"axis\":{\"id\":\"4918\"},\"coordinates\":null,\"dimension\":1,\"grid_line_color\":null,\"group\":null,\"ticker\":null},\"id\":\"4921\",\"type\":\"Grid\"},{\"attributes\":{\"fill_alpha\":{\"value\":0.2},\"fill_color\":{\"value\":\"#30a2da\"},\"hatch_alpha\":{\"value\":0.2},\"hatch_color\":{\"value\":\"#30a2da\"},\"line_alpha\":{\"value\":0.2},\"line_color\":{\"value\":\"#30a2da\"},\"size\":{\"value\":5.477225575051661},\"x\":{\"field\":\"order_total\"},\"y\":{\"field\":\"recency\"}},\"id\":\"4946\",\"type\":\"Scatter\"},{\"attributes\":{},\"id\":\"4937\",\"type\":\"AllLabels\"},{\"attributes\":{},\"id\":\"4956\",\"type\":\"UnionRenderers\"},{\"attributes\":{},\"id\":\"4940\",\"type\":\"AllLabels\"},{\"attributes\":{\"click_policy\":\"mute\",\"coordinates\":null,\"group\":null,\"items\":[{\"id\":\"4960\"},{\"id\":\"4982\"},{\"id\":\"5006\"},{\"id\":\"5032\"},{\"id\":\"5060\"},{\"id\":\"5090\"}],\"location\":[0,0],\"title\":\"class\"},\"id\":\"4959\",\"type\":\"Legend\"},{\"attributes\":{\"callback\":null,\"renderers\":[{\"id\":\"4947\"},{\"id\":\"4968\"},{\"id\":\"4990\"},{\"id\":\"5014\"},{\"id\":\"5040\"},{\"id\":\"5068\"}],\"tags\":[\"hv_created\"],\"tooltips\":[[\"class\",\"@{class}\"],[\"order_total\",\"@{order_total}\"],[\"recency\",\"@{recency}\"]]},\"id\":\"4899\",\"type\":\"HoverTool\"},{\"attributes\":{},\"id\":\"4963\",\"type\":\"Selection\"},{\"attributes\":{\"fill_alpha\":{\"value\":0.1},\"fill_color\":{\"value\":\"#30a2da\"},\"hatch_alpha\":{\"value\":0.1},\"hatch_color\":{\"value\":\"#30a2da\"},\"line_alpha\":{\"value\":0.1},\"line_color\":{\"value\":\"#30a2da\"},\"size\":{\"value\":5.477225575051661},\"x\":{\"field\":\"order_total\"},\"y\":{\"field\":\"recency\"}},\"id\":\"4945\",\"type\":\"Scatter\"},{\"attributes\":{},\"id\":\"4939\",\"type\":\"BasicTickFormatter\"},{\"attributes\":{\"angle\":{\"value\":0.0},\"fill_alpha\":{\"value\":1.0},\"fill_color\":{\"value\":\"#fc4f30\"},\"hatch_alpha\":{\"value\":1.0},\"hatch_color\":{\"value\":\"#fc4f30\"},\"hatch_scale\":{\"value\":12.0},\"hatch_weight\":{\"value\":1.0},\"line_alpha\":{\"value\":1.0},\"line_cap\":{\"value\":\"butt\"},\"line_color\":{\"value\":\"#fc4f30\"},\"line_dash\":{\"value\":[]},\"line_dash_offset\":{\"value\":0},\"line_join\":{\"value\":\"bevel\"},\"line_width\":{\"value\":1},\"marker\":{\"value\":\"circle\"},\"size\":{\"value\":5.477225575051661},\"x\":{\"field\":\"order_total\"},\"y\":{\"field\":\"recency\"}},\"id\":\"4983\",\"type\":\"Scatter\"},{\"attributes\":{\"fill_alpha\":{\"value\":0.2},\"fill_color\":{\"value\":\"#17becf\"},\"hatch_alpha\":{\"value\":0.2},\"hatch_color\":{\"value\":\"#17becf\"},\"line_alpha\":{\"value\":0.2},\"line_color\":{\"value\":\"#17becf\"},\"size\":{\"value\":5.477225575051661},\"x\":{\"field\":\"order_total\"},\"y\":{\"field\":\"recency\"}},\"id\":\"5067\",\"type\":\"Scatter\"},{\"attributes\":{\"data\":{\"class\":[0,0,0,0,0,0,0,0,0,0,0,0,0,0],\"order_total\":{\"__ndarray__\":\"MzMzs4NbN0FmZmbmfY83QQAAAAAWFTdBMzMzs/2dN0EzMzMzsEA3QQAAAAARzDZBZ2ZmZrfUN0EAAAAAfro3QZqZmRl3ZDdBzczMzHPeN0FmZmbmh1g3QWZmZubyAjdBAAAAgGkaOEGamZmZ6vA2QQ==\",\"dtype\":\"float64\",\"order\":\"little\",\"shape\":[14]},\"recency\":[2,1,2,1,7,2,9,8,0,3,1,2,6,5]},\"selected\":{\"id\":\"4942\"},\"selection_policy\":{\"id\":\"4956\"}},\"id\":\"4941\",\"type\":\"ColumnDataSource\"},{\"attributes\":{\"fill_alpha\":{\"value\":0.1},\"fill_color\":{\"value\":\"#e5ae38\"},\"hatch_alpha\":{\"value\":0.1},\"hatch_color\":{\"value\":\"#e5ae38\"},\"line_alpha\":{\"value\":0.1},\"line_color\":{\"value\":\"#e5ae38\"},\"size\":{\"value\":5.477225575051661},\"x\":{\"field\":\"order_total\"},\"y\":{\"field\":\"recency\"}},\"id\":\"4988\",\"type\":\"Scatter\"}],\"root_ids\":[\"4895\"]},\"title\":\"Bokeh Application\",\"version\":\"2.4.1\"}};\n",
       "    var render_items = [{\"docid\":\"fcdc2d25-b29f-40ac-b8e9-bb3405c5a97c\",\"root_ids\":[\"4895\"],\"roots\":{\"4895\":\"743ea91b-cde8-4cc0-befd-f402c5813535\"}}];\n",
       "    root.Bokeh.embed.embed_items_notebook(docs_json, render_items);\n",
       "  }\n",
       "  if (root.Bokeh !== undefined && root.Bokeh.Panel !== undefined) {\n",
       "    embed_document(root);\n",
       "  } else {\n",
       "    var attempts = 0;\n",
       "    var timer = setInterval(function(root) {\n",
       "      if (root.Bokeh !== undefined && root.Bokeh.Panel !== undefined) {\n",
       "        clearInterval(timer);\n",
       "        embed_document(root);\n",
       "      } else if (document.readyState == \"complete\") {\n",
       "        attempts++;\n",
       "        if (attempts > 200) {\n",
       "          clearInterval(timer);\n",
       "          console.log(\"Bokeh: ERROR: Unable to run BokehJS code because BokehJS library is missing\");\n",
       "        }\n",
       "      }\n",
       "    }, 25, root)\n",
       "  }\n",
       "})(window);</script>"
      ],
      "text/plain": [
       ":NdOverlay   [class]\n",
       "   :Scatter   [order_total]   (recency)"
      ]
     },
     "execution_count": 67,
     "metadata": {
      "application/vnd.holoviews_exec.v0+json": {
       "id": "4895"
      }
     },
     "output_type": "execute_result"
    }
   ],
   "source": [
    "six_clusters.hvplot.scatter(x=\"order_total\",y=\"recency\",by=\"class\")"
   ]
  },
  {
   "cell_type": "code",
   "execution_count": 68,
   "id": "cb636c6a",
   "metadata": {},
   "outputs": [
    {
     "data": {
      "application/vnd.plotly.v1+json": {
       "config": {
        "plotlyServerURL": "https://plot.ly"
       },
       "data": [
        {
         "hovertemplate": "class=%{marker.color}<br>order_total=%{x}<br>frequency=%{y}<br>recency=%{z}<extra></extra>",
         "legendgroup": "4",
         "marker": {
          "color": [
           4,
           4,
           4,
           4,
           4,
           4,
           4,
           4,
           4
          ],
          "coloraxis": "coloraxis",
          "symbol": "circle"
         },
         "mode": "markers",
         "name": "4",
         "scene": "scene",
         "showlegend": true,
         "type": "scatter3d",
         "x": [
          1322278.5,
          1346264.5,
          1411522.5,
          1452225,
          1429960.9,
          1398008.6,
          1408621.4,
          1450060.9,
          1413988.1
         ],
         "y": [
          152,
          135,
          142,
          157,
          151,
          144,
          145,
          152,
          150
         ],
         "z": [
          7,
          7,
          3,
          3,
          21,
          1,
          6,
          2,
          6
         ]
        },
        {
         "hovertemplate": "class=%{marker.color}<br>order_total=%{x}<br>frequency=%{y}<br>recency=%{z}<extra></extra>",
         "legendgroup": "1",
         "marker": {
          "color": [
           1,
           1,
           1,
           1,
           1,
           1,
           1,
           1,
           1,
           1,
           1
          ],
          "coloraxis": "coloraxis",
          "symbol": "diamond"
         },
         "mode": "markers",
         "name": "1",
         "scene": "scene",
         "showlegend": true,
         "type": "scatter3d",
         "x": [
          1831947.5,
          1830038,
          1883410.2,
          1868321.8,
          1962014.6,
          1845783,
          1881628,
          1856355.6,
          1895188.8,
          1937827.6,
          1823941
         ],
         "y": [
          181,
          171,
          178,
          171,
          175,
          186,
          164,
          173,
          156,
          176,
          176
         ],
         "z": [
          8,
          6,
          4,
          2,
          4,
          4,
          1,
          0,
          2,
          13,
          2
         ]
        },
        {
         "hovertemplate": "class=%{marker.color}<br>order_total=%{x}<br>frequency=%{y}<br>recency=%{z}<extra></extra>",
         "legendgroup": "5",
         "marker": {
          "color": [
           5,
           5,
           5,
           5,
           5
          ],
          "coloraxis": "coloraxis",
          "symbol": "square"
         },
         "mode": "markers",
         "name": "5",
         "scene": "scene",
         "showlegend": true,
         "type": "scatter3d",
         "x": [
          1770582.2,
          1763942.5,
          1723534.8,
          1793523,
          1762783.4
         ],
         "y": [
          167,
          158,
          165,
          164,
          162
         ],
         "z": [
          3,
          13,
          1,
          10,
          3
         ]
        },
        {
         "hovertemplate": "class=%{marker.color}<br>order_total=%{x}<br>frequency=%{y}<br>recency=%{z}<extra></extra>",
         "legendgroup": "3",
         "marker": {
          "color": [
           3,
           3,
           3,
           3,
           3,
           3,
           3,
           3,
           3
          ],
          "coloraxis": "coloraxis",
          "symbol": "x"
         },
         "mode": "markers",
         "name": "3",
         "scene": "scene",
         "showlegend": true,
         "type": "scatter3d",
         "x": [
          1609232.8,
          1640367.7,
          1620904.2,
          1622257.6,
          1636897.1,
          1653814.6,
          1630029.6,
          1670109,
          1696225.6
         ],
         "y": [
          159,
          159,
          156,
          152,
          150,
          161,
          156,
          172,
          163
         ],
         "z": [
          28,
          2,
          2,
          9,
          7,
          0,
          3,
          8,
          14
         ]
        },
        {
         "hovertemplate": "class=%{marker.color}<br>order_total=%{x}<br>frequency=%{y}<br>recency=%{z}<extra></extra>",
         "legendgroup": "0",
         "marker": {
          "color": [
           0,
           0,
           0,
           0,
           0,
           0,
           0,
           0,
           0,
           0,
           0,
           0,
           0,
           0
          ],
          "coloraxis": "coloraxis",
          "symbol": "cross"
         },
         "mode": "markers",
         "name": "0",
         "scene": "scene",
         "showlegend": true,
         "type": "scatter3d",
         "x": [
          1530755.7,
          1544061.9,
          1512726,
          1547773.7,
          1523888.2,
          1494033,
          1561783.4000000001,
          1555070,
          1533047.1,
          1564275.8,
          1529991.9,
          1508082.9,
          1579625.5,
          1503466.6
         ],
         "y": [
          143,
          153,
          142,
          135,
          167,
          140,
          153,
          145,
          161,
          151,
          156,
          157,
          168,
          152
         ],
         "z": [
          2,
          1,
          2,
          1,
          7,
          2,
          9,
          8,
          0,
          3,
          1,
          2,
          6,
          5
         ]
        },
        {
         "hovertemplate": "class=%{marker.color}<br>order_total=%{x}<br>frequency=%{y}<br>recency=%{z}<extra></extra>",
         "legendgroup": "2",
         "marker": {
          "color": [
           2,
           2
          ],
          "coloraxis": "coloraxis",
          "symbol": "circle"
         },
         "mode": "markers",
         "name": "2",
         "scene": "scene",
         "showlegend": true,
         "type": "scatter3d",
         "x": [
          2248332.4,
          2112221.9
         ],
         "y": [
          210,
          179
         ],
         "z": [
          1,
          0
         ]
        }
       ],
       "layout": {
        "coloraxis": {
         "colorbar": {
          "title": {
           "text": "class"
          }
         },
         "colorscale": [
          [
           0,
           "#0d0887"
          ],
          [
           0.1111111111111111,
           "#46039f"
          ],
          [
           0.2222222222222222,
           "#7201a8"
          ],
          [
           0.3333333333333333,
           "#9c179e"
          ],
          [
           0.4444444444444444,
           "#bd3786"
          ],
          [
           0.5555555555555556,
           "#d8576b"
          ],
          [
           0.6666666666666666,
           "#ed7953"
          ],
          [
           0.7777777777777778,
           "#fb9f3a"
          ],
          [
           0.8888888888888888,
           "#fdca26"
          ],
          [
           1,
           "#f0f921"
          ]
         ]
        },
        "legend": {
         "title": {
          "text": "class"
         },
         "tracegroupgap": 0,
         "x": 0,
         "y": 1
        },
        "margin": {
         "t": 60
        },
        "scene": {
         "domain": {
          "x": [
           0,
           1
          ],
          "y": [
           0,
           1
          ]
         },
         "xaxis": {
          "title": {
           "text": "order_total"
          }
         },
         "yaxis": {
          "title": {
           "text": "frequency"
          }
         },
         "zaxis": {
          "title": {
           "text": "recency"
          }
         }
        },
        "template": {
         "data": {
          "bar": [
           {
            "error_x": {
             "color": "#2a3f5f"
            },
            "error_y": {
             "color": "#2a3f5f"
            },
            "marker": {
             "line": {
              "color": "#E5ECF6",
              "width": 0.5
             },
             "pattern": {
              "fillmode": "overlay",
              "size": 10,
              "solidity": 0.2
             }
            },
            "type": "bar"
           }
          ],
          "barpolar": [
           {
            "marker": {
             "line": {
              "color": "#E5ECF6",
              "width": 0.5
             },
             "pattern": {
              "fillmode": "overlay",
              "size": 10,
              "solidity": 0.2
             }
            },
            "type": "barpolar"
           }
          ],
          "carpet": [
           {
            "aaxis": {
             "endlinecolor": "#2a3f5f",
             "gridcolor": "white",
             "linecolor": "white",
             "minorgridcolor": "white",
             "startlinecolor": "#2a3f5f"
            },
            "baxis": {
             "endlinecolor": "#2a3f5f",
             "gridcolor": "white",
             "linecolor": "white",
             "minorgridcolor": "white",
             "startlinecolor": "#2a3f5f"
            },
            "type": "carpet"
           }
          ],
          "choropleth": [
           {
            "colorbar": {
             "outlinewidth": 0,
             "ticks": ""
            },
            "type": "choropleth"
           }
          ],
          "contour": [
           {
            "colorbar": {
             "outlinewidth": 0,
             "ticks": ""
            },
            "colorscale": [
             [
              0,
              "#0d0887"
             ],
             [
              0.1111111111111111,
              "#46039f"
             ],
             [
              0.2222222222222222,
              "#7201a8"
             ],
             [
              0.3333333333333333,
              "#9c179e"
             ],
             [
              0.4444444444444444,
              "#bd3786"
             ],
             [
              0.5555555555555556,
              "#d8576b"
             ],
             [
              0.6666666666666666,
              "#ed7953"
             ],
             [
              0.7777777777777778,
              "#fb9f3a"
             ],
             [
              0.8888888888888888,
              "#fdca26"
             ],
             [
              1,
              "#f0f921"
             ]
            ],
            "type": "contour"
           }
          ],
          "contourcarpet": [
           {
            "colorbar": {
             "outlinewidth": 0,
             "ticks": ""
            },
            "type": "contourcarpet"
           }
          ],
          "heatmap": [
           {
            "colorbar": {
             "outlinewidth": 0,
             "ticks": ""
            },
            "colorscale": [
             [
              0,
              "#0d0887"
             ],
             [
              0.1111111111111111,
              "#46039f"
             ],
             [
              0.2222222222222222,
              "#7201a8"
             ],
             [
              0.3333333333333333,
              "#9c179e"
             ],
             [
              0.4444444444444444,
              "#bd3786"
             ],
             [
              0.5555555555555556,
              "#d8576b"
             ],
             [
              0.6666666666666666,
              "#ed7953"
             ],
             [
              0.7777777777777778,
              "#fb9f3a"
             ],
             [
              0.8888888888888888,
              "#fdca26"
             ],
             [
              1,
              "#f0f921"
             ]
            ],
            "type": "heatmap"
           }
          ],
          "heatmapgl": [
           {
            "colorbar": {
             "outlinewidth": 0,
             "ticks": ""
            },
            "colorscale": [
             [
              0,
              "#0d0887"
             ],
             [
              0.1111111111111111,
              "#46039f"
             ],
             [
              0.2222222222222222,
              "#7201a8"
             ],
             [
              0.3333333333333333,
              "#9c179e"
             ],
             [
              0.4444444444444444,
              "#bd3786"
             ],
             [
              0.5555555555555556,
              "#d8576b"
             ],
             [
              0.6666666666666666,
              "#ed7953"
             ],
             [
              0.7777777777777778,
              "#fb9f3a"
             ],
             [
              0.8888888888888888,
              "#fdca26"
             ],
             [
              1,
              "#f0f921"
             ]
            ],
            "type": "heatmapgl"
           }
          ],
          "histogram": [
           {
            "marker": {
             "pattern": {
              "fillmode": "overlay",
              "size": 10,
              "solidity": 0.2
             }
            },
            "type": "histogram"
           }
          ],
          "histogram2d": [
           {
            "colorbar": {
             "outlinewidth": 0,
             "ticks": ""
            },
            "colorscale": [
             [
              0,
              "#0d0887"
             ],
             [
              0.1111111111111111,
              "#46039f"
             ],
             [
              0.2222222222222222,
              "#7201a8"
             ],
             [
              0.3333333333333333,
              "#9c179e"
             ],
             [
              0.4444444444444444,
              "#bd3786"
             ],
             [
              0.5555555555555556,
              "#d8576b"
             ],
             [
              0.6666666666666666,
              "#ed7953"
             ],
             [
              0.7777777777777778,
              "#fb9f3a"
             ],
             [
              0.8888888888888888,
              "#fdca26"
             ],
             [
              1,
              "#f0f921"
             ]
            ],
            "type": "histogram2d"
           }
          ],
          "histogram2dcontour": [
           {
            "colorbar": {
             "outlinewidth": 0,
             "ticks": ""
            },
            "colorscale": [
             [
              0,
              "#0d0887"
             ],
             [
              0.1111111111111111,
              "#46039f"
             ],
             [
              0.2222222222222222,
              "#7201a8"
             ],
             [
              0.3333333333333333,
              "#9c179e"
             ],
             [
              0.4444444444444444,
              "#bd3786"
             ],
             [
              0.5555555555555556,
              "#d8576b"
             ],
             [
              0.6666666666666666,
              "#ed7953"
             ],
             [
              0.7777777777777778,
              "#fb9f3a"
             ],
             [
              0.8888888888888888,
              "#fdca26"
             ],
             [
              1,
              "#f0f921"
             ]
            ],
            "type": "histogram2dcontour"
           }
          ],
          "mesh3d": [
           {
            "colorbar": {
             "outlinewidth": 0,
             "ticks": ""
            },
            "type": "mesh3d"
           }
          ],
          "parcoords": [
           {
            "line": {
             "colorbar": {
              "outlinewidth": 0,
              "ticks": ""
             }
            },
            "type": "parcoords"
           }
          ],
          "pie": [
           {
            "automargin": true,
            "type": "pie"
           }
          ],
          "scatter": [
           {
            "fillpattern": {
             "fillmode": "overlay",
             "size": 10,
             "solidity": 0.2
            },
            "type": "scatter"
           }
          ],
          "scatter3d": [
           {
            "line": {
             "colorbar": {
              "outlinewidth": 0,
              "ticks": ""
             }
            },
            "marker": {
             "colorbar": {
              "outlinewidth": 0,
              "ticks": ""
             }
            },
            "type": "scatter3d"
           }
          ],
          "scattercarpet": [
           {
            "marker": {
             "colorbar": {
              "outlinewidth": 0,
              "ticks": ""
             }
            },
            "type": "scattercarpet"
           }
          ],
          "scattergeo": [
           {
            "marker": {
             "colorbar": {
              "outlinewidth": 0,
              "ticks": ""
             }
            },
            "type": "scattergeo"
           }
          ],
          "scattergl": [
           {
            "marker": {
             "colorbar": {
              "outlinewidth": 0,
              "ticks": ""
             }
            },
            "type": "scattergl"
           }
          ],
          "scattermapbox": [
           {
            "marker": {
             "colorbar": {
              "outlinewidth": 0,
              "ticks": ""
             }
            },
            "type": "scattermapbox"
           }
          ],
          "scatterpolar": [
           {
            "marker": {
             "colorbar": {
              "outlinewidth": 0,
              "ticks": ""
             }
            },
            "type": "scatterpolar"
           }
          ],
          "scatterpolargl": [
           {
            "marker": {
             "colorbar": {
              "outlinewidth": 0,
              "ticks": ""
             }
            },
            "type": "scatterpolargl"
           }
          ],
          "scatterternary": [
           {
            "marker": {
             "colorbar": {
              "outlinewidth": 0,
              "ticks": ""
             }
            },
            "type": "scatterternary"
           }
          ],
          "surface": [
           {
            "colorbar": {
             "outlinewidth": 0,
             "ticks": ""
            },
            "colorscale": [
             [
              0,
              "#0d0887"
             ],
             [
              0.1111111111111111,
              "#46039f"
             ],
             [
              0.2222222222222222,
              "#7201a8"
             ],
             [
              0.3333333333333333,
              "#9c179e"
             ],
             [
              0.4444444444444444,
              "#bd3786"
             ],
             [
              0.5555555555555556,
              "#d8576b"
             ],
             [
              0.6666666666666666,
              "#ed7953"
             ],
             [
              0.7777777777777778,
              "#fb9f3a"
             ],
             [
              0.8888888888888888,
              "#fdca26"
             ],
             [
              1,
              "#f0f921"
             ]
            ],
            "type": "surface"
           }
          ],
          "table": [
           {
            "cells": {
             "fill": {
              "color": "#EBF0F8"
             },
             "line": {
              "color": "white"
             }
            },
            "header": {
             "fill": {
              "color": "#C8D4E3"
             },
             "line": {
              "color": "white"
             }
            },
            "type": "table"
           }
          ]
         },
         "layout": {
          "annotationdefaults": {
           "arrowcolor": "#2a3f5f",
           "arrowhead": 0,
           "arrowwidth": 1
          },
          "autotypenumbers": "strict",
          "coloraxis": {
           "colorbar": {
            "outlinewidth": 0,
            "ticks": ""
           }
          },
          "colorscale": {
           "diverging": [
            [
             0,
             "#8e0152"
            ],
            [
             0.1,
             "#c51b7d"
            ],
            [
             0.2,
             "#de77ae"
            ],
            [
             0.3,
             "#f1b6da"
            ],
            [
             0.4,
             "#fde0ef"
            ],
            [
             0.5,
             "#f7f7f7"
            ],
            [
             0.6,
             "#e6f5d0"
            ],
            [
             0.7,
             "#b8e186"
            ],
            [
             0.8,
             "#7fbc41"
            ],
            [
             0.9,
             "#4d9221"
            ],
            [
             1,
             "#276419"
            ]
           ],
           "sequential": [
            [
             0,
             "#0d0887"
            ],
            [
             0.1111111111111111,
             "#46039f"
            ],
            [
             0.2222222222222222,
             "#7201a8"
            ],
            [
             0.3333333333333333,
             "#9c179e"
            ],
            [
             0.4444444444444444,
             "#bd3786"
            ],
            [
             0.5555555555555556,
             "#d8576b"
            ],
            [
             0.6666666666666666,
             "#ed7953"
            ],
            [
             0.7777777777777778,
             "#fb9f3a"
            ],
            [
             0.8888888888888888,
             "#fdca26"
            ],
            [
             1,
             "#f0f921"
            ]
           ],
           "sequentialminus": [
            [
             0,
             "#0d0887"
            ],
            [
             0.1111111111111111,
             "#46039f"
            ],
            [
             0.2222222222222222,
             "#7201a8"
            ],
            [
             0.3333333333333333,
             "#9c179e"
            ],
            [
             0.4444444444444444,
             "#bd3786"
            ],
            [
             0.5555555555555556,
             "#d8576b"
            ],
            [
             0.6666666666666666,
             "#ed7953"
            ],
            [
             0.7777777777777778,
             "#fb9f3a"
            ],
            [
             0.8888888888888888,
             "#fdca26"
            ],
            [
             1,
             "#f0f921"
            ]
           ]
          },
          "colorway": [
           "#636efa",
           "#EF553B",
           "#00cc96",
           "#ab63fa",
           "#FFA15A",
           "#19d3f3",
           "#FF6692",
           "#B6E880",
           "#FF97FF",
           "#FECB52"
          ],
          "font": {
           "color": "#2a3f5f"
          },
          "geo": {
           "bgcolor": "white",
           "lakecolor": "white",
           "landcolor": "#E5ECF6",
           "showlakes": true,
           "showland": true,
           "subunitcolor": "white"
          },
          "hoverlabel": {
           "align": "left"
          },
          "hovermode": "closest",
          "mapbox": {
           "style": "light"
          },
          "paper_bgcolor": "white",
          "plot_bgcolor": "#E5ECF6",
          "polar": {
           "angularaxis": {
            "gridcolor": "white",
            "linecolor": "white",
            "ticks": ""
           },
           "bgcolor": "#E5ECF6",
           "radialaxis": {
            "gridcolor": "white",
            "linecolor": "white",
            "ticks": ""
           }
          },
          "scene": {
           "xaxis": {
            "backgroundcolor": "#E5ECF6",
            "gridcolor": "white",
            "gridwidth": 2,
            "linecolor": "white",
            "showbackground": true,
            "ticks": "",
            "zerolinecolor": "white"
           },
           "yaxis": {
            "backgroundcolor": "#E5ECF6",
            "gridcolor": "white",
            "gridwidth": 2,
            "linecolor": "white",
            "showbackground": true,
            "ticks": "",
            "zerolinecolor": "white"
           },
           "zaxis": {
            "backgroundcolor": "#E5ECF6",
            "gridcolor": "white",
            "gridwidth": 2,
            "linecolor": "white",
            "showbackground": true,
            "ticks": "",
            "zerolinecolor": "white"
           }
          },
          "shapedefaults": {
           "line": {
            "color": "#2a3f5f"
           }
          },
          "ternary": {
           "aaxis": {
            "gridcolor": "white",
            "linecolor": "white",
            "ticks": ""
           },
           "baxis": {
            "gridcolor": "white",
            "linecolor": "white",
            "ticks": ""
           },
           "bgcolor": "#E5ECF6",
           "caxis": {
            "gridcolor": "white",
            "linecolor": "white",
            "ticks": ""
           }
          },
          "title": {
           "x": 0.05
          },
          "xaxis": {
           "automargin": true,
           "gridcolor": "white",
           "linecolor": "white",
           "ticks": "",
           "title": {
            "standoff": 15
           },
           "zerolinecolor": "white",
           "zerolinewidth": 2
          },
          "yaxis": {
           "automargin": true,
           "gridcolor": "white",
           "linecolor": "white",
           "ticks": "",
           "title": {
            "standoff": 15
           },
           "zerolinecolor": "white",
           "zerolinewidth": 2
          }
         }
        },
        "width": 800
       }
      },
      "text/html": [
       "<div>                            <div id=\"bccd758f-421f-4a4f-8038-cd8c4b316706\" class=\"plotly-graph-div\" style=\"height:525px; width:800px;\"></div>            <script type=\"text/javascript\">                require([\"plotly\"], function(Plotly) {                    window.PLOTLYENV=window.PLOTLYENV || {};                                    if (document.getElementById(\"bccd758f-421f-4a4f-8038-cd8c4b316706\")) {                    Plotly.newPlot(                        \"bccd758f-421f-4a4f-8038-cd8c4b316706\",                        [{\"hovertemplate\":\"class=%{marker.color}<br>order_total=%{x}<br>frequency=%{y}<br>recency=%{z}<extra></extra>\",\"legendgroup\":\"4\",\"marker\":{\"color\":[4,4,4,4,4,4,4,4,4],\"coloraxis\":\"coloraxis\",\"symbol\":\"circle\"},\"mode\":\"markers\",\"name\":\"4\",\"scene\":\"scene\",\"showlegend\":true,\"x\":[1322278.5,1346264.5,1411522.5,1452225.0,1429960.9,1398008.6,1408621.4,1450060.9,1413988.1],\"y\":[152,135,142,157,151,144,145,152,150],\"z\":[7,7,3,3,21,1,6,2,6],\"type\":\"scatter3d\"},{\"hovertemplate\":\"class=%{marker.color}<br>order_total=%{x}<br>frequency=%{y}<br>recency=%{z}<extra></extra>\",\"legendgroup\":\"1\",\"marker\":{\"color\":[1,1,1,1,1,1,1,1,1,1,1],\"coloraxis\":\"coloraxis\",\"symbol\":\"diamond\"},\"mode\":\"markers\",\"name\":\"1\",\"scene\":\"scene\",\"showlegend\":true,\"x\":[1831947.5,1830038.0,1883410.2,1868321.8,1962014.6,1845783.0,1881628.0,1856355.6,1895188.8,1937827.6,1823941.0],\"y\":[181,171,178,171,175,186,164,173,156,176,176],\"z\":[8,6,4,2,4,4,1,0,2,13,2],\"type\":\"scatter3d\"},{\"hovertemplate\":\"class=%{marker.color}<br>order_total=%{x}<br>frequency=%{y}<br>recency=%{z}<extra></extra>\",\"legendgroup\":\"5\",\"marker\":{\"color\":[5,5,5,5,5],\"coloraxis\":\"coloraxis\",\"symbol\":\"square\"},\"mode\":\"markers\",\"name\":\"5\",\"scene\":\"scene\",\"showlegend\":true,\"x\":[1770582.2,1763942.5,1723534.8,1793523.0,1762783.4],\"y\":[167,158,165,164,162],\"z\":[3,13,1,10,3],\"type\":\"scatter3d\"},{\"hovertemplate\":\"class=%{marker.color}<br>order_total=%{x}<br>frequency=%{y}<br>recency=%{z}<extra></extra>\",\"legendgroup\":\"3\",\"marker\":{\"color\":[3,3,3,3,3,3,3,3,3],\"coloraxis\":\"coloraxis\",\"symbol\":\"x\"},\"mode\":\"markers\",\"name\":\"3\",\"scene\":\"scene\",\"showlegend\":true,\"x\":[1609232.8,1640367.7,1620904.2,1622257.6,1636897.1,1653814.6,1630029.6,1670109.0,1696225.6],\"y\":[159,159,156,152,150,161,156,172,163],\"z\":[28,2,2,9,7,0,3,8,14],\"type\":\"scatter3d\"},{\"hovertemplate\":\"class=%{marker.color}<br>order_total=%{x}<br>frequency=%{y}<br>recency=%{z}<extra></extra>\",\"legendgroup\":\"0\",\"marker\":{\"color\":[0,0,0,0,0,0,0,0,0,0,0,0,0,0],\"coloraxis\":\"coloraxis\",\"symbol\":\"cross\"},\"mode\":\"markers\",\"name\":\"0\",\"scene\":\"scene\",\"showlegend\":true,\"x\":[1530755.7,1544061.9,1512726.0,1547773.7,1523888.2,1494033.0,1561783.4000000001,1555070.0,1533047.1,1564275.8,1529991.9,1508082.9,1579625.5,1503466.6],\"y\":[143,153,142,135,167,140,153,145,161,151,156,157,168,152],\"z\":[2,1,2,1,7,2,9,8,0,3,1,2,6,5],\"type\":\"scatter3d\"},{\"hovertemplate\":\"class=%{marker.color}<br>order_total=%{x}<br>frequency=%{y}<br>recency=%{z}<extra></extra>\",\"legendgroup\":\"2\",\"marker\":{\"color\":[2,2],\"coloraxis\":\"coloraxis\",\"symbol\":\"circle\"},\"mode\":\"markers\",\"name\":\"2\",\"scene\":\"scene\",\"showlegend\":true,\"x\":[2248332.4,2112221.9],\"y\":[210,179],\"z\":[1,0],\"type\":\"scatter3d\"}],                        {\"template\":{\"data\":{\"histogram2dcontour\":[{\"type\":\"histogram2dcontour\",\"colorbar\":{\"outlinewidth\":0,\"ticks\":\"\"},\"colorscale\":[[0.0,\"#0d0887\"],[0.1111111111111111,\"#46039f\"],[0.2222222222222222,\"#7201a8\"],[0.3333333333333333,\"#9c179e\"],[0.4444444444444444,\"#bd3786\"],[0.5555555555555556,\"#d8576b\"],[0.6666666666666666,\"#ed7953\"],[0.7777777777777778,\"#fb9f3a\"],[0.8888888888888888,\"#fdca26\"],[1.0,\"#f0f921\"]]}],\"choropleth\":[{\"type\":\"choropleth\",\"colorbar\":{\"outlinewidth\":0,\"ticks\":\"\"}}],\"histogram2d\":[{\"type\":\"histogram2d\",\"colorbar\":{\"outlinewidth\":0,\"ticks\":\"\"},\"colorscale\":[[0.0,\"#0d0887\"],[0.1111111111111111,\"#46039f\"],[0.2222222222222222,\"#7201a8\"],[0.3333333333333333,\"#9c179e\"],[0.4444444444444444,\"#bd3786\"],[0.5555555555555556,\"#d8576b\"],[0.6666666666666666,\"#ed7953\"],[0.7777777777777778,\"#fb9f3a\"],[0.8888888888888888,\"#fdca26\"],[1.0,\"#f0f921\"]]}],\"heatmap\":[{\"type\":\"heatmap\",\"colorbar\":{\"outlinewidth\":0,\"ticks\":\"\"},\"colorscale\":[[0.0,\"#0d0887\"],[0.1111111111111111,\"#46039f\"],[0.2222222222222222,\"#7201a8\"],[0.3333333333333333,\"#9c179e\"],[0.4444444444444444,\"#bd3786\"],[0.5555555555555556,\"#d8576b\"],[0.6666666666666666,\"#ed7953\"],[0.7777777777777778,\"#fb9f3a\"],[0.8888888888888888,\"#fdca26\"],[1.0,\"#f0f921\"]]}],\"heatmapgl\":[{\"type\":\"heatmapgl\",\"colorbar\":{\"outlinewidth\":0,\"ticks\":\"\"},\"colorscale\":[[0.0,\"#0d0887\"],[0.1111111111111111,\"#46039f\"],[0.2222222222222222,\"#7201a8\"],[0.3333333333333333,\"#9c179e\"],[0.4444444444444444,\"#bd3786\"],[0.5555555555555556,\"#d8576b\"],[0.6666666666666666,\"#ed7953\"],[0.7777777777777778,\"#fb9f3a\"],[0.8888888888888888,\"#fdca26\"],[1.0,\"#f0f921\"]]}],\"contourcarpet\":[{\"type\":\"contourcarpet\",\"colorbar\":{\"outlinewidth\":0,\"ticks\":\"\"}}],\"contour\":[{\"type\":\"contour\",\"colorbar\":{\"outlinewidth\":0,\"ticks\":\"\"},\"colorscale\":[[0.0,\"#0d0887\"],[0.1111111111111111,\"#46039f\"],[0.2222222222222222,\"#7201a8\"],[0.3333333333333333,\"#9c179e\"],[0.4444444444444444,\"#bd3786\"],[0.5555555555555556,\"#d8576b\"],[0.6666666666666666,\"#ed7953\"],[0.7777777777777778,\"#fb9f3a\"],[0.8888888888888888,\"#fdca26\"],[1.0,\"#f0f921\"]]}],\"surface\":[{\"type\":\"surface\",\"colorbar\":{\"outlinewidth\":0,\"ticks\":\"\"},\"colorscale\":[[0.0,\"#0d0887\"],[0.1111111111111111,\"#46039f\"],[0.2222222222222222,\"#7201a8\"],[0.3333333333333333,\"#9c179e\"],[0.4444444444444444,\"#bd3786\"],[0.5555555555555556,\"#d8576b\"],[0.6666666666666666,\"#ed7953\"],[0.7777777777777778,\"#fb9f3a\"],[0.8888888888888888,\"#fdca26\"],[1.0,\"#f0f921\"]]}],\"mesh3d\":[{\"type\":\"mesh3d\",\"colorbar\":{\"outlinewidth\":0,\"ticks\":\"\"}}],\"scatter\":[{\"fillpattern\":{\"fillmode\":\"overlay\",\"size\":10,\"solidity\":0.2},\"type\":\"scatter\"}],\"parcoords\":[{\"type\":\"parcoords\",\"line\":{\"colorbar\":{\"outlinewidth\":0,\"ticks\":\"\"}}}],\"scatterpolargl\":[{\"type\":\"scatterpolargl\",\"marker\":{\"colorbar\":{\"outlinewidth\":0,\"ticks\":\"\"}}}],\"bar\":[{\"error_x\":{\"color\":\"#2a3f5f\"},\"error_y\":{\"color\":\"#2a3f5f\"},\"marker\":{\"line\":{\"color\":\"#E5ECF6\",\"width\":0.5},\"pattern\":{\"fillmode\":\"overlay\",\"size\":10,\"solidity\":0.2}},\"type\":\"bar\"}],\"scattergeo\":[{\"type\":\"scattergeo\",\"marker\":{\"colorbar\":{\"outlinewidth\":0,\"ticks\":\"\"}}}],\"scatterpolar\":[{\"type\":\"scatterpolar\",\"marker\":{\"colorbar\":{\"outlinewidth\":0,\"ticks\":\"\"}}}],\"histogram\":[{\"marker\":{\"pattern\":{\"fillmode\":\"overlay\",\"size\":10,\"solidity\":0.2}},\"type\":\"histogram\"}],\"scattergl\":[{\"type\":\"scattergl\",\"marker\":{\"colorbar\":{\"outlinewidth\":0,\"ticks\":\"\"}}}],\"scatter3d\":[{\"type\":\"scatter3d\",\"line\":{\"colorbar\":{\"outlinewidth\":0,\"ticks\":\"\"}},\"marker\":{\"colorbar\":{\"outlinewidth\":0,\"ticks\":\"\"}}}],\"scattermapbox\":[{\"type\":\"scattermapbox\",\"marker\":{\"colorbar\":{\"outlinewidth\":0,\"ticks\":\"\"}}}],\"scatterternary\":[{\"type\":\"scatterternary\",\"marker\":{\"colorbar\":{\"outlinewidth\":0,\"ticks\":\"\"}}}],\"scattercarpet\":[{\"type\":\"scattercarpet\",\"marker\":{\"colorbar\":{\"outlinewidth\":0,\"ticks\":\"\"}}}],\"carpet\":[{\"aaxis\":{\"endlinecolor\":\"#2a3f5f\",\"gridcolor\":\"white\",\"linecolor\":\"white\",\"minorgridcolor\":\"white\",\"startlinecolor\":\"#2a3f5f\"},\"baxis\":{\"endlinecolor\":\"#2a3f5f\",\"gridcolor\":\"white\",\"linecolor\":\"white\",\"minorgridcolor\":\"white\",\"startlinecolor\":\"#2a3f5f\"},\"type\":\"carpet\"}],\"table\":[{\"cells\":{\"fill\":{\"color\":\"#EBF0F8\"},\"line\":{\"color\":\"white\"}},\"header\":{\"fill\":{\"color\":\"#C8D4E3\"},\"line\":{\"color\":\"white\"}},\"type\":\"table\"}],\"barpolar\":[{\"marker\":{\"line\":{\"color\":\"#E5ECF6\",\"width\":0.5},\"pattern\":{\"fillmode\":\"overlay\",\"size\":10,\"solidity\":0.2}},\"type\":\"barpolar\"}],\"pie\":[{\"automargin\":true,\"type\":\"pie\"}]},\"layout\":{\"autotypenumbers\":\"strict\",\"colorway\":[\"#636efa\",\"#EF553B\",\"#00cc96\",\"#ab63fa\",\"#FFA15A\",\"#19d3f3\",\"#FF6692\",\"#B6E880\",\"#FF97FF\",\"#FECB52\"],\"font\":{\"color\":\"#2a3f5f\"},\"hovermode\":\"closest\",\"hoverlabel\":{\"align\":\"left\"},\"paper_bgcolor\":\"white\",\"plot_bgcolor\":\"#E5ECF6\",\"polar\":{\"bgcolor\":\"#E5ECF6\",\"angularaxis\":{\"gridcolor\":\"white\",\"linecolor\":\"white\",\"ticks\":\"\"},\"radialaxis\":{\"gridcolor\":\"white\",\"linecolor\":\"white\",\"ticks\":\"\"}},\"ternary\":{\"bgcolor\":\"#E5ECF6\",\"aaxis\":{\"gridcolor\":\"white\",\"linecolor\":\"white\",\"ticks\":\"\"},\"baxis\":{\"gridcolor\":\"white\",\"linecolor\":\"white\",\"ticks\":\"\"},\"caxis\":{\"gridcolor\":\"white\",\"linecolor\":\"white\",\"ticks\":\"\"}},\"coloraxis\":{\"colorbar\":{\"outlinewidth\":0,\"ticks\":\"\"}},\"colorscale\":{\"sequential\":[[0.0,\"#0d0887\"],[0.1111111111111111,\"#46039f\"],[0.2222222222222222,\"#7201a8\"],[0.3333333333333333,\"#9c179e\"],[0.4444444444444444,\"#bd3786\"],[0.5555555555555556,\"#d8576b\"],[0.6666666666666666,\"#ed7953\"],[0.7777777777777778,\"#fb9f3a\"],[0.8888888888888888,\"#fdca26\"],[1.0,\"#f0f921\"]],\"sequentialminus\":[[0.0,\"#0d0887\"],[0.1111111111111111,\"#46039f\"],[0.2222222222222222,\"#7201a8\"],[0.3333333333333333,\"#9c179e\"],[0.4444444444444444,\"#bd3786\"],[0.5555555555555556,\"#d8576b\"],[0.6666666666666666,\"#ed7953\"],[0.7777777777777778,\"#fb9f3a\"],[0.8888888888888888,\"#fdca26\"],[1.0,\"#f0f921\"]],\"diverging\":[[0,\"#8e0152\"],[0.1,\"#c51b7d\"],[0.2,\"#de77ae\"],[0.3,\"#f1b6da\"],[0.4,\"#fde0ef\"],[0.5,\"#f7f7f7\"],[0.6,\"#e6f5d0\"],[0.7,\"#b8e186\"],[0.8,\"#7fbc41\"],[0.9,\"#4d9221\"],[1,\"#276419\"]]},\"xaxis\":{\"gridcolor\":\"white\",\"linecolor\":\"white\",\"ticks\":\"\",\"title\":{\"standoff\":15},\"zerolinecolor\":\"white\",\"automargin\":true,\"zerolinewidth\":2},\"yaxis\":{\"gridcolor\":\"white\",\"linecolor\":\"white\",\"ticks\":\"\",\"title\":{\"standoff\":15},\"zerolinecolor\":\"white\",\"automargin\":true,\"zerolinewidth\":2},\"scene\":{\"xaxis\":{\"backgroundcolor\":\"#E5ECF6\",\"gridcolor\":\"white\",\"linecolor\":\"white\",\"showbackground\":true,\"ticks\":\"\",\"zerolinecolor\":\"white\",\"gridwidth\":2},\"yaxis\":{\"backgroundcolor\":\"#E5ECF6\",\"gridcolor\":\"white\",\"linecolor\":\"white\",\"showbackground\":true,\"ticks\":\"\",\"zerolinecolor\":\"white\",\"gridwidth\":2},\"zaxis\":{\"backgroundcolor\":\"#E5ECF6\",\"gridcolor\":\"white\",\"linecolor\":\"white\",\"showbackground\":true,\"ticks\":\"\",\"zerolinecolor\":\"white\",\"gridwidth\":2}},\"shapedefaults\":{\"line\":{\"color\":\"#2a3f5f\"}},\"annotationdefaults\":{\"arrowcolor\":\"#2a3f5f\",\"arrowhead\":0,\"arrowwidth\":1},\"geo\":{\"bgcolor\":\"white\",\"landcolor\":\"#E5ECF6\",\"subunitcolor\":\"white\",\"showland\":true,\"showlakes\":true,\"lakecolor\":\"white\"},\"title\":{\"x\":0.05},\"mapbox\":{\"style\":\"light\"}}},\"scene\":{\"domain\":{\"x\":[0.0,1.0],\"y\":[0.0,1.0]},\"xaxis\":{\"title\":{\"text\":\"order_total\"}},\"yaxis\":{\"title\":{\"text\":\"frequency\"}},\"zaxis\":{\"title\":{\"text\":\"recency\"}}},\"coloraxis\":{\"colorbar\":{\"title\":{\"text\":\"class\"}},\"colorscale\":[[0.0,\"#0d0887\"],[0.1111111111111111,\"#46039f\"],[0.2222222222222222,\"#7201a8\"],[0.3333333333333333,\"#9c179e\"],[0.4444444444444444,\"#bd3786\"],[0.5555555555555556,\"#d8576b\"],[0.6666666666666666,\"#ed7953\"],[0.7777777777777778,\"#fb9f3a\"],[0.8888888888888888,\"#fdca26\"],[1.0,\"#f0f921\"]]},\"legend\":{\"title\":{\"text\":\"class\"},\"tracegroupgap\":0,\"x\":0,\"y\":1},\"margin\":{\"t\":60},\"width\":800},                        {\"responsive\": true}                    ).then(function(){\n",
       "                            \n",
       "var gd = document.getElementById('bccd758f-421f-4a4f-8038-cd8c4b316706');\n",
       "var x = new MutationObserver(function (mutations, observer) {{\n",
       "        var display = window.getComputedStyle(gd).display;\n",
       "        if (!display || display === 'none') {{\n",
       "            console.log([gd, 'removed!']);\n",
       "            Plotly.purge(gd);\n",
       "            observer.disconnect();\n",
       "        }}\n",
       "}});\n",
       "\n",
       "// Listen for the removal of the full notebook cells\n",
       "var notebookContainer = gd.closest('#notebook-container');\n",
       "if (notebookContainer) {{\n",
       "    x.observe(notebookContainer, {childList: true});\n",
       "}}\n",
       "\n",
       "// Listen for the clearing of the current output cell\n",
       "var outputEl = gd.closest('.output');\n",
       "if (outputEl) {{\n",
       "    x.observe(outputEl, {childList: true});\n",
       "}}\n",
       "\n",
       "                        })                };                });            </script>        </div>"
      ]
     },
     "metadata": {},
     "output_type": "display_data"
    }
   ],
   "source": [
    "# Plot a 3D graph for K = 6:\n",
    "# Plot the 3D-scatter with x=\"order_total\", y=\"frequency\" and z=\"recency\"\n",
    "fig = px.scatter_3d(\n",
    "    six_clusters,\n",
    "    x=\"order_total\",\n",
    "    y=\"frequency\",\n",
    "    z=\"recency\",\n",
    "    color=\"class\",\n",
    "    symbol=\"class\",\n",
    "    width=800,\n",
    ")\n",
    "fig.update_layout(legend=dict(x=0, y=1))\n",
    "fig.show()"
   ]
  },
  {
   "cell_type": "code",
   "execution_count": null,
   "id": "ea198b69",
   "metadata": {},
   "outputs": [],
   "source": []
  }
 ],
 "metadata": {
  "kernelspec": {
   "display_name": "mlenv",
   "language": "python",
   "name": "mlenv"
  },
  "language_info": {
   "codemirror_mode": {
    "name": "ipython",
    "version": 3
   },
   "file_extension": ".py",
   "mimetype": "text/x-python",
   "name": "python",
   "nbconvert_exporter": "python",
   "pygments_lexer": "ipython3",
   "version": "3.7.11"
  }
 },
 "nbformat": 4,
 "nbformat_minor": 5
}
